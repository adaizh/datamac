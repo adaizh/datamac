{
 "cells": [
  {
   "cell_type": "code",
   "execution_count": 2,
   "id": "965104cf-ac3b-4a00-8604-eb80e9c3a7c4",
   "metadata": {},
   "outputs": [
    {
     "name": "stderr",
     "output_type": "stream",
     "text": [
      "── \u001b[1mAttaching packages\u001b[22m ─────────────────────────────────────── tidyverse 1.3.1 ──\n",
      "\n",
      "\u001b[32m✔\u001b[39m \u001b[34mggplot2\u001b[39m 3.3.5     \u001b[32m✔\u001b[39m \u001b[34mpurrr  \u001b[39m 0.3.4\n",
      "\u001b[32m✔\u001b[39m \u001b[34mtibble \u001b[39m 3.1.4     \u001b[32m✔\u001b[39m \u001b[34mdplyr  \u001b[39m 1.0.7\n",
      "\u001b[32m✔\u001b[39m \u001b[34mtidyr  \u001b[39m 1.1.3     \u001b[32m✔\u001b[39m \u001b[34mstringr\u001b[39m 1.4.0\n",
      "\u001b[32m✔\u001b[39m \u001b[34mreadr  \u001b[39m 2.0.0     \u001b[32m✔\u001b[39m \u001b[34mforcats\u001b[39m 0.5.1\n",
      "\n",
      "── \u001b[1mConflicts\u001b[22m ────────────────────────────────────────── tidyverse_conflicts() ──\n",
      "\u001b[31m✖\u001b[39m \u001b[34mdplyr\u001b[39m::\u001b[32mfilter()\u001b[39m masks \u001b[34mstats\u001b[39m::filter()\n",
      "\u001b[31m✖\u001b[39m \u001b[34mdplyr\u001b[39m::\u001b[32mlag()\u001b[39m    masks \u001b[34mstats\u001b[39m::lag()\n",
      "\n"
     ]
    }
   ],
   "source": [
    "library(tidyverse)"
   ]
  },
  {
   "cell_type": "code",
   "execution_count": 3,
   "id": "12b48fae-edb0-4eff-a878-cfd621872a06",
   "metadata": {},
   "outputs": [],
   "source": [
    "earthquake_df <- read_csv(file=\"earthquakes 01012005 - 30122010.csv\", show_col_types = FALSE)"
   ]
  },
  {
   "cell_type": "code",
   "execution_count": 4,
   "id": "e37df38d-15ba-424c-bacb-95b3d55d33de",
   "metadata": {},
   "outputs": [
    {
     "data": {
      "text/html": [
       "<table class=\"dataframe\">\n",
       "<caption>A tibble: 6 × 21</caption>\n",
       "<thead>\n",
       "\t<tr><th scope=col>publicid</th><th scope=col>eventtype</th><th scope=col>origintime</th><th scope=col>modificationtime</th><th scope=col>longitude</th><th scope=col>latitude</th><th scope=col>magnitude</th><th scope=col>depth</th><th scope=col>magnitudetype</th><th scope=col>depthtype</th><th scope=col>⋯</th><th scope=col>evaluationstatus</th><th scope=col>evaluationmode</th><th scope=col>earthmodel</th><th scope=col>usedphasecount</th><th scope=col>usedstationcount</th><th scope=col>magnitudestationcount</th><th scope=col>minimumdistance</th><th scope=col>azimuthalgap</th><th scope=col>originerror</th><th scope=col>magnitudeuncertainty</th></tr>\n",
       "\t<tr><th scope=col>&lt;dbl&gt;</th><th scope=col>&lt;chr&gt;</th><th scope=col>&lt;dttm&gt;</th><th scope=col>&lt;dttm&gt;</th><th scope=col>&lt;dbl&gt;</th><th scope=col>&lt;dbl&gt;</th><th scope=col>&lt;dbl&gt;</th><th scope=col>&lt;dbl&gt;</th><th scope=col>&lt;chr&gt;</th><th scope=col>&lt;chr&gt;</th><th scope=col>⋯</th><th scope=col>&lt;chr&gt;</th><th scope=col>&lt;chr&gt;</th><th scope=col>&lt;chr&gt;</th><th scope=col>&lt;dbl&gt;</th><th scope=col>&lt;dbl&gt;</th><th scope=col>&lt;dbl&gt;</th><th scope=col>&lt;dbl&gt;</th><th scope=col>&lt;dbl&gt;</th><th scope=col>&lt;dbl&gt;</th><th scope=col>&lt;dbl&gt;</th></tr>\n",
       "</thead>\n",
       "<tbody>\n",
       "\t<tr><td>3439534</td><td>earthquake</td><td>2010-12-30 23:43:20</td><td>2013-08-14 12:08:00</td><td>172.4869</td><td>-43.37156</td><td>3.033</td><td>7.5759</td><td>ML</td><td>NA               </td><td>⋯</td><td>reviewed</td><td>manual</td><td>nz1dr</td><td>13</td><td> 8</td><td> 4</td><td>0.006</td><td> 68</td><td>0.16104</td><td>0.202</td></tr>\n",
       "\t<tr><td>3439523</td><td>earthquake</td><td>2010-12-30 23:02:16</td><td>2013-08-14 12:08:00</td><td>171.8956</td><td>-43.57590</td><td>2.837</td><td>5.0000</td><td>ML</td><td>operator assigned</td><td>⋯</td><td>reviewed</td><td>manual</td><td>nz1dr</td><td>14</td><td>10</td><td> 4</td><td>0.269</td><td>107</td><td>0.16524</td><td>0.182</td></tr>\n",
       "\t<tr><td>3439500</td><td>earthquake</td><td>2010-12-30 21:44:12</td><td>2013-08-14 12:08:00</td><td>172.4701</td><td>-43.63620</td><td>2.757</td><td>5.0000</td><td>ML</td><td>operator assigned</td><td>⋯</td><td>reviewed</td><td>manual</td><td>nz1dr</td><td> 8</td><td> 4</td><td> 3</td><td>0.126</td><td>196</td><td>0.18608</td><td>0.188</td></tr>\n",
       "\t<tr><td>3439497</td><td>earthquake</td><td>2010-12-30 21:43:32</td><td>2013-08-14 12:08:00</td><td>172.5958</td><td>-43.54417</td><td>2.815</td><td>5.0000</td><td>ML</td><td>operator assigned</td><td>⋯</td><td>reviewed</td><td>manual</td><td>nz1dr</td><td>15</td><td> 8</td><td> 3</td><td>0.022</td><td> 95</td><td>0.17154</td><td>0.202</td></tr>\n",
       "\t<tr><td>3439485</td><td>earthquake</td><td>2010-12-30 21:11:14</td><td>2013-08-14 12:08:00</td><td>172.3977</td><td>-43.54365</td><td>2.651</td><td>5.0000</td><td>ML</td><td>operator assigned</td><td>⋯</td><td>reviewed</td><td>manual</td><td>nz1dr</td><td> 6</td><td> 4</td><td> 3</td><td>0.167</td><td>152</td><td>0.06705</td><td>0.200</td></tr>\n",
       "\t<tr><td>3439477</td><td>earthquake</td><td>2010-12-30 20:41:24</td><td>2013-08-14 12:08:00</td><td>172.4215</td><td>-43.53579</td><td>3.515</td><td>7.5605</td><td>ML</td><td>NA               </td><td>⋯</td><td>reviewed</td><td>manual</td><td>nz1dr</td><td>14</td><td> 8</td><td>14</td><td>0.040</td><td> 72</td><td>0.21194</td><td>0.225</td></tr>\n",
       "</tbody>\n",
       "</table>\n"
      ],
      "text/latex": [
       "A tibble: 6 × 21\n",
       "\\begin{tabular}{lllllllllllllllllllll}\n",
       " publicid & eventtype & origintime & modificationtime & longitude & latitude & magnitude & depth & magnitudetype & depthtype & ⋯ & evaluationstatus & evaluationmode & earthmodel & usedphasecount & usedstationcount & magnitudestationcount & minimumdistance & azimuthalgap & originerror & magnitudeuncertainty\\\\\n",
       " <dbl> & <chr> & <dttm> & <dttm> & <dbl> & <dbl> & <dbl> & <dbl> & <chr> & <chr> & ⋯ & <chr> & <chr> & <chr> & <dbl> & <dbl> & <dbl> & <dbl> & <dbl> & <dbl> & <dbl>\\\\\n",
       "\\hline\n",
       "\t 3439534 & earthquake & 2010-12-30 23:43:20 & 2013-08-14 12:08:00 & 172.4869 & -43.37156 & 3.033 & 7.5759 & ML & NA                & ⋯ & reviewed & manual & nz1dr & 13 &  8 &  4 & 0.006 &  68 & 0.16104 & 0.202\\\\\n",
       "\t 3439523 & earthquake & 2010-12-30 23:02:16 & 2013-08-14 12:08:00 & 171.8956 & -43.57590 & 2.837 & 5.0000 & ML & operator assigned & ⋯ & reviewed & manual & nz1dr & 14 & 10 &  4 & 0.269 & 107 & 0.16524 & 0.182\\\\\n",
       "\t 3439500 & earthquake & 2010-12-30 21:44:12 & 2013-08-14 12:08:00 & 172.4701 & -43.63620 & 2.757 & 5.0000 & ML & operator assigned & ⋯ & reviewed & manual & nz1dr &  8 &  4 &  3 & 0.126 & 196 & 0.18608 & 0.188\\\\\n",
       "\t 3439497 & earthquake & 2010-12-30 21:43:32 & 2013-08-14 12:08:00 & 172.5958 & -43.54417 & 2.815 & 5.0000 & ML & operator assigned & ⋯ & reviewed & manual & nz1dr & 15 &  8 &  3 & 0.022 &  95 & 0.17154 & 0.202\\\\\n",
       "\t 3439485 & earthquake & 2010-12-30 21:11:14 & 2013-08-14 12:08:00 & 172.3977 & -43.54365 & 2.651 & 5.0000 & ML & operator assigned & ⋯ & reviewed & manual & nz1dr &  6 &  4 &  3 & 0.167 & 152 & 0.06705 & 0.200\\\\\n",
       "\t 3439477 & earthquake & 2010-12-30 20:41:24 & 2013-08-14 12:08:00 & 172.4215 & -43.53579 & 3.515 & 7.5605 & ML & NA                & ⋯ & reviewed & manual & nz1dr & 14 &  8 & 14 & 0.040 &  72 & 0.21194 & 0.225\\\\\n",
       "\\end{tabular}\n"
      ],
      "text/markdown": [
       "\n",
       "A tibble: 6 × 21\n",
       "\n",
       "| publicid &lt;dbl&gt; | eventtype &lt;chr&gt; | origintime &lt;dttm&gt; | modificationtime &lt;dttm&gt; | longitude &lt;dbl&gt; | latitude &lt;dbl&gt; | magnitude &lt;dbl&gt; | depth &lt;dbl&gt; | magnitudetype &lt;chr&gt; | depthtype &lt;chr&gt; | ⋯ ⋯ | evaluationstatus &lt;chr&gt; | evaluationmode &lt;chr&gt; | earthmodel &lt;chr&gt; | usedphasecount &lt;dbl&gt; | usedstationcount &lt;dbl&gt; | magnitudestationcount &lt;dbl&gt; | minimumdistance &lt;dbl&gt; | azimuthalgap &lt;dbl&gt; | originerror &lt;dbl&gt; | magnitudeuncertainty &lt;dbl&gt; |\n",
       "|---|---|---|---|---|---|---|---|---|---|---|---|---|---|---|---|---|---|---|---|---|\n",
       "| 3439534 | earthquake | 2010-12-30 23:43:20 | 2013-08-14 12:08:00 | 172.4869 | -43.37156 | 3.033 | 7.5759 | ML | NA                | ⋯ | reviewed | manual | nz1dr | 13 |  8 |  4 | 0.006 |  68 | 0.16104 | 0.202 |\n",
       "| 3439523 | earthquake | 2010-12-30 23:02:16 | 2013-08-14 12:08:00 | 171.8956 | -43.57590 | 2.837 | 5.0000 | ML | operator assigned | ⋯ | reviewed | manual | nz1dr | 14 | 10 |  4 | 0.269 | 107 | 0.16524 | 0.182 |\n",
       "| 3439500 | earthquake | 2010-12-30 21:44:12 | 2013-08-14 12:08:00 | 172.4701 | -43.63620 | 2.757 | 5.0000 | ML | operator assigned | ⋯ | reviewed | manual | nz1dr |  8 |  4 |  3 | 0.126 | 196 | 0.18608 | 0.188 |\n",
       "| 3439497 | earthquake | 2010-12-30 21:43:32 | 2013-08-14 12:08:00 | 172.5958 | -43.54417 | 2.815 | 5.0000 | ML | operator assigned | ⋯ | reviewed | manual | nz1dr | 15 |  8 |  3 | 0.022 |  95 | 0.17154 | 0.202 |\n",
       "| 3439485 | earthquake | 2010-12-30 21:11:14 | 2013-08-14 12:08:00 | 172.3977 | -43.54365 | 2.651 | 5.0000 | ML | operator assigned | ⋯ | reviewed | manual | nz1dr |  6 |  4 |  3 | 0.167 | 152 | 0.06705 | 0.200 |\n",
       "| 3439477 | earthquake | 2010-12-30 20:41:24 | 2013-08-14 12:08:00 | 172.4215 | -43.53579 | 3.515 | 7.5605 | ML | NA                | ⋯ | reviewed | manual | nz1dr | 14 |  8 | 14 | 0.040 |  72 | 0.21194 | 0.225 |\n",
       "\n"
      ],
      "text/plain": [
       "  publicid eventtype  origintime          modificationtime    longitude\n",
       "1 3439534  earthquake 2010-12-30 23:43:20 2013-08-14 12:08:00 172.4869 \n",
       "2 3439523  earthquake 2010-12-30 23:02:16 2013-08-14 12:08:00 171.8956 \n",
       "3 3439500  earthquake 2010-12-30 21:44:12 2013-08-14 12:08:00 172.4701 \n",
       "4 3439497  earthquake 2010-12-30 21:43:32 2013-08-14 12:08:00 172.5958 \n",
       "5 3439485  earthquake 2010-12-30 21:11:14 2013-08-14 12:08:00 172.3977 \n",
       "6 3439477  earthquake 2010-12-30 20:41:24 2013-08-14 12:08:00 172.4215 \n",
       "  latitude  magnitude depth  magnitudetype depthtype         ⋯ evaluationstatus\n",
       "1 -43.37156 3.033     7.5759 ML            NA                ⋯ reviewed        \n",
       "2 -43.57590 2.837     5.0000 ML            operator assigned ⋯ reviewed        \n",
       "3 -43.63620 2.757     5.0000 ML            operator assigned ⋯ reviewed        \n",
       "4 -43.54417 2.815     5.0000 ML            operator assigned ⋯ reviewed        \n",
       "5 -43.54365 2.651     5.0000 ML            operator assigned ⋯ reviewed        \n",
       "6 -43.53579 3.515     7.5605 ML            NA                ⋯ reviewed        \n",
       "  evaluationmode earthmodel usedphasecount usedstationcount\n",
       "1 manual         nz1dr      13              8              \n",
       "2 manual         nz1dr      14             10              \n",
       "3 manual         nz1dr       8              4              \n",
       "4 manual         nz1dr      15              8              \n",
       "5 manual         nz1dr       6              4              \n",
       "6 manual         nz1dr      14              8              \n",
       "  magnitudestationcount minimumdistance azimuthalgap originerror\n",
       "1  4                    0.006            68          0.16104    \n",
       "2  4                    0.269           107          0.16524    \n",
       "3  3                    0.126           196          0.18608    \n",
       "4  3                    0.022            95          0.17154    \n",
       "5  3                    0.167           152          0.06705    \n",
       "6 14                    0.040            72          0.21194    \n",
       "  magnitudeuncertainty\n",
       "1 0.202               \n",
       "2 0.182               \n",
       "3 0.188               \n",
       "4 0.202               \n",
       "5 0.200               \n",
       "6 0.225               "
      ]
     },
     "metadata": {},
     "output_type": "display_data"
    }
   ],
   "source": [
    "head(earthquake_df)"
   ]
  },
  {
   "cell_type": "code",
   "execution_count": null,
   "id": "41fabaf8-cb97-4280-a9e4-deb860c1f6a7",
   "metadata": {},
   "outputs": [],
   "source": []
  }
 ],
 "metadata": {
  "kernelspec": {
   "display_name": "R",
   "language": "R",
   "name": "ir"
  },
  "language_info": {
   "codemirror_mode": "r",
   "file_extension": ".r",
   "mimetype": "text/x-r-source",
   "name": "R",
   "pygments_lexer": "r",
   "version": "4.1.0"
  }
 },
 "nbformat": 4,
 "nbformat_minor": 5
}
