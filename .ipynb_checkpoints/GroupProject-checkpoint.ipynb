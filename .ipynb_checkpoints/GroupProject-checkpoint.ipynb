{
 "cells": [
  {
   "cell_type": "markdown",
   "id": "886b784b-0837-49bf-b43a-37da1c0d0ee3",
   "metadata": {},
   "source": [
    "# Joining our Data Sets together\n",
    "### Importing our R package"
   ]
  },
  {
   "cell_type": "code",
   "execution_count": 4,
   "id": "f149ffab-e803-4a1d-982f-5bb09800de88",
   "metadata": {},
   "outputs": [
    {
     "name": "stdout",
     "output_type": "stream",
     "text": [
      "\n",
      "The downloaded binary packages are in\n",
      "\t/var/folders/fd/ly5mksl541v526fd48sjdfcm0000gn/T//RtmpGDsACw/downloaded_packages\n"
     ]
    },
    {
     "name": "stderr",
     "output_type": "stream",
     "text": [
      "Skipping install of 'nzmentalquake' from a github remote, the SHA1 (dd9f8811) has not changed since last install.\n",
      "  Use `force = TRUE` to force installation\n",
      "\n"
     ]
    }
   ],
   "source": [
    "install.packages(\"remotes\")\n",
    "remotes::install_github(\"chenthih/nzmentalquake\")"
   ]
  },
  {
   "cell_type": "code",
   "execution_count": 6,
   "id": "77ac53c1-8379-41fa-89a4-249d8f6a72a9",
   "metadata": {},
   "outputs": [
    {
     "data": {
      "text/html": [
       "<table class=\"dataframe\">\n",
       "<caption>A data.frame: 6 × 8</caption>\n",
       "<thead>\n",
       "\t<tr><th></th><th scope=col>X</th><th scope=col>eventtype</th><th scope=col>origintime</th><th scope=col>longitude</th><th scope=col>latitude</th><th scope=col>magnitude</th><th scope=col>depth</th><th scope=col>severity</th></tr>\n",
       "\t<tr><th></th><th scope=col>&lt;int&gt;</th><th scope=col>&lt;chr&gt;</th><th scope=col>&lt;chr&gt;</th><th scope=col>&lt;dbl&gt;</th><th scope=col>&lt;dbl&gt;</th><th scope=col>&lt;dbl&gt;</th><th scope=col>&lt;dbl&gt;</th><th scope=col>&lt;dbl&gt;</th></tr>\n",
       "</thead>\n",
       "<tbody>\n",
       "\t<tr><th scope=row>1</th><td>1</td><td>earthquake</td><td>2010-12-31 09:46:27</td><td>172.6334</td><td>-43.48492</td><td>3.324</td><td>10.2793</td><td>3.324</td></tr>\n",
       "\t<tr><th scope=row>2</th><td>2</td><td>earthquake</td><td>2010-12-30 20:41:24</td><td>172.4215</td><td>-43.53579</td><td>3.515</td><td> 7.5605</td><td>3.515</td></tr>\n",
       "\t<tr><th scope=row>3</th><td>3</td><td>earthquake</td><td>2010-12-30 20:40:46</td><td>172.4240</td><td>-43.53780</td><td>3.700</td><td>10.2382</td><td>3.700</td></tr>\n",
       "\t<tr><th scope=row>4</th><td>4</td><td>earthquake</td><td>2010-12-27 05:28:29</td><td>172.1304</td><td>-43.48184</td><td>3.485</td><td> 7.9677</td><td>3.485</td></tr>\n",
       "\t<tr><th scope=row>5</th><td>5</td><td>earthquake</td><td>2010-12-27 04:18:13</td><td>171.8649</td><td>-43.55370</td><td>3.399</td><td> 5.0000</td><td>3.399</td></tr>\n",
       "\t<tr><th scope=row>6</th><td>6</td><td>earthquake</td><td>2010-12-26 19:47:49</td><td>172.1425</td><td>-43.45296</td><td>3.626</td><td> 8.0912</td><td>3.626</td></tr>\n",
       "</tbody>\n",
       "</table>\n"
      ],
      "text/latex": [
       "A data.frame: 6 × 8\n",
       "\\begin{tabular}{r|llllllll}\n",
       "  & X & eventtype & origintime & longitude & latitude & magnitude & depth & severity\\\\\n",
       "  & <int> & <chr> & <chr> & <dbl> & <dbl> & <dbl> & <dbl> & <dbl>\\\\\n",
       "\\hline\n",
       "\t1 & 1 & earthquake & 2010-12-31 09:46:27 & 172.6334 & -43.48492 & 3.324 & 10.2793 & 3.324\\\\\n",
       "\t2 & 2 & earthquake & 2010-12-30 20:41:24 & 172.4215 & -43.53579 & 3.515 &  7.5605 & 3.515\\\\\n",
       "\t3 & 3 & earthquake & 2010-12-30 20:40:46 & 172.4240 & -43.53780 & 3.700 & 10.2382 & 3.700\\\\\n",
       "\t4 & 4 & earthquake & 2010-12-27 05:28:29 & 172.1304 & -43.48184 & 3.485 &  7.9677 & 3.485\\\\\n",
       "\t5 & 5 & earthquake & 2010-12-27 04:18:13 & 171.8649 & -43.55370 & 3.399 &  5.0000 & 3.399\\\\\n",
       "\t6 & 6 & earthquake & 2010-12-26 19:47:49 & 172.1425 & -43.45296 & 3.626 &  8.0912 & 3.626\\\\\n",
       "\\end{tabular}\n"
      ],
      "text/markdown": [
       "\n",
       "A data.frame: 6 × 8\n",
       "\n",
       "| <!--/--> | X &lt;int&gt; | eventtype &lt;chr&gt; | origintime &lt;chr&gt; | longitude &lt;dbl&gt; | latitude &lt;dbl&gt; | magnitude &lt;dbl&gt; | depth &lt;dbl&gt; | severity &lt;dbl&gt; |\n",
       "|---|---|---|---|---|---|---|---|---|\n",
       "| 1 | 1 | earthquake | 2010-12-31 09:46:27 | 172.6334 | -43.48492 | 3.324 | 10.2793 | 3.324 |\n",
       "| 2 | 2 | earthquake | 2010-12-30 20:41:24 | 172.4215 | -43.53579 | 3.515 |  7.5605 | 3.515 |\n",
       "| 3 | 3 | earthquake | 2010-12-30 20:40:46 | 172.4240 | -43.53780 | 3.700 | 10.2382 | 3.700 |\n",
       "| 4 | 4 | earthquake | 2010-12-27 05:28:29 | 172.1304 | -43.48184 | 3.485 |  7.9677 | 3.485 |\n",
       "| 5 | 5 | earthquake | 2010-12-27 04:18:13 | 171.8649 | -43.55370 | 3.399 |  5.0000 | 3.399 |\n",
       "| 6 | 6 | earthquake | 2010-12-26 19:47:49 | 172.1425 | -43.45296 | 3.626 |  8.0912 | 3.626 |\n",
       "\n"
      ],
      "text/plain": [
       "  X eventtype  origintime          longitude latitude  magnitude depth  \n",
       "1 1 earthquake 2010-12-31 09:46:27 172.6334  -43.48492 3.324     10.2793\n",
       "2 2 earthquake 2010-12-30 20:41:24 172.4215  -43.53579 3.515      7.5605\n",
       "3 3 earthquake 2010-12-30 20:40:46 172.4240  -43.53780 3.700     10.2382\n",
       "4 4 earthquake 2010-12-27 05:28:29 172.1304  -43.48184 3.485      7.9677\n",
       "5 5 earthquake 2010-12-27 04:18:13 171.8649  -43.55370 3.399      5.0000\n",
       "6 6 earthquake 2010-12-26 19:47:49 172.1425  -43.45296 3.626      8.0912\n",
       "  severity\n",
       "1 3.324   \n",
       "2 3.515   \n",
       "3 3.700   \n",
       "4 3.485   \n",
       "5 3.399   \n",
       "6 3.626   "
      ]
     },
     "metadata": {},
     "output_type": "display_data"
    }
   ],
   "source": [
    "head(nzmentalquake::earthquake_dataset)"
   ]
  }
 ],
 "metadata": {
  "kernelspec": {
   "display_name": "R",
   "language": "R",
   "name": "ir"
  },
  "language_info": {
   "codemirror_mode": "r",
   "file_extension": ".r",
   "mimetype": "text/x-r-source",
   "name": "R",
   "pygments_lexer": "r",
   "version": "4.1.0"
  }
 },
 "nbformat": 4,
 "nbformat_minor": 5
}
