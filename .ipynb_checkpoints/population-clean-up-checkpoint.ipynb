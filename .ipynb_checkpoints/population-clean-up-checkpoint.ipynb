{
 "cells": [
  {
   "cell_type": "markdown",
   "id": "35e8c463-776d-49f1-af16-9d3405b6b350",
   "metadata": {},
   "source": [
    "###  population"
   ]
  },
  {
   "cell_type": "code",
   "execution_count": 4,
   "id": "fceca0fc-adfb-413b-8f2d-25df0bdbca01",
   "metadata": {},
   "outputs": [
    {
     "name": "stderr",
     "output_type": "stream",
     "text": [
      "Installing package into ‘/home/sekiro/R/x86_64-pc-linux-gnu-library/3.6’\n",
      "(as ‘lib’ is unspecified)\n",
      "\n"
     ]
    }
   ],
   "source": [
    "#loading all library\n",
    "library(tidyverse)\n",
    "library(readr)\n",
    "library(knitr)\n",
    "library(skimr)\n",
    "library(tidyr)\n",
    "install.packages('naniar')\n",
    "library(naniar)\n"
   ]
  },
  {
   "cell_type": "markdown",
   "id": "504aa5cd-8734-4581-bd3f-03d9f54bea6f",
   "metadata": {},
   "source": [
    "###  population clean up"
   ]
  },
  {
   "cell_type": "code",
   "execution_count": 5,
   "id": "11e62e35-8127-4d3d-ab83-62b51ac48ba6",
   "metadata": {},
   "outputs": [],
   "source": [
    "population <- read.csv(file=\"population1.csv\", skip = 1)\n",
    "population <- population %>% slice(4, 8, 12, 16, 20, 24, 28, 32, 36, 40, 44, 48, 52, 56, 60, 64)\n",
    "write.csv(population, file = \"population_1.csv\") "
   ]
  },
  {
   "cell_type": "markdown",
   "id": "92b3341f-154c-48da-b4cb-f8e10731248d",
   "metadata": {},
   "source": [
    "### change_rate clean up"
   ]
  },
  {
   "cell_type": "code",
   "execution_count": 7,
   "id": "88c2498b-9357-4ac9-9c0f-84719cf55836",
   "metadata": {},
   "outputs": [],
   "source": [
    "#change_rate clean up\n",
    "change_rate <- read.csv(file=\"change rate.csv\", skip = 1)\n",
    "change_rate <- change_rate %>% rename(year = X, Population_change = Population.change)\n",
    "change_rate <- change_rate %>% slice(1:16)\n",
    "#save as csv\n",
    "write.csv(change_rate, file = \"change_rate_1.csv\")"
   ]
  },
  {
   "cell_type": "markdown",
   "id": "c02a26d6-08b3-490d-a607-0aec8fe99a5f",
   "metadata": {},
   "source": [
    "### migrant clean up"
   ]
  },
  {
   "cell_type": "code",
   "execution_count": 8,
   "id": "e34a19a4-be98-454b-ade7-b95464f2539e",
   "metadata": {},
   "outputs": [],
   "source": [
    "migrant <- read.csv(file=\"migrant1.csv\", skip = 5)\n",
    "migrant <- migrant[,-7]\n",
    "migrant <- read.csv(file=\"migrant1.csv\", skip = 5)\n",
    "migrant <- migrant[,-7]\n",
    "migrant <- migrant %>% rename(year = X., Residence_Permanent_Residence = Estimate,\n",
    "                             Student_Permanent_Residence= Estimate.1,\n",
    "                             Visitor_Permanent_Residence = Estimate.2,\n",
    "                             Work_Permanent_Residence = Estimate.3,\n",
    "                             New_Zealand_and_Australian_citizens = Estimate.4,\n",
    "                             TOTAL = Estimate.6)\n",
    "migrant <- migrant %>% slice(1:16)\n",
    "write.csv(migrant, file = \"migrant_1.csv\")"
   ]
  },
  {
   "cell_type": "markdown",
   "id": "87b3e5e6-6576-469f-81f6-968a78d6d361",
   "metadata": {},
   "source": [
    "### population combine change_rate"
   ]
  },
  {
   "cell_type": "code",
   "execution_count": 9,
   "id": "aa49d0c6-18c7-4c17-b31d-b79593e48bfa",
   "metadata": {},
   "outputs": [],
   "source": [
    "population <- population %>% mutate(year = c(2005,2006,2007,2008,2009,2010,2011,2012,2013,2014,2015,2016, 2017,2018,2019,2020))\n",
    "population_change_rate <- merge(population, change_rate)\n",
    "population_change_rate <- population_change_rate %>% rename(total_population = Total)\n",
    "write.csv(population_change_rate, file = \"population_change_rate.csv\") "
   ]
  },
  {
   "cell_type": "markdown",
   "id": "d5743dbb-7823-4f8a-a6e6-68b85e197a89",
   "metadata": {},
   "source": [
    "### region_population clean up"
   ]
  },
  {
   "cell_type": "code",
   "execution_count": 10,
   "id": "6cf1d084-0d55-41c3-9d7a-50fd06d3f066",
   "metadata": {},
   "outputs": [
    {
     "name": "stderr",
     "output_type": "stream",
     "text": [
      "`summarise()` has grouped output by 'year'. You can override using the `.groups` argument.\n",
      "\n"
     ]
    }
   ],
   "source": [
    "region_population <- read.csv(file=\"region population.csv\", skip = 1)\n",
    "region_population <- region_population %>% rename(year = X)\n",
    "region_population <- region_population %>% slice(1:16)\n",
    "#select the city we want to Performance\n",
    "region_population2 <- region_population %>% select(year, Northland.Region, Auckland.Region, Wellington.Region, Canterbury.Region) %>%\n",
    "rename(Northland = Northland.Region, Auckland = Auckland.Region, Wellington = Wellington.Region, Canterbury = Canterbury.Region)\n",
    "region_population3 <- gather(region_population2, city, Total.Pop, Northland:Canterbury)%>%\n",
    "                        mutate(Pop.change = if_else(city == lag(city), Total.Pop - lag(Total.Pop), Total.Pop-Total.Pop),\n",
    "                              Pop.change = na_if(Pop.change, 0),\n",
    "                              city = if_else(grepl(\"Northland\",city), 'Auckland', city)) %>%\n",
    "                        group_by(year, city) %>% summarise(Total.Pop = sum(Total.Pop), Pop.change = sum(Pop.change))\n",
    "write.csv(region_population3, \"FINAL_population_by_city.csv\") # Save csv file for each city by year              "
   ]
  },
  {
   "cell_type": "code",
   "execution_count": 12,
   "id": "a1747125-7cc6-4067-814d-8f537db231a1",
   "metadata": {},
   "outputs": [
    {
     "name": "stderr",
     "output_type": "stream",
     "text": [
      "`summarise()` has grouped output by 'year'. You can override using the `.groups` argument.\n",
      "\n"
     ]
    }
   ],
   "source": [
    "# select the city we want and rename column\n",
    "region_population2 <- region_population %>% select(year, Northland.Region, Auckland.Region, Wellington.Region, Canterbury.Region) %>%\n",
    "rename(Northland = Northland.Region, Auckland = Auckland.Region, Wellington = Wellington.Region, Canterbury = Canterbury.Region)\n",
    "\n",
    "#Calculate the amount of population change per year\n",
    "region_population3 <- gather(region_population2, city, Total.Pop, Northland:Canterbury)%>%\n",
    "                        mutate(Pop.change = if_else(city == lag(city), Total.Pop - lag(Total.Pop), Total.Pop-Total.Pop),\n",
    "                              Pop.change = na_if(Pop.change, 0),\n",
    "                              city = if_else(grepl(\"Northland\",city), 'Auckland', city)) %>%\n",
    "                        group_by(year, city) %>% summarise(Total.Pop = sum(Total.Pop), Pop.change = sum(Pop.change))\n",
    "\n",
    "# Save csv file for each city by year  \n",
    "write.csv(region_population3, \"FINAL_population_by_city.csv\")             "
   ]
  }
 ],
 "metadata": {
  "kernelspec": {
   "display_name": "R",
   "language": "R",
   "name": "ir"
  },
  "language_info": {
   "codemirror_mode": "r",
   "file_extension": ".r",
   "mimetype": "text/x-r-source",
   "name": "R",
   "pygments_lexer": "r",
   "version": "3.6.3"
  }
 },
 "nbformat": 4,
 "nbformat_minor": 5
}
