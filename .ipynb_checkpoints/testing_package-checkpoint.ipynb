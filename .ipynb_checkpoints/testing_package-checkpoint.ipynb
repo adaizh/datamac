{
 "cells": [
  {
   "cell_type": "code",
   "execution_count": 1,
   "id": "d0a897c3-8ad6-4fd6-8485-0c39a4739811",
   "metadata": {},
   "outputs": [
    {
     "name": "stdout",
     "output_type": "stream",
     "text": [
      "\n",
      "The downloaded binary packages are in\n",
      "\t/var/folders/fd/ly5mksl541v526fd48sjdfcm0000gn/T//Rtmp2aqipc/downloaded_packages\n"
     ]
    },
    {
     "name": "stderr",
     "output_type": "stream",
     "text": [
      "Downloading GitHub repo chenthih/nzmentalquake@HEAD\n",
      "\n"
     ]
    },
    {
     "name": "stdout",
     "output_type": "stream",
     "text": [
      "rlang  (0.4.11 -> 0.4.12) [CRAN]\n",
      "pillar (1.6.3  -> 1.6.4 ) [CRAN]\n"
     ]
    },
    {
     "name": "stderr",
     "output_type": "stream",
     "text": [
      "Installing 2 packages: rlang, pillar\n",
      "\n"
     ]
    },
    {
     "name": "stdout",
     "output_type": "stream",
     "text": [
      "\n",
      "  There are binary versions available but the source versions are later:\n",
      "       binary source needs_compilation\n",
      "rlang  0.4.11 0.4.12              TRUE\n",
      "pillar  1.6.3  1.6.4             FALSE\n",
      "\n"
     ]
    },
    {
     "name": "stderr",
     "output_type": "stream",
     "text": [
      "installing the source packages ‘rlang’, ‘pillar’\n",
      "\n",
      "\n"
     ]
    },
    {
     "name": "stdout",
     "output_type": "stream",
     "text": [
      "\u001b[32m✔\u001b[39m  \u001b[90mchecking for file ‘/private/var/folders/fd/ly5mksl541v526fd48sjdfcm0000gn/T/Rtmp2aqipc/remotes11e546662ab98/chenthih-nzmentalquake-0b8491e/DESCRIPTION’\u001b[39m\u001b[36m\u001b[39m\n",
      "\u001b[90m─\u001b[39m\u001b[90m  \u001b[39m\u001b[90mpreparing ‘nzmentalquake’:\u001b[39m\u001b[36m\u001b[39m\n",
      "\u001b[32m✔\u001b[39m  \u001b[90mchecking DESCRIPTION meta-information\u001b[39m\u001b[36m\u001b[39m\n",
      "\u001b[90m─\u001b[39m\u001b[90m  \u001b[39m\u001b[90mchecking for LF line-endings in source and make files and shell scripts\u001b[39m\u001b[36m\u001b[39m\n",
      "\u001b[90m─\u001b[39m\u001b[90m  \u001b[39m\u001b[90mchecking for empty or unneeded directories\u001b[39m\u001b[36m\u001b[39m\n",
      "\u001b[90m─\u001b[39m\u001b[90m  \u001b[39m\u001b[90mbuilding ‘nzmentalquake_0.0.1.1000.tar.gz’\u001b[39m\u001b[36m\u001b[39m\n",
      "   \n",
      "\r"
     ]
    }
   ],
   "source": [
    "install.packages(\"remotes\")\n",
    "remotes::install_github(\"chenthih/nzmentalquake\")"
   ]
  },
  {
   "cell_type": "code",
   "execution_count": 7,
   "id": "c66d7828-a6f4-492f-a567-790344d0806b",
   "metadata": {},
   "outputs": [
    {
     "data": {
      "text/html": [
       "\n",
       "<table width=\"100%\" summary=\"page for earthquake_dataset {nzmentalquake}\"><tr><td>earthquake_dataset {nzmentalquake}</td><td style=\"text-align: right;\">R Documentation</td></tr></table>\n",
       "\n",
       "<h2>Data of every large earthquake occuring in the three major regions of New Zealand</h2>\n",
       "\n",
       "<h3>Description</h3>\n",
       "\n",
       "<p>Includes every earthquake of a magnitude greater than 4.0\n",
       "</p>\n",
       "\n",
       "\n",
       "<h3>Usage</h3>\n",
       "\n",
       "<pre>\n",
       "earthquake_dataset\n",
       "</pre>\n",
       "\n",
       "\n",
       "<h3>Format</h3>\n",
       "\n",
       "<p>A tibble with 1517 rows and 7 variables:\n",
       "</p>\n",
       "\n",
       "<dl>\n",
       "<dt>city</dt><dd><p>chr city of the recorded earthquake</p>\n",
       "</dd>\n",
       "<dt>year</dt><dd><p>int year of the recorded earthquake</p>\n",
       "</dd>\n",
       "<dt>origintime</dt><dd><p>chr exact time and date of the recorded earthquake</p>\n",
       "</dd>\n",
       "<dt>longitude</dt><dd><p>dbl longitude of the recorded earthquake</p>\n",
       "</dd>\n",
       "<dt>latitude</dt><dd><p>dbl latitude of the recorded earthquake</p>\n",
       "</dd>\n",
       "<dt>magnitude</dt><dd><p>dbl magnitude of the recorded earthquake</p>\n",
       "</dd>\n",
       "<dt>depth</dt><dd><p>dbl depth (in km) of the recorded earthquake</p>\n",
       "</dd>\n",
       "</dl>\n",
       "\n",
       "\n",
       "\n",
       "<h3>Source</h3>\n",
       "\n",
       "<p><a href=\"https://quakesearch.geonet.org.nz/\">https://quakesearch.geonet.org.nz/</a>\n",
       "</p>\n",
       "\n",
       "<hr /><div style=\"text-align: center;\">[Package <em>nzmentalquake</em> version 0.0.1.1000 ]</div>"
      ],
      "text/latex": [
       "\\inputencoding{utf8}\n",
       "\\HeaderA{earthquake\\_dataset}{Data of every large earthquake occuring in the three major regions of New Zealand}{earthquake.Rul.dataset}\n",
       "\\keyword{datasets}{earthquake\\_dataset}\n",
       "%\n",
       "\\begin{Description}\\relax\n",
       "Includes every earthquake of a magnitude greater than 4.0\n",
       "\\end{Description}\n",
       "%\n",
       "\\begin{Usage}\n",
       "\\begin{verbatim}\n",
       "earthquake_dataset\n",
       "\\end{verbatim}\n",
       "\\end{Usage}\n",
       "%\n",
       "\\begin{Format}\n",
       "A tibble with 1517 rows and 7 variables:\n",
       "\\begin{description}\n",
       "\n",
       "\\item[city] chr city of the recorded earthquake\n",
       "\\item[year] int year of the recorded earthquake\n",
       "\\item[origintime] chr exact time and date of the recorded earthquake\n",
       "\\item[longitude] dbl longitude of the recorded earthquake\n",
       "\\item[latitude] dbl latitude of the recorded earthquake\n",
       "\\item[magnitude] dbl magnitude of the recorded earthquake\n",
       "\\item[depth] dbl depth (in km) of the recorded earthquake\n",
       "\n",
       "\\end{description}\n",
       "\n",
       "\\end{Format}\n",
       "%\n",
       "\\begin{Source}\\relax\n",
       "\\url{https://quakesearch.geonet.org.nz/}\n",
       "\\end{Source}"
      ],
      "text/plain": [
       "earthquake_dataset        package:nzmentalquake        R Documentation\n",
       "\n",
       "_\bD_\ba_\bt_\ba _\bo_\bf _\be_\bv_\be_\br_\by _\bl_\ba_\br_\bg_\be _\be_\ba_\br_\bt_\bh_\bq_\bu_\ba_\bk_\be _\bo_\bc_\bc_\bu_\br_\bi_\bn_\bg _\bi_\bn _\bt_\bh_\be _\bt_\bh_\br_\be_\be _\bm_\ba_\bj_\bo_\br _\br_\be_\bg_\bi_\bo_\bn_\bs _\bo_\bf\n",
       "_\bN_\be_\bw _\bZ_\be_\ba_\bl_\ba_\bn_\bd\n",
       "\n",
       "_\bD_\be_\bs_\bc_\br_\bi_\bp_\bt_\bi_\bo_\bn:\n",
       "\n",
       "     Includes every earthquake of a magnitude greater than 4.0\n",
       "\n",
       "_\bU_\bs_\ba_\bg_\be:\n",
       "\n",
       "     earthquake_dataset\n",
       "     \n",
       "_\bF_\bo_\br_\bm_\ba_\bt:\n",
       "\n",
       "     A tibble with 1517 rows and 7 variables:\n",
       "\n",
       "     city chr city of the recorded earthquake\n",
       "\n",
       "     year int year of the recorded earthquake\n",
       "\n",
       "     origintime chr exact time and date of the recorded earthquake\n",
       "\n",
       "     longitude dbl longitude of the recorded earthquake\n",
       "\n",
       "     latitude dbl latitude of the recorded earthquake\n",
       "\n",
       "     magnitude dbl magnitude of the recorded earthquake\n",
       "\n",
       "     depth dbl depth (in km) of the recorded earthquake\n",
       "\n",
       "_\bS_\bo_\bu_\br_\bc_\be:\n",
       "\n",
       "     <URL: https://quakesearch.geonet.org.nz/>\n"
      ]
     },
     "metadata": {},
     "output_type": "display_data"
    }
   ],
   "source": [
    "?nzmentalquake::earthquake_dataset"
   ]
  },
  {
   "cell_type": "code",
   "execution_count": null,
   "id": "c426aa10-4160-46a7-8c23-4f2d11d90c28",
   "metadata": {},
   "outputs": [],
   "source": []
  }
 ],
 "metadata": {
  "kernelspec": {
   "display_name": "R",
   "language": "R",
   "name": "ir"
  },
  "language_info": {
   "codemirror_mode": "r",
   "file_extension": ".r",
   "mimetype": "text/x-r-source",
   "name": "R",
   "pygments_lexer": "r",
   "version": "4.1.0"
  }
 },
 "nbformat": 4,
 "nbformat_minor": 5
}
