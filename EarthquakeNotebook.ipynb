{
 "cells": [
  {
   "cell_type": "markdown",
   "id": "c694e821-8e3a-4f1d-b411-057fa16bc8a7",
   "metadata": {},
   "source": [
    "# Cleaning the Earthquake Dataset\n",
    "### Importing the Dataset:"
   ]
  },
  {
   "cell_type": "code",
   "execution_count": 4,
   "id": "965104cf-ac3b-4a00-8604-eb80e9c3a7c4",
   "metadata": {},
   "outputs": [
    {
     "name": "stderr",
     "output_type": "stream",
     "text": [
      "── \u001b[1mAttaching packages\u001b[22m ─────────────────────────────────────── tidyverse 1.3.1 ──\n",
      "\n",
      "\u001b[32m✔\u001b[39m \u001b[34mggplot2\u001b[39m 3.3.5     \u001b[32m✔\u001b[39m \u001b[34mpurrr  \u001b[39m 0.3.4\n",
      "\u001b[32m✔\u001b[39m \u001b[34mtibble \u001b[39m 3.1.5     \u001b[32m✔\u001b[39m \u001b[34mdplyr  \u001b[39m 1.0.7\n",
      "\u001b[32m✔\u001b[39m \u001b[34mtidyr  \u001b[39m 1.1.3     \u001b[32m✔\u001b[39m \u001b[34mstringr\u001b[39m 1.4.0\n",
      "\u001b[32m✔\u001b[39m \u001b[34mreadr  \u001b[39m 2.0.0     \u001b[32m✔\u001b[39m \u001b[34mforcats\u001b[39m 0.5.1\n",
      "\n",
      "── \u001b[1mConflicts\u001b[22m ────────────────────────────────────────── tidyverse_conflicts() ──\n",
      "\u001b[31m✖\u001b[39m \u001b[34mdplyr\u001b[39m::\u001b[32mfilter()\u001b[39m masks \u001b[34mstats\u001b[39m::filter()\n",
      "\u001b[31m✖\u001b[39m \u001b[34mdplyr\u001b[39m::\u001b[32mlag()\u001b[39m    masks \u001b[34mstats\u001b[39m::lag()\n",
      "\n"
     ]
    }
   ],
   "source": [
    "library(tidyverse)"
   ]
  },
  {
   "cell_type": "code",
   "execution_count": 5,
   "id": "12b48fae-edb0-4eff-a878-cfd621872a06",
   "metadata": {},
   "outputs": [],
   "source": [
    "# import the canterbury data\n",
    "cant_earthquake_df_2005_to_2010 <- read_csv(file=\"earthquakes 01012005-31122010.csv\", show_col_types = FALSE)\n",
    "cant_earthquake_df_2011_to_2015 <- read_csv(file=\"earthquakes 01012011-31122015.csv\", show_col_types = FALSE)\n",
    "cant_earthquake_df_2016_to_2021 <- read_csv(file=\"earthquakes 01012016-30092021.csv\", show_col_types = FALSE)\n",
    "\n",
    "# import the auckland data\n",
    "auk_earthquake_df_2005_to_2021 <- read_csv(file=\"earthquakes auckland and northland.csv\", show_col_types = FALSE)\n",
    "\n",
    "# import the wellington data\n",
    "wlg_earthquake_df_2005_to_2007 <- read_csv(file=\"earthquakes wellington-marlborough 2005-2007.csv\", show_col_types = FALSE)\n",
    "wlg_earthquake_df_2007_to_2013 <- read_csv(file=\"earthquakes earthquakes wellington-marlborough 2007-2013.csv\", show_col_types = FALSE)\n",
    "wlg_earthquake_df_2013_to_2015 <- read_csv(file=\"earthquakes earthquakes wellington-marlborough 2013-2015.csv\", show_col_types = FALSE)\n",
    "wlg_earthquake_df_2015_to_2017 <- read_csv(file=\"earthquakes wellington-marlborough 2015-2017.csv\", show_col_types = FALSE)\n",
    "wlg_earthquake_df_2017_to_2021 <- read_csv(file=\"earthquakes wellington-marlborough 2017-2021.csv\", show_col_types = FALSE)"
   ]
  },
  {
   "cell_type": "code",
   "execution_count": 6,
   "id": "e37df38d-15ba-424c-bacb-95b3d55d33de",
   "metadata": {},
   "outputs": [
    {
     "data": {
      "text/html": [
       "<table class=\"dataframe\">\n",
       "<caption>A tibble: 6 × 21</caption>\n",
       "<thead>\n",
       "\t<tr><th scope=col>publicid</th><th scope=col>eventtype</th><th scope=col>origintime</th><th scope=col>modificationtime</th><th scope=col>longitude</th><th scope=col>latitude</th><th scope=col>magnitude</th><th scope=col>depth</th><th scope=col>magnitudetype</th><th scope=col>depthtype</th><th scope=col>⋯</th><th scope=col>evaluationstatus</th><th scope=col>evaluationmode</th><th scope=col>earthmodel</th><th scope=col>usedphasecount</th><th scope=col>usedstationcount</th><th scope=col>magnitudestationcount</th><th scope=col>minimumdistance</th><th scope=col>azimuthalgap</th><th scope=col>originerror</th><th scope=col>magnitudeuncertainty</th></tr>\n",
       "\t<tr><th scope=col>&lt;dbl&gt;</th><th scope=col>&lt;chr&gt;</th><th scope=col>&lt;dttm&gt;</th><th scope=col>&lt;dttm&gt;</th><th scope=col>&lt;dbl&gt;</th><th scope=col>&lt;dbl&gt;</th><th scope=col>&lt;dbl&gt;</th><th scope=col>&lt;dbl&gt;</th><th scope=col>&lt;chr&gt;</th><th scope=col>&lt;chr&gt;</th><th scope=col>⋯</th><th scope=col>&lt;chr&gt;</th><th scope=col>&lt;chr&gt;</th><th scope=col>&lt;chr&gt;</th><th scope=col>&lt;dbl&gt;</th><th scope=col>&lt;dbl&gt;</th><th scope=col>&lt;dbl&gt;</th><th scope=col>&lt;dbl&gt;</th><th scope=col>&lt;dbl&gt;</th><th scope=col>&lt;dbl&gt;</th><th scope=col>&lt;dbl&gt;</th></tr>\n",
       "</thead>\n",
       "<tbody>\n",
       "\t<tr><td>3439925</td><td>earthquake</td><td>2010-12-31 21:24:23</td><td>2013-08-14 12:09:00</td><td>172.0939</td><td>-43.41652</td><td>2.366</td><td>12.7799</td><td>ML</td><td>NA               </td><td>⋯</td><td>reviewed</td><td>manual</td><td>nz1dr</td><td> 7</td><td> 3</td><td> 3</td><td>0.098</td><td>209</td><td>0.05953</td><td>0.149</td></tr>\n",
       "\t<tr><td>3439910</td><td>earthquake</td><td>2010-12-31 20:31:31</td><td>2013-08-14 12:09:00</td><td>172.2462</td><td>-43.60769</td><td>2.651</td><td>12.0000</td><td>ML</td><td>operator assigned</td><td>⋯</td><td>reviewed</td><td>manual</td><td>nz1dr</td><td>11</td><td> 7</td><td> 7</td><td>0.276</td><td>112</td><td>0.28577</td><td>0.304</td></tr>\n",
       "\t<tr><td>3439716</td><td>earthquake</td><td>2010-12-31 09:46:27</td><td>2013-08-14 12:09:00</td><td>172.6334</td><td>-43.48492</td><td>3.324</td><td>10.2793</td><td>ML</td><td>NA               </td><td>⋯</td><td>reviewed</td><td>manual</td><td>nz1dr</td><td>25</td><td>18</td><td>11</td><td>0.022</td><td> 72</td><td>0.16793</td><td>0.159</td></tr>\n",
       "\t<tr><td>3439627</td><td>earthquake</td><td>2010-12-31 04:57:27</td><td>2013-08-14 12:09:00</td><td>171.8731</td><td>-43.55577</td><td>2.919</td><td>12.0000</td><td>ML</td><td>operator assigned</td><td>⋯</td><td>reviewed</td><td>manual</td><td>nz1dr</td><td>12</td><td> 8</td><td> 8</td><td>0.258</td><td>105</td><td>0.27936</td><td>0.394</td></tr>\n",
       "\t<tr><td>3439613</td><td>earthquake</td><td>2010-12-31 04:17:32</td><td>2013-08-14 12:08:00</td><td>172.7081</td><td>-43.60494</td><td>2.206</td><td> 5.0000</td><td>ML</td><td>operator assigned</td><td>⋯</td><td>reviewed</td><td>manual</td><td>nz1dr</td><td> 7</td><td> 4</td><td> 4</td><td>0.068</td><td>222</td><td>0.29504</td><td>0.181</td></tr>\n",
       "\t<tr><td>3439534</td><td>earthquake</td><td>2010-12-30 23:43:20</td><td>2013-08-14 12:08:00</td><td>172.4869</td><td>-43.37156</td><td>3.033</td><td> 7.5759</td><td>ML</td><td>NA               </td><td>⋯</td><td>reviewed</td><td>manual</td><td>nz1dr</td><td>13</td><td> 8</td><td> 4</td><td>0.006</td><td> 68</td><td>0.16104</td><td>0.202</td></tr>\n",
       "</tbody>\n",
       "</table>\n"
      ],
      "text/latex": [
       "A tibble: 6 × 21\n",
       "\\begin{tabular}{lllllllllllllllllllll}\n",
       " publicid & eventtype & origintime & modificationtime & longitude & latitude & magnitude & depth & magnitudetype & depthtype & ⋯ & evaluationstatus & evaluationmode & earthmodel & usedphasecount & usedstationcount & magnitudestationcount & minimumdistance & azimuthalgap & originerror & magnitudeuncertainty\\\\\n",
       " <dbl> & <chr> & <dttm> & <dttm> & <dbl> & <dbl> & <dbl> & <dbl> & <chr> & <chr> & ⋯ & <chr> & <chr> & <chr> & <dbl> & <dbl> & <dbl> & <dbl> & <dbl> & <dbl> & <dbl>\\\\\n",
       "\\hline\n",
       "\t 3439925 & earthquake & 2010-12-31 21:24:23 & 2013-08-14 12:09:00 & 172.0939 & -43.41652 & 2.366 & 12.7799 & ML & NA                & ⋯ & reviewed & manual & nz1dr &  7 &  3 &  3 & 0.098 & 209 & 0.05953 & 0.149\\\\\n",
       "\t 3439910 & earthquake & 2010-12-31 20:31:31 & 2013-08-14 12:09:00 & 172.2462 & -43.60769 & 2.651 & 12.0000 & ML & operator assigned & ⋯ & reviewed & manual & nz1dr & 11 &  7 &  7 & 0.276 & 112 & 0.28577 & 0.304\\\\\n",
       "\t 3439716 & earthquake & 2010-12-31 09:46:27 & 2013-08-14 12:09:00 & 172.6334 & -43.48492 & 3.324 & 10.2793 & ML & NA                & ⋯ & reviewed & manual & nz1dr & 25 & 18 & 11 & 0.022 &  72 & 0.16793 & 0.159\\\\\n",
       "\t 3439627 & earthquake & 2010-12-31 04:57:27 & 2013-08-14 12:09:00 & 171.8731 & -43.55577 & 2.919 & 12.0000 & ML & operator assigned & ⋯ & reviewed & manual & nz1dr & 12 &  8 &  8 & 0.258 & 105 & 0.27936 & 0.394\\\\\n",
       "\t 3439613 & earthquake & 2010-12-31 04:17:32 & 2013-08-14 12:08:00 & 172.7081 & -43.60494 & 2.206 &  5.0000 & ML & operator assigned & ⋯ & reviewed & manual & nz1dr &  7 &  4 &  4 & 0.068 & 222 & 0.29504 & 0.181\\\\\n",
       "\t 3439534 & earthquake & 2010-12-30 23:43:20 & 2013-08-14 12:08:00 & 172.4869 & -43.37156 & 3.033 &  7.5759 & ML & NA                & ⋯ & reviewed & manual & nz1dr & 13 &  8 &  4 & 0.006 &  68 & 0.16104 & 0.202\\\\\n",
       "\\end{tabular}\n"
      ],
      "text/markdown": [
       "\n",
       "A tibble: 6 × 21\n",
       "\n",
       "| publicid &lt;dbl&gt; | eventtype &lt;chr&gt; | origintime &lt;dttm&gt; | modificationtime &lt;dttm&gt; | longitude &lt;dbl&gt; | latitude &lt;dbl&gt; | magnitude &lt;dbl&gt; | depth &lt;dbl&gt; | magnitudetype &lt;chr&gt; | depthtype &lt;chr&gt; | ⋯ ⋯ | evaluationstatus &lt;chr&gt; | evaluationmode &lt;chr&gt; | earthmodel &lt;chr&gt; | usedphasecount &lt;dbl&gt; | usedstationcount &lt;dbl&gt; | magnitudestationcount &lt;dbl&gt; | minimumdistance &lt;dbl&gt; | azimuthalgap &lt;dbl&gt; | originerror &lt;dbl&gt; | magnitudeuncertainty &lt;dbl&gt; |\n",
       "|---|---|---|---|---|---|---|---|---|---|---|---|---|---|---|---|---|---|---|---|---|\n",
       "| 3439925 | earthquake | 2010-12-31 21:24:23 | 2013-08-14 12:09:00 | 172.0939 | -43.41652 | 2.366 | 12.7799 | ML | NA                | ⋯ | reviewed | manual | nz1dr |  7 |  3 |  3 | 0.098 | 209 | 0.05953 | 0.149 |\n",
       "| 3439910 | earthquake | 2010-12-31 20:31:31 | 2013-08-14 12:09:00 | 172.2462 | -43.60769 | 2.651 | 12.0000 | ML | operator assigned | ⋯ | reviewed | manual | nz1dr | 11 |  7 |  7 | 0.276 | 112 | 0.28577 | 0.304 |\n",
       "| 3439716 | earthquake | 2010-12-31 09:46:27 | 2013-08-14 12:09:00 | 172.6334 | -43.48492 | 3.324 | 10.2793 | ML | NA                | ⋯ | reviewed | manual | nz1dr | 25 | 18 | 11 | 0.022 |  72 | 0.16793 | 0.159 |\n",
       "| 3439627 | earthquake | 2010-12-31 04:57:27 | 2013-08-14 12:09:00 | 171.8731 | -43.55577 | 2.919 | 12.0000 | ML | operator assigned | ⋯ | reviewed | manual | nz1dr | 12 |  8 |  8 | 0.258 | 105 | 0.27936 | 0.394 |\n",
       "| 3439613 | earthquake | 2010-12-31 04:17:32 | 2013-08-14 12:08:00 | 172.7081 | -43.60494 | 2.206 |  5.0000 | ML | operator assigned | ⋯ | reviewed | manual | nz1dr |  7 |  4 |  4 | 0.068 | 222 | 0.29504 | 0.181 |\n",
       "| 3439534 | earthquake | 2010-12-30 23:43:20 | 2013-08-14 12:08:00 | 172.4869 | -43.37156 | 3.033 |  7.5759 | ML | NA                | ⋯ | reviewed | manual | nz1dr | 13 |  8 |  4 | 0.006 |  68 | 0.16104 | 0.202 |\n",
       "\n"
      ],
      "text/plain": [
       "  publicid eventtype  origintime          modificationtime    longitude\n",
       "1 3439925  earthquake 2010-12-31 21:24:23 2013-08-14 12:09:00 172.0939 \n",
       "2 3439910  earthquake 2010-12-31 20:31:31 2013-08-14 12:09:00 172.2462 \n",
       "3 3439716  earthquake 2010-12-31 09:46:27 2013-08-14 12:09:00 172.6334 \n",
       "4 3439627  earthquake 2010-12-31 04:57:27 2013-08-14 12:09:00 171.8731 \n",
       "5 3439613  earthquake 2010-12-31 04:17:32 2013-08-14 12:08:00 172.7081 \n",
       "6 3439534  earthquake 2010-12-30 23:43:20 2013-08-14 12:08:00 172.4869 \n",
       "  latitude  magnitude depth   magnitudetype depthtype         ⋯\n",
       "1 -43.41652 2.366     12.7799 ML            NA                ⋯\n",
       "2 -43.60769 2.651     12.0000 ML            operator assigned ⋯\n",
       "3 -43.48492 3.324     10.2793 ML            NA                ⋯\n",
       "4 -43.55577 2.919     12.0000 ML            operator assigned ⋯\n",
       "5 -43.60494 2.206      5.0000 ML            operator assigned ⋯\n",
       "6 -43.37156 3.033      7.5759 ML            NA                ⋯\n",
       "  evaluationstatus evaluationmode earthmodel usedphasecount usedstationcount\n",
       "1 reviewed         manual         nz1dr       7              3              \n",
       "2 reviewed         manual         nz1dr      11              7              \n",
       "3 reviewed         manual         nz1dr      25             18              \n",
       "4 reviewed         manual         nz1dr      12              8              \n",
       "5 reviewed         manual         nz1dr       7              4              \n",
       "6 reviewed         manual         nz1dr      13              8              \n",
       "  magnitudestationcount minimumdistance azimuthalgap originerror\n",
       "1  3                    0.098           209          0.05953    \n",
       "2  7                    0.276           112          0.28577    \n",
       "3 11                    0.022            72          0.16793    \n",
       "4  8                    0.258           105          0.27936    \n",
       "5  4                    0.068           222          0.29504    \n",
       "6  4                    0.006            68          0.16104    \n",
       "  magnitudeuncertainty\n",
       "1 0.149               \n",
       "2 0.304               \n",
       "3 0.159               \n",
       "4 0.394               \n",
       "5 0.181               \n",
       "6 0.202               "
      ]
     },
     "metadata": {},
     "output_type": "display_data"
    },
    {
     "data": {
      "text/html": [
       "<table class=\"dataframe\">\n",
       "<caption>A tibble: 6 × 21</caption>\n",
       "<thead>\n",
       "\t<tr><th scope=col>publicid</th><th scope=col>eventtype</th><th scope=col>origintime</th><th scope=col>modificationtime</th><th scope=col>longitude</th><th scope=col>latitude</th><th scope=col>magnitude</th><th scope=col>depth</th><th scope=col>magnitudetype</th><th scope=col>depthtype</th><th scope=col>⋯</th><th scope=col>evaluationstatus</th><th scope=col>evaluationmode</th><th scope=col>earthmodel</th><th scope=col>usedphasecount</th><th scope=col>usedstationcount</th><th scope=col>magnitudestationcount</th><th scope=col>minimumdistance</th><th scope=col>azimuthalgap</th><th scope=col>originerror</th><th scope=col>magnitudeuncertainty</th></tr>\n",
       "\t<tr><th scope=col>&lt;chr&gt;</th><th scope=col>&lt;chr&gt;</th><th scope=col>&lt;dttm&gt;</th><th scope=col>&lt;dttm&gt;</th><th scope=col>&lt;dbl&gt;</th><th scope=col>&lt;dbl&gt;</th><th scope=col>&lt;dbl&gt;</th><th scope=col>&lt;dbl&gt;</th><th scope=col>&lt;chr&gt;</th><th scope=col>&lt;chr&gt;</th><th scope=col>⋯</th><th scope=col>&lt;chr&gt;</th><th scope=col>&lt;chr&gt;</th><th scope=col>&lt;chr&gt;</th><th scope=col>&lt;dbl&gt;</th><th scope=col>&lt;dbl&gt;</th><th scope=col>&lt;dbl&gt;</th><th scope=col>&lt;dbl&gt;</th><th scope=col>&lt;dbl&gt;</th><th scope=col>&lt;dbl&gt;</th><th scope=col>&lt;dbl&gt;</th></tr>\n",
       "</thead>\n",
       "<tbody>\n",
       "\t<tr><td>2021p733635</td><td>earthquake  </td><td>2021-09-29 10:41:05</td><td>2021-09-29 10:46:19</td><td>175.0138</td><td>-38.01789</td><td>2.512570</td><td>44.106</td><td>M  </td><td>NA               </td><td>⋯</td><td>confirmed</td><td>manual</td><td>iasp91</td><td>15</td><td>13</td><td> 3</td><td>0.4808566</td><td>255.9881</td><td>0.8961800</td><td>0.0000000</td></tr>\n",
       "\t<tr><td>2021p726862</td><td>quarry blast</td><td>2021-09-26 22:32:12</td><td>2021-09-26 23:01:17</td><td>175.0600</td><td>-37.61000</td><td>1.507906</td><td> 0.000</td><td>MLv</td><td>NA               </td><td>⋯</td><td>confirmed</td><td>manual</td><td>NA    </td><td> 0</td><td> 0</td><td> 3</td><td>0.0000000</td><td>  0.0000</td><td>0.7012542</td><td>0.3855838</td></tr>\n",
       "\t<tr><td>2021p720050</td><td>earthquake  </td><td>2021-09-24 10:02:52</td><td>2021-09-24 10:11:37</td><td>175.0086</td><td>-35.79268</td><td>2.313619</td><td>12.000</td><td>MLv</td><td>operator assigned</td><td>⋯</td><td>confirmed</td><td>manual</td><td>iasp91</td><td>20</td><td>15</td><td> 9</td><td>0.5582985</td><td>205.5780</td><td>0.7125784</td><td>0.2830602</td></tr>\n",
       "\t<tr><td>2021p719474</td><td>quarry blast</td><td>2021-09-24 04:56:02</td><td>2021-09-24 05:03:13</td><td>175.0600</td><td>-37.61050</td><td>2.217205</td><td> 0.000</td><td>M  </td><td>NA               </td><td>⋯</td><td>confirmed</td><td>manual</td><td>NA    </td><td> 0</td><td> 0</td><td> 5</td><td>0.0000000</td><td>  0.0000</td><td>0.7941583</td><td>0.0000000</td></tr>\n",
       "\t<tr><td>2021p716741</td><td>earthquake  </td><td>2021-09-23 04:39:57</td><td>2021-09-23 04:43:54</td><td>175.0355</td><td>-35.80580</td><td>3.142799</td><td>12.000</td><td>M  </td><td>operator assigned</td><td>⋯</td><td>confirmed</td><td>manual</td><td>iasp91</td><td>20</td><td>16</td><td>12</td><td>0.5602195</td><td>206.4012</td><td>0.4626746</td><td>0.0000000</td></tr>\n",
       "\t<tr><td>2021p711367</td><td>quarry blast</td><td>2021-09-21 04:56:36</td><td>2021-09-21 05:08:57</td><td>175.0600</td><td>-37.61000</td><td>1.840075</td><td> 0.000</td><td>M  </td><td>NA               </td><td>⋯</td><td>confirmed</td><td>manual</td><td>NA    </td><td> 0</td><td> 0</td><td> 3</td><td>0.0000000</td><td>  0.0000</td><td>0.5901740</td><td>0.0000000</td></tr>\n",
       "</tbody>\n",
       "</table>\n"
      ],
      "text/latex": [
       "A tibble: 6 × 21\n",
       "\\begin{tabular}{lllllllllllllllllllll}\n",
       " publicid & eventtype & origintime & modificationtime & longitude & latitude & magnitude & depth & magnitudetype & depthtype & ⋯ & evaluationstatus & evaluationmode & earthmodel & usedphasecount & usedstationcount & magnitudestationcount & minimumdistance & azimuthalgap & originerror & magnitudeuncertainty\\\\\n",
       " <chr> & <chr> & <dttm> & <dttm> & <dbl> & <dbl> & <dbl> & <dbl> & <chr> & <chr> & ⋯ & <chr> & <chr> & <chr> & <dbl> & <dbl> & <dbl> & <dbl> & <dbl> & <dbl> & <dbl>\\\\\n",
       "\\hline\n",
       "\t 2021p733635 & earthquake   & 2021-09-29 10:41:05 & 2021-09-29 10:46:19 & 175.0138 & -38.01789 & 2.512570 & 44.106 & M   & NA                & ⋯ & confirmed & manual & iasp91 & 15 & 13 &  3 & 0.4808566 & 255.9881 & 0.8961800 & 0.0000000\\\\\n",
       "\t 2021p726862 & quarry blast & 2021-09-26 22:32:12 & 2021-09-26 23:01:17 & 175.0600 & -37.61000 & 1.507906 &  0.000 & MLv & NA                & ⋯ & confirmed & manual & NA     &  0 &  0 &  3 & 0.0000000 &   0.0000 & 0.7012542 & 0.3855838\\\\\n",
       "\t 2021p720050 & earthquake   & 2021-09-24 10:02:52 & 2021-09-24 10:11:37 & 175.0086 & -35.79268 & 2.313619 & 12.000 & MLv & operator assigned & ⋯ & confirmed & manual & iasp91 & 20 & 15 &  9 & 0.5582985 & 205.5780 & 0.7125784 & 0.2830602\\\\\n",
       "\t 2021p719474 & quarry blast & 2021-09-24 04:56:02 & 2021-09-24 05:03:13 & 175.0600 & -37.61050 & 2.217205 &  0.000 & M   & NA                & ⋯ & confirmed & manual & NA     &  0 &  0 &  5 & 0.0000000 &   0.0000 & 0.7941583 & 0.0000000\\\\\n",
       "\t 2021p716741 & earthquake   & 2021-09-23 04:39:57 & 2021-09-23 04:43:54 & 175.0355 & -35.80580 & 3.142799 & 12.000 & M   & operator assigned & ⋯ & confirmed & manual & iasp91 & 20 & 16 & 12 & 0.5602195 & 206.4012 & 0.4626746 & 0.0000000\\\\\n",
       "\t 2021p711367 & quarry blast & 2021-09-21 04:56:36 & 2021-09-21 05:08:57 & 175.0600 & -37.61000 & 1.840075 &  0.000 & M   & NA                & ⋯ & confirmed & manual & NA     &  0 &  0 &  3 & 0.0000000 &   0.0000 & 0.5901740 & 0.0000000\\\\\n",
       "\\end{tabular}\n"
      ],
      "text/markdown": [
       "\n",
       "A tibble: 6 × 21\n",
       "\n",
       "| publicid &lt;chr&gt; | eventtype &lt;chr&gt; | origintime &lt;dttm&gt; | modificationtime &lt;dttm&gt; | longitude &lt;dbl&gt; | latitude &lt;dbl&gt; | magnitude &lt;dbl&gt; | depth &lt;dbl&gt; | magnitudetype &lt;chr&gt; | depthtype &lt;chr&gt; | ⋯ ⋯ | evaluationstatus &lt;chr&gt; | evaluationmode &lt;chr&gt; | earthmodel &lt;chr&gt; | usedphasecount &lt;dbl&gt; | usedstationcount &lt;dbl&gt; | magnitudestationcount &lt;dbl&gt; | minimumdistance &lt;dbl&gt; | azimuthalgap &lt;dbl&gt; | originerror &lt;dbl&gt; | magnitudeuncertainty &lt;dbl&gt; |\n",
       "|---|---|---|---|---|---|---|---|---|---|---|---|---|---|---|---|---|---|---|---|---|\n",
       "| 2021p733635 | earthquake   | 2021-09-29 10:41:05 | 2021-09-29 10:46:19 | 175.0138 | -38.01789 | 2.512570 | 44.106 | M   | NA                | ⋯ | confirmed | manual | iasp91 | 15 | 13 |  3 | 0.4808566 | 255.9881 | 0.8961800 | 0.0000000 |\n",
       "| 2021p726862 | quarry blast | 2021-09-26 22:32:12 | 2021-09-26 23:01:17 | 175.0600 | -37.61000 | 1.507906 |  0.000 | MLv | NA                | ⋯ | confirmed | manual | NA     |  0 |  0 |  3 | 0.0000000 |   0.0000 | 0.7012542 | 0.3855838 |\n",
       "| 2021p720050 | earthquake   | 2021-09-24 10:02:52 | 2021-09-24 10:11:37 | 175.0086 | -35.79268 | 2.313619 | 12.000 | MLv | operator assigned | ⋯ | confirmed | manual | iasp91 | 20 | 15 |  9 | 0.5582985 | 205.5780 | 0.7125784 | 0.2830602 |\n",
       "| 2021p719474 | quarry blast | 2021-09-24 04:56:02 | 2021-09-24 05:03:13 | 175.0600 | -37.61050 | 2.217205 |  0.000 | M   | NA                | ⋯ | confirmed | manual | NA     |  0 |  0 |  5 | 0.0000000 |   0.0000 | 0.7941583 | 0.0000000 |\n",
       "| 2021p716741 | earthquake   | 2021-09-23 04:39:57 | 2021-09-23 04:43:54 | 175.0355 | -35.80580 | 3.142799 | 12.000 | M   | operator assigned | ⋯ | confirmed | manual | iasp91 | 20 | 16 | 12 | 0.5602195 | 206.4012 | 0.4626746 | 0.0000000 |\n",
       "| 2021p711367 | quarry blast | 2021-09-21 04:56:36 | 2021-09-21 05:08:57 | 175.0600 | -37.61000 | 1.840075 |  0.000 | M   | NA                | ⋯ | confirmed | manual | NA     |  0 |  0 |  3 | 0.0000000 |   0.0000 | 0.5901740 | 0.0000000 |\n",
       "\n"
      ],
      "text/plain": [
       "  publicid    eventtype    origintime          modificationtime    longitude\n",
       "1 2021p733635 earthquake   2021-09-29 10:41:05 2021-09-29 10:46:19 175.0138 \n",
       "2 2021p726862 quarry blast 2021-09-26 22:32:12 2021-09-26 23:01:17 175.0600 \n",
       "3 2021p720050 earthquake   2021-09-24 10:02:52 2021-09-24 10:11:37 175.0086 \n",
       "4 2021p719474 quarry blast 2021-09-24 04:56:02 2021-09-24 05:03:13 175.0600 \n",
       "5 2021p716741 earthquake   2021-09-23 04:39:57 2021-09-23 04:43:54 175.0355 \n",
       "6 2021p711367 quarry blast 2021-09-21 04:56:36 2021-09-21 05:08:57 175.0600 \n",
       "  latitude  magnitude depth  magnitudetype depthtype         ⋯ evaluationstatus\n",
       "1 -38.01789 2.512570  44.106 M             NA                ⋯ confirmed       \n",
       "2 -37.61000 1.507906   0.000 MLv           NA                ⋯ confirmed       \n",
       "3 -35.79268 2.313619  12.000 MLv           operator assigned ⋯ confirmed       \n",
       "4 -37.61050 2.217205   0.000 M             NA                ⋯ confirmed       \n",
       "5 -35.80580 3.142799  12.000 M             operator assigned ⋯ confirmed       \n",
       "6 -37.61000 1.840075   0.000 M             NA                ⋯ confirmed       \n",
       "  evaluationmode earthmodel usedphasecount usedstationcount\n",
       "1 manual         iasp91     15             13              \n",
       "2 manual         NA          0              0              \n",
       "3 manual         iasp91     20             15              \n",
       "4 manual         NA          0              0              \n",
       "5 manual         iasp91     20             16              \n",
       "6 manual         NA          0              0              \n",
       "  magnitudestationcount minimumdistance azimuthalgap originerror\n",
       "1  3                    0.4808566       255.9881     0.8961800  \n",
       "2  3                    0.0000000         0.0000     0.7012542  \n",
       "3  9                    0.5582985       205.5780     0.7125784  \n",
       "4  5                    0.0000000         0.0000     0.7941583  \n",
       "5 12                    0.5602195       206.4012     0.4626746  \n",
       "6  3                    0.0000000         0.0000     0.5901740  \n",
       "  magnitudeuncertainty\n",
       "1 0.0000000           \n",
       "2 0.3855838           \n",
       "3 0.2830602           \n",
       "4 0.0000000           \n",
       "5 0.0000000           \n",
       "6 0.0000000           "
      ]
     },
     "metadata": {},
     "output_type": "display_data"
    },
    {
     "data": {
      "text/html": [
       "<table class=\"dataframe\">\n",
       "<caption>A tibble: 6 × 21</caption>\n",
       "<thead>\n",
       "\t<tr><th scope=col>publicid</th><th scope=col>eventtype</th><th scope=col>origintime</th><th scope=col>modificationtime</th><th scope=col>longitude</th><th scope=col>latitude</th><th scope=col>magnitude</th><th scope=col>depth</th><th scope=col>magnitudetype</th><th scope=col>depthtype</th><th scope=col>⋯</th><th scope=col>evaluationstatus</th><th scope=col>evaluationmode</th><th scope=col>earthmodel</th><th scope=col>usedphasecount</th><th scope=col>usedstationcount</th><th scope=col>magnitudestationcount</th><th scope=col>minimumdistance</th><th scope=col>azimuthalgap</th><th scope=col>originerror</th><th scope=col>magnitudeuncertainty</th></tr>\n",
       "\t<tr><th scope=col>&lt;chr&gt;</th><th scope=col>&lt;chr&gt;</th><th scope=col>&lt;dttm&gt;</th><th scope=col>&lt;dttm&gt;</th><th scope=col>&lt;dbl&gt;</th><th scope=col>&lt;dbl&gt;</th><th scope=col>&lt;dbl&gt;</th><th scope=col>&lt;dbl&gt;</th><th scope=col>&lt;chr&gt;</th><th scope=col>&lt;chr&gt;</th><th scope=col>⋯</th><th scope=col>&lt;chr&gt;</th><th scope=col>&lt;chr&gt;</th><th scope=col>&lt;chr&gt;</th><th scope=col>&lt;dbl&gt;</th><th scope=col>&lt;dbl&gt;</th><th scope=col>&lt;dbl&gt;</th><th scope=col>&lt;dbl&gt;</th><th scope=col>&lt;dbl&gt;</th><th scope=col>&lt;dbl&gt;</th><th scope=col>&lt;dbl&gt;</th></tr>\n",
       "</thead>\n",
       "<tbody>\n",
       "\t<tr><td>2017p572730</td><td>NA        </td><td>2017-07-31 21:50:44</td><td>2017-07-31 21:52:35</td><td>176.3323</td><td>-40.15241</td><td>2.010647</td><td>21.17188</td><td>M</td><td>NA</td><td>⋯</td><td>NA       </td><td>automatic</td><td>nz3drx</td><td>29</td><td>29</td><td>12</td><td>0.12162650</td><td> 53.04043</td><td>0.6127585</td><td>0</td></tr>\n",
       "\t<tr><td>2017p572592</td><td>NA        </td><td>2017-07-31 20:37:05</td><td>2017-07-31 20:39:43</td><td>174.9472</td><td>-40.71035</td><td>2.099102</td><td>18.59375</td><td>M</td><td>NA</td><td>⋯</td><td>NA       </td><td>automatic</td><td>nz3drx</td><td>36</td><td>36</td><td>15</td><td>0.15543741</td><td> 96.73964</td><td>0.6100147</td><td>0</td></tr>\n",
       "\t<tr><td>2017p572047</td><td>NA        </td><td>2017-07-31 15:47:07</td><td>2017-07-31 15:49:20</td><td>174.7838</td><td>-40.44029</td><td>2.049390</td><td>39.68750</td><td>M</td><td>NA</td><td>⋯</td><td>NA       </td><td>automatic</td><td>nz3drx</td><td>13</td><td>13</td><td> 4</td><td>0.43107712</td><td>142.89197</td><td>0.3771842</td><td>0</td></tr>\n",
       "\t<tr><td>2017p571728</td><td>earthquake</td><td>2017-07-31 12:57:01</td><td>2017-08-16 03:08:37</td><td>175.4639</td><td>-40.87756</td><td>2.589917</td><td>20.50253</td><td>M</td><td>NA</td><td>⋯</td><td>confirmed</td><td>manual   </td><td>iasp91</td><td>27</td><td>21</td><td>25</td><td>0.04353966</td><td> 65.18704</td><td>0.4736394</td><td>0</td></tr>\n",
       "\t<tr><td>2017p571722</td><td>earthquake</td><td>2017-07-31 12:53:41</td><td>2017-08-16 02:12:08</td><td>175.4538</td><td>-40.87793</td><td>2.734226</td><td>19.93674</td><td>M</td><td>NA</td><td>⋯</td><td>confirmed</td><td>manual   </td><td>iasp91</td><td>25</td><td>18</td><td>32</td><td>0.05034081</td><td> 65.22339</td><td>0.5023152</td><td>0</td></tr>\n",
       "\t<tr><td>2017p571617</td><td>NA        </td><td>2017-07-31 11:57:37</td><td>2017-07-31 11:59:24</td><td>174.8723</td><td>-39.70575</td><td>1.819171</td><td>93.12500</td><td>M</td><td>NA</td><td>⋯</td><td>NA       </td><td>automatic</td><td>nz3drx</td><td>11</td><td>11</td><td> 4</td><td>0.09942616</td><td>138.36398</td><td>1.1902493</td><td>0</td></tr>\n",
       "</tbody>\n",
       "</table>\n"
      ],
      "text/latex": [
       "A tibble: 6 × 21\n",
       "\\begin{tabular}{lllllllllllllllllllll}\n",
       " publicid & eventtype & origintime & modificationtime & longitude & latitude & magnitude & depth & magnitudetype & depthtype & ⋯ & evaluationstatus & evaluationmode & earthmodel & usedphasecount & usedstationcount & magnitudestationcount & minimumdistance & azimuthalgap & originerror & magnitudeuncertainty\\\\\n",
       " <chr> & <chr> & <dttm> & <dttm> & <dbl> & <dbl> & <dbl> & <dbl> & <chr> & <chr> & ⋯ & <chr> & <chr> & <chr> & <dbl> & <dbl> & <dbl> & <dbl> & <dbl> & <dbl> & <dbl>\\\\\n",
       "\\hline\n",
       "\t 2017p572730 & NA         & 2017-07-31 21:50:44 & 2017-07-31 21:52:35 & 176.3323 & -40.15241 & 2.010647 & 21.17188 & M & NA & ⋯ & NA        & automatic & nz3drx & 29 & 29 & 12 & 0.12162650 &  53.04043 & 0.6127585 & 0\\\\\n",
       "\t 2017p572592 & NA         & 2017-07-31 20:37:05 & 2017-07-31 20:39:43 & 174.9472 & -40.71035 & 2.099102 & 18.59375 & M & NA & ⋯ & NA        & automatic & nz3drx & 36 & 36 & 15 & 0.15543741 &  96.73964 & 0.6100147 & 0\\\\\n",
       "\t 2017p572047 & NA         & 2017-07-31 15:47:07 & 2017-07-31 15:49:20 & 174.7838 & -40.44029 & 2.049390 & 39.68750 & M & NA & ⋯ & NA        & automatic & nz3drx & 13 & 13 &  4 & 0.43107712 & 142.89197 & 0.3771842 & 0\\\\\n",
       "\t 2017p571728 & earthquake & 2017-07-31 12:57:01 & 2017-08-16 03:08:37 & 175.4639 & -40.87756 & 2.589917 & 20.50253 & M & NA & ⋯ & confirmed & manual    & iasp91 & 27 & 21 & 25 & 0.04353966 &  65.18704 & 0.4736394 & 0\\\\\n",
       "\t 2017p571722 & earthquake & 2017-07-31 12:53:41 & 2017-08-16 02:12:08 & 175.4538 & -40.87793 & 2.734226 & 19.93674 & M & NA & ⋯ & confirmed & manual    & iasp91 & 25 & 18 & 32 & 0.05034081 &  65.22339 & 0.5023152 & 0\\\\\n",
       "\t 2017p571617 & NA         & 2017-07-31 11:57:37 & 2017-07-31 11:59:24 & 174.8723 & -39.70575 & 1.819171 & 93.12500 & M & NA & ⋯ & NA        & automatic & nz3drx & 11 & 11 &  4 & 0.09942616 & 138.36398 & 1.1902493 & 0\\\\\n",
       "\\end{tabular}\n"
      ],
      "text/markdown": [
       "\n",
       "A tibble: 6 × 21\n",
       "\n",
       "| publicid &lt;chr&gt; | eventtype &lt;chr&gt; | origintime &lt;dttm&gt; | modificationtime &lt;dttm&gt; | longitude &lt;dbl&gt; | latitude &lt;dbl&gt; | magnitude &lt;dbl&gt; | depth &lt;dbl&gt; | magnitudetype &lt;chr&gt; | depthtype &lt;chr&gt; | ⋯ ⋯ | evaluationstatus &lt;chr&gt; | evaluationmode &lt;chr&gt; | earthmodel &lt;chr&gt; | usedphasecount &lt;dbl&gt; | usedstationcount &lt;dbl&gt; | magnitudestationcount &lt;dbl&gt; | minimumdistance &lt;dbl&gt; | azimuthalgap &lt;dbl&gt; | originerror &lt;dbl&gt; | magnitudeuncertainty &lt;dbl&gt; |\n",
       "|---|---|---|---|---|---|---|---|---|---|---|---|---|---|---|---|---|---|---|---|---|\n",
       "| 2017p572730 | NA         | 2017-07-31 21:50:44 | 2017-07-31 21:52:35 | 176.3323 | -40.15241 | 2.010647 | 21.17188 | M | NA | ⋯ | NA        | automatic | nz3drx | 29 | 29 | 12 | 0.12162650 |  53.04043 | 0.6127585 | 0 |\n",
       "| 2017p572592 | NA         | 2017-07-31 20:37:05 | 2017-07-31 20:39:43 | 174.9472 | -40.71035 | 2.099102 | 18.59375 | M | NA | ⋯ | NA        | automatic | nz3drx | 36 | 36 | 15 | 0.15543741 |  96.73964 | 0.6100147 | 0 |\n",
       "| 2017p572047 | NA         | 2017-07-31 15:47:07 | 2017-07-31 15:49:20 | 174.7838 | -40.44029 | 2.049390 | 39.68750 | M | NA | ⋯ | NA        | automatic | nz3drx | 13 | 13 |  4 | 0.43107712 | 142.89197 | 0.3771842 | 0 |\n",
       "| 2017p571728 | earthquake | 2017-07-31 12:57:01 | 2017-08-16 03:08:37 | 175.4639 | -40.87756 | 2.589917 | 20.50253 | M | NA | ⋯ | confirmed | manual    | iasp91 | 27 | 21 | 25 | 0.04353966 |  65.18704 | 0.4736394 | 0 |\n",
       "| 2017p571722 | earthquake | 2017-07-31 12:53:41 | 2017-08-16 02:12:08 | 175.4538 | -40.87793 | 2.734226 | 19.93674 | M | NA | ⋯ | confirmed | manual    | iasp91 | 25 | 18 | 32 | 0.05034081 |  65.22339 | 0.5023152 | 0 |\n",
       "| 2017p571617 | NA         | 2017-07-31 11:57:37 | 2017-07-31 11:59:24 | 174.8723 | -39.70575 | 1.819171 | 93.12500 | M | NA | ⋯ | NA        | automatic | nz3drx | 11 | 11 |  4 | 0.09942616 | 138.36398 | 1.1902493 | 0 |\n",
       "\n"
      ],
      "text/plain": [
       "  publicid    eventtype  origintime          modificationtime    longitude\n",
       "1 2017p572730 NA         2017-07-31 21:50:44 2017-07-31 21:52:35 176.3323 \n",
       "2 2017p572592 NA         2017-07-31 20:37:05 2017-07-31 20:39:43 174.9472 \n",
       "3 2017p572047 NA         2017-07-31 15:47:07 2017-07-31 15:49:20 174.7838 \n",
       "4 2017p571728 earthquake 2017-07-31 12:57:01 2017-08-16 03:08:37 175.4639 \n",
       "5 2017p571722 earthquake 2017-07-31 12:53:41 2017-08-16 02:12:08 175.4538 \n",
       "6 2017p571617 NA         2017-07-31 11:57:37 2017-07-31 11:59:24 174.8723 \n",
       "  latitude  magnitude depth    magnitudetype depthtype ⋯ evaluationstatus\n",
       "1 -40.15241 2.010647  21.17188 M             NA        ⋯ NA              \n",
       "2 -40.71035 2.099102  18.59375 M             NA        ⋯ NA              \n",
       "3 -40.44029 2.049390  39.68750 M             NA        ⋯ NA              \n",
       "4 -40.87756 2.589917  20.50253 M             NA        ⋯ confirmed       \n",
       "5 -40.87793 2.734226  19.93674 M             NA        ⋯ confirmed       \n",
       "6 -39.70575 1.819171  93.12500 M             NA        ⋯ NA              \n",
       "  evaluationmode earthmodel usedphasecount usedstationcount\n",
       "1 automatic      nz3drx     29             29              \n",
       "2 automatic      nz3drx     36             36              \n",
       "3 automatic      nz3drx     13             13              \n",
       "4 manual         iasp91     27             21              \n",
       "5 manual         iasp91     25             18              \n",
       "6 automatic      nz3drx     11             11              \n",
       "  magnitudestationcount minimumdistance azimuthalgap originerror\n",
       "1 12                    0.12162650       53.04043    0.6127585  \n",
       "2 15                    0.15543741       96.73964    0.6100147  \n",
       "3  4                    0.43107712      142.89197    0.3771842  \n",
       "4 25                    0.04353966       65.18704    0.4736394  \n",
       "5 32                    0.05034081       65.22339    0.5023152  \n",
       "6  4                    0.09942616      138.36398    1.1902493  \n",
       "  magnitudeuncertainty\n",
       "1 0                   \n",
       "2 0                   \n",
       "3 0                   \n",
       "4 0                   \n",
       "5 0                   \n",
       "6 0                   "
      ]
     },
     "metadata": {},
     "output_type": "display_data"
    }
   ],
   "source": [
    "# View a selection of each dataset\n",
    "head(cant_earthquake_df_2005_to_2010)\n",
    "head(auk_earthquake_df_2005_to_2021)\n",
    "head(wlg_earthquake_df_2015_to_2017)"
   ]
  },
  {
   "cell_type": "code",
   "execution_count": null,
   "id": "41fabaf8-cb97-4280-a9e4-deb860c1f6a7",
   "metadata": {},
   "outputs": [],
   "source": [
    "# Visualise the missing data\n",
    "library(visdat)\n",
    "vis_miss(cant_earthquake_df_2005_to_2010)\n",
    "vis_miss(cant_earthquake_df_2011_to_2015)\n",
    "vis_miss(cant_earthquake_df_2016_to_2021)\n",
    "\n",
    "vis_miss(auk_earthquake_df_2005_to_2021)\n",
    "\n",
    "vis_miss(wlg_earthquake_df_2005_to_2007)\n",
    "vis_miss(wlg_earthquake_df_2007_to_2013)\n",
    "vis_miss(wlg_earthquake_df_2013_to_2015)\n",
    "vis_miss(wlg_earthquake_df_2015_to_2017)\n",
    "vis_miss(wlg_earthquake_df_2017_to_2021)\n",
    "\n",
    "# The visualisation shows that there are a few columns missing data - however, \n",
    "# these are not columns that we will need to use which is good news :)"
   ]
  },
  {
   "cell_type": "code",
   "execution_count": null,
   "id": "1c31295a-3e40-44fc-a881-64ec92a432b1",
   "metadata": {},
   "outputs": [],
   "source": [
    "glimpse(earthquake_df_2016_to_2021)"
   ]
  },
  {
   "cell_type": "code",
   "execution_count": null,
   "id": "2da1edd0-e10a-4481-bd53-e850e7528f77",
   "metadata": {},
   "outputs": [],
   "source": [
    "colnames(earthquake_df_2005_to_2010) == colnames(earthquake_df_2011_to_2015)\n",
    "colnames(earthquake_df_2011_to_2015) == colnames(earthquake_df_2016_to_2021)"
   ]
  },
  {
   "cell_type": "markdown",
   "id": "0b90a640-aace-4b8a-aa3b-3ae6e181b875",
   "metadata": {},
   "source": [
    "### Wrangling the Dataset"
   ]
  },
  {
   "cell_type": "markdown",
   "id": "d4dbcea1-16e6-43e2-9787-683684ab5ecc",
   "metadata": {},
   "source": [
    "We need to create a function that does all the data wrangling we need, then we can run it on each of our three data sets (to save us time) :)"
   ]
  },
  {
   "cell_type": "code",
   "execution_count": null,
   "id": "5a477c4d-9c64-4a1a-ba41-4694f0c77f56",
   "metadata": {},
   "outputs": [],
   "source": [
    "install.packages(\"lubridate\")"
   ]
  },
  {
   "cell_type": "code",
   "execution_count": 7,
   "id": "649680bd-148d-43be-9831-7f6d437158ca",
   "metadata": {},
   "outputs": [],
   "source": [
    "wrangle_earthquake_data <- function(dataset, city) {\n",
    "    # step one - filter the required columns\n",
    "    filtered_data <- dataset %>% select(eventtype, origintime, longitude, latitude, magnitude, depth)\n",
    "    \n",
    "    # step two - filter only the eventtype == \"earthquake\"\n",
    "    filtered_data <- filtered_data %>% filter(eventtype == \"earthquake\")\n",
    "       \n",
    "    # step three - filter out insiginificant earthquakes\n",
    "    filtered_data <- filtered_data %>% filter(magnitude >= 4.0)\n",
    "    \n",
    "    # step four - add a column with just the year\n",
    "    filtered_data <- filtered_data %>% mutate(year = origintime %>% substr(1, 4))\n",
    "    \n",
    "    filtered_data <- filtered_data %>% mutate(city = city)\n",
    "    \n",
    "    filtered_data <- filtered_data %>% select(city, year, origintime, longitude, latitude, magnitude, depth)\n",
    "    \n",
    "    # final step - return filtered data\n",
    "    return(filtered_data)\n",
    "}"
   ]
  },
  {
   "cell_type": "code",
   "execution_count": 67,
   "id": "a318b5f3-12fa-43b5-96ca-0f19cb195712",
   "metadata": {},
   "outputs": [
    {
     "data": {
      "image/png": "[encoded data removed]",
      "text/plain": [
       "plot without title"
      ]
     },
     "metadata": {
      "image/png": {
       "height": 420,
       "width": 420
      }
     },
     "output_type": "display_data"
    }
   ],
   "source": [
    "ggplot(data=complete_cant_earthquake_df) + \n",
    "        geom_point(mapping=aes(x=magnitude, y=-depth, colour=magnitude))"
   ]
  },
  {
   "cell_type": "code",
   "execution_count": 8,
   "id": "ad627b79-c686-4c58-84a2-cd83121f6367",
   "metadata": {},
   "outputs": [],
   "source": [
    "# Run the wrangling function on each of the data sets\n",
    "\n",
    "wrangled_df_cant_2005_to_2010 <- wrangle_earthquake_data(cant_earthquake_df_2005_to_2010, 'Canterbury')\n",
    "wrangled_df_cant_2011_to_2015 <- wrangle_earthquake_data(cant_earthquake_df_2011_to_2015, 'Canterbury')\n",
    "wrangled_df_cant_2016_to_2021 <- wrangle_earthquake_data(cant_earthquake_df_2016_to_2021, 'Canterbury')\n",
    "\n",
    "wrangled_df_auk_earthquake_df_2005_to_2021 <- wrangle_earthquake_data(auk_earthquake_df_2005_to_2021, 'Auckland')\n",
    "\n",
    "wrangled_df_wlg_earthquake_df_2005_to_2007 <- wrangle_earthquake_data(wlg_earthquake_df_2005_to_2007, 'Wellington')\n",
    "wrangled_df_wlg_earthquake_df_2007_to_2013 <- wrangle_earthquake_data(wlg_earthquake_df_2007_to_2013, 'Wellington')\n",
    "wrangled_df_wlg_earthquake_df_2013_to_2015 <- wrangle_earthquake_data(wlg_earthquake_df_2013_to_2015, 'Wellington')\n",
    "wrangled_df_wlg_earthquake_df_2015_to_2017 <- wrangle_earthquake_data(wlg_earthquake_df_2015_to_2017, 'Wellington')\n",
    "wrangled_df_wlg_earthquake_df_2017_to_2021 <- wrangle_earthquake_data(wlg_earthquake_df_2017_to_2021, 'Wellington')"
   ]
  },
  {
   "cell_type": "code",
   "execution_count": 102,
   "id": "b96fedaf-42da-4af4-9276-f13dc44ceaba",
   "metadata": {},
   "outputs": [
    {
     "data": {
      "text/html": [
       "<table class=\"dataframe\">\n",
       "<caption>A tibble: 6 × 5</caption>\n",
       "<thead>\n",
       "\t<tr><th scope=col>city</th><th scope=col>year</th><th scope=col>origintime</th><th scope=col>magnitude</th><th scope=col>depth</th></tr>\n",
       "\t<tr><th scope=col>&lt;chr&gt;</th><th scope=col>&lt;chr&gt;</th><th scope=col>&lt;dttm&gt;</th><th scope=col>&lt;dbl&gt;</th><th scope=col>&lt;dbl&gt;</th></tr>\n",
       "</thead>\n",
       "<tbody>\n",
       "\t<tr><td>Canterbury</td><td>2010</td><td>2010-12-26 11:10:49</td><td>4.00</td><td> 5.0551</td></tr>\n",
       "\t<tr><td>Canterbury</td><td>2010</td><td>2010-12-25 21:30:15</td><td>4.70</td><td> 5.0293</td></tr>\n",
       "\t<tr><td>Canterbury</td><td>2010</td><td>2010-12-25 13:32:09</td><td>4.56</td><td> 6.6561</td></tr>\n",
       "\t<tr><td>Canterbury</td><td>2010</td><td>2010-11-14 06:21:05</td><td>4.40</td><td>10.7049</td></tr>\n",
       "\t<tr><td>Canterbury</td><td>2010</td><td>2010-11-13 12:34:06</td><td>4.40</td><td>10.3896</td></tr>\n",
       "\t<tr><td>Canterbury</td><td>2010</td><td>2010-11-06 13:52:03</td><td>4.60</td><td> 8.2620</td></tr>\n",
       "</tbody>\n",
       "</table>\n"
      ],
      "text/latex": [
       "A tibble: 6 × 5\n",
       "\\begin{tabular}{lllll}\n",
       " city & year & origintime & magnitude & depth\\\\\n",
       " <chr> & <chr> & <dttm> & <dbl> & <dbl>\\\\\n",
       "\\hline\n",
       "\t Canterbury & 2010 & 2010-12-26 11:10:49 & 4.00 &  5.0551\\\\\n",
       "\t Canterbury & 2010 & 2010-12-25 21:30:15 & 4.70 &  5.0293\\\\\n",
       "\t Canterbury & 2010 & 2010-12-25 13:32:09 & 4.56 &  6.6561\\\\\n",
       "\t Canterbury & 2010 & 2010-11-14 06:21:05 & 4.40 & 10.7049\\\\\n",
       "\t Canterbury & 2010 & 2010-11-13 12:34:06 & 4.40 & 10.3896\\\\\n",
       "\t Canterbury & 2010 & 2010-11-06 13:52:03 & 4.60 &  8.2620\\\\\n",
       "\\end{tabular}\n"
      ],
      "text/markdown": [
       "\n",
       "A tibble: 6 × 5\n",
       "\n",
       "| city &lt;chr&gt; | year &lt;chr&gt; | origintime &lt;dttm&gt; | magnitude &lt;dbl&gt; | depth &lt;dbl&gt; |\n",
       "|---|---|---|---|---|\n",
       "| Canterbury | 2010 | 2010-12-26 11:10:49 | 4.00 |  5.0551 |\n",
       "| Canterbury | 2010 | 2010-12-25 21:30:15 | 4.70 |  5.0293 |\n",
       "| Canterbury | 2010 | 2010-12-25 13:32:09 | 4.56 |  6.6561 |\n",
       "| Canterbury | 2010 | 2010-11-14 06:21:05 | 4.40 | 10.7049 |\n",
       "| Canterbury | 2010 | 2010-11-13 12:34:06 | 4.40 | 10.3896 |\n",
       "| Canterbury | 2010 | 2010-11-06 13:52:03 | 4.60 |  8.2620 |\n",
       "\n"
      ],
      "text/plain": [
       "  city       year origintime          magnitude depth  \n",
       "1 Canterbury 2010 2010-12-26 11:10:49 4.00       5.0551\n",
       "2 Canterbury 2010 2010-12-25 21:30:15 4.70       5.0293\n",
       "3 Canterbury 2010 2010-12-25 13:32:09 4.56       6.6561\n",
       "4 Canterbury 2010 2010-11-14 06:21:05 4.40      10.7049\n",
       "5 Canterbury 2010 2010-11-13 12:34:06 4.40      10.3896\n",
       "6 Canterbury 2010 2010-11-06 13:52:03 4.60       8.2620"
      ]
     },
     "metadata": {},
     "output_type": "display_data"
    }
   ],
   "source": [
    "head(wrangled_df_cant_2005_to_2010)"
   ]
  },
  {
   "cell_type": "markdown",
   "id": "c832aaba-1315-4df9-b37e-748aee480f4a",
   "metadata": {},
   "source": [
    "### Combining the datasets"
   ]
  },
  {
   "cell_type": "code",
   "execution_count": 9,
   "id": "0483048f-af73-4da0-a6f3-710af935c343",
   "metadata": {},
   "outputs": [],
   "source": [
    "# Combines the three datasets\n",
    "complete_cant_earthquake_df <- rbind(wrangled_df_cant_2005_to_2010, wrangled_df_cant_2011_to_2015, wrangled_df_cant_2016_to_2021)\n",
    "complete_auk_earthquake_df <- wrangled_df_auk_earthquake_df_2005_to_2021\n",
    "complete_wlg_earthquake_df <- rbind(wrangled_df_wlg_earthquake_df_2005_to_2007, wrangled_df_wlg_earthquake_df_2007_to_2013, wrangled_df_wlg_earthquake_df_2013_to_2015, wrangled_df_wlg_earthquake_df_2015_to_2017, wrangled_df_wlg_earthquake_df_2017_to_2021)"
   ]
  },
  {
   "cell_type": "code",
   "execution_count": 10,
   "id": "da756f47-4cdb-4517-a06e-7f2a15c86523",
   "metadata": {},
   "outputs": [],
   "source": [
    "complete_earthquake_df <- rbind(complete_cant_earthquake_df, complete_auk_earthquake_df, complete_wlg_earthquake_df)"
   ]
  },
  {
   "cell_type": "code",
   "execution_count": 11,
   "id": "889c582c-bd6f-4b6d-a6c4-b9dd255cec34",
   "metadata": {},
   "outputs": [],
   "source": [
    "write.csv(complete_earthquake_df, \"FINAL_earthquake_data.csv\", row.names=TRUE)"
   ]
  },
  {
   "cell_type": "markdown",
   "id": "65c5774a-91f9-40ee-96d5-0cafbf9d28e2",
   "metadata": {},
   "source": [
    "### Creating a summary table"
   ]
  },
  {
   "cell_type": "code",
   "execution_count": 115,
   "id": "fe61f115-6668-4f16-9f01-7b125098949b",
   "metadata": {},
   "outputs": [
    {
     "name": "stderr",
     "output_type": "stream",
     "text": [
      "`summarise()` has grouped output by 'city'. You can override using the `.groups` argument.\n",
      "\n",
      "`summarise()` has grouped output by 'city'. You can override using the `.groups` argument.\n",
      "\n",
      "`summarise()` has grouped output by 'city'. You can override using the `.groups` argument.\n",
      "\n",
      "Joining, by = c(\"city\", \"year\")\n",
      "\n",
      "Joining, by = c(\"city\", \"year\")\n",
      "\n"
     ]
    },
    {
     "data": {
      "text/html": [
       "<table class=\"dataframe\">\n",
       "<caption>A grouped_df: 37 × 5</caption>\n",
       "<thead>\n",
       "\t<tr><th scope=col>city</th><th scope=col>year</th><th scope=col>number_of_eq</th><th scope=col>average_mag</th><th scope=col>max_mag</th></tr>\n",
       "\t<tr><th scope=col>&lt;chr&gt;</th><th scope=col>&lt;chr&gt;</th><th scope=col>&lt;int&gt;</th><th scope=col>&lt;dbl&gt;</th><th scope=col>&lt;dbl&gt;</th></tr>\n",
       "</thead>\n",
       "<tbody>\n",
       "\t<tr><td>Auckland  </td><td>2007</td><td>  1</td><td>4.100000</td><td>4.100000</td></tr>\n",
       "\t<tr><td>Auckland  </td><td>2010</td><td>  1</td><td>4.255000</td><td>4.255000</td></tr>\n",
       "\t<tr><td>Auckland  </td><td>2019</td><td>  3</td><td>4.068303</td><td>4.148209</td></tr>\n",
       "\t<tr><td>Canterbury</td><td>2005</td><td>  5</td><td>4.302400</td><td>4.700000</td></tr>\n",
       "\t<tr><td>Canterbury</td><td>2006</td><td>  3</td><td>4.188000</td><td>4.464000</td></tr>\n",
       "\t<tr><td>Canterbury</td><td>2007</td><td>  8</td><td>4.368750</td><td>5.500000</td></tr>\n",
       "\t<tr><td>Canterbury</td><td>2008</td><td>  8</td><td>4.492625</td><td>5.000000</td></tr>\n",
       "\t<tr><td>Canterbury</td><td>2009</td><td>  5</td><td>4.361800</td><td>4.609000</td></tr>\n",
       "\t<tr><td>Canterbury</td><td>2010</td><td>150</td><td>4.436780</td><td>7.200000</td></tr>\n",
       "\t<tr><td>Canterbury</td><td>2011</td><td>164</td><td>4.376494</td><td>6.200000</td></tr>\n",
       "\t<tr><td>Canterbury</td><td>2012</td><td> 46</td><td>4.442235</td><td>5.475451</td></tr>\n",
       "\t<tr><td>Canterbury</td><td>2013</td><td> 10</td><td>4.324064</td><td>4.715073</td></tr>\n",
       "\t<tr><td>Canterbury</td><td>2014</td><td>  7</td><td>4.272789</td><td>4.503854</td></tr>\n",
       "\t<tr><td>Canterbury</td><td>2015</td><td> 12</td><td>4.542963</td><td>6.233121</td></tr>\n",
       "\t<tr><td>Canterbury</td><td>2016</td><td>260</td><td>4.516867</td><td>7.820380</td></tr>\n",
       "\t<tr><td>Canterbury</td><td>2017</td><td> 42</td><td>4.441104</td><td>5.588791</td></tr>\n",
       "\t<tr><td>Canterbury</td><td>2018</td><td> 10</td><td>4.310746</td><td>4.712806</td></tr>\n",
       "\t<tr><td>Canterbury</td><td>2019</td><td>  2</td><td>4.440540</td><td>4.614157</td></tr>\n",
       "\t<tr><td>Canterbury</td><td>2020</td><td>  6</td><td>4.457348</td><td>5.091373</td></tr>\n",
       "\t<tr><td>Canterbury</td><td>2021</td><td>  4</td><td>4.176842</td><td>4.322298</td></tr>\n",
       "\t<tr><td>Wellington</td><td>2005</td><td> 37</td><td>4.338676</td><td>5.300000</td></tr>\n",
       "\t<tr><td>Wellington</td><td>2006</td><td> 26</td><td>4.264423</td><td>4.739000</td></tr>\n",
       "\t<tr><td>Wellington</td><td>2007</td><td> 17</td><td>4.230824</td><td>4.503000</td></tr>\n",
       "\t<tr><td>Wellington</td><td>2008</td><td> 16</td><td>4.247750</td><td>5.000000</td></tr>\n",
       "\t<tr><td>Wellington</td><td>2009</td><td> 20</td><td>4.244750</td><td>4.700000</td></tr>\n",
       "\t<tr><td>Wellington</td><td>2010</td><td> 23</td><td>4.351739</td><td>5.000000</td></tr>\n",
       "\t<tr><td>Wellington</td><td>2011</td><td> 21</td><td>4.300048</td><td>5.100000</td></tr>\n",
       "\t<tr><td>Wellington</td><td>2012</td><td> 13</td><td>4.416723</td><td>5.010877</td></tr>\n",
       "\t<tr><td>Wellington</td><td>2013</td><td>137</td><td>4.521839</td><td>6.493255</td></tr>\n",
       "\t<tr><td>Wellington</td><td>2014</td><td> 38</td><td>4.402196</td><td>6.229762</td></tr>\n",
       "\t<tr><td>Wellington</td><td>2015</td><td> 30</td><td>4.354215</td><td>5.691132</td></tr>\n",
       "\t<tr><td>Wellington</td><td>2016</td><td>265</td><td>4.473690</td><td>6.024825</td></tr>\n",
       "\t<tr><td>Wellington</td><td>2017</td><td> 53</td><td>4.395334</td><td>5.414743</td></tr>\n",
       "\t<tr><td>Wellington</td><td>2018</td><td> 22</td><td>4.293520</td><td>5.210893</td></tr>\n",
       "\t<tr><td>Wellington</td><td>2019</td><td> 16</td><td>4.303186</td><td>4.882448</td></tr>\n",
       "\t<tr><td>Wellington</td><td>2020</td><td> 24</td><td>4.539916</td><td>5.846289</td></tr>\n",
       "\t<tr><td>Wellington</td><td>2021</td><td> 12</td><td>4.296082</td><td>4.810317</td></tr>\n",
       "</tbody>\n",
       "</table>\n"
      ],
      "text/latex": [
       "A grouped\\_df: 37 × 5\n",
       "\\begin{tabular}{lllll}\n",
       " city & year & number\\_of\\_eq & average\\_mag & max\\_mag\\\\\n",
       " <chr> & <chr> & <int> & <dbl> & <dbl>\\\\\n",
       "\\hline\n",
       "\t Auckland   & 2007 &   1 & 4.100000 & 4.100000\\\\\n",
       "\t Auckland   & 2010 &   1 & 4.255000 & 4.255000\\\\\n",
       "\t Auckland   & 2019 &   3 & 4.068303 & 4.148209\\\\\n",
       "\t Canterbury & 2005 &   5 & 4.302400 & 4.700000\\\\\n",
       "\t Canterbury & 2006 &   3 & 4.188000 & 4.464000\\\\\n",
       "\t Canterbury & 2007 &   8 & 4.368750 & 5.500000\\\\\n",
       "\t Canterbury & 2008 &   8 & 4.492625 & 5.000000\\\\\n",
       "\t Canterbury & 2009 &   5 & 4.361800 & 4.609000\\\\\n",
       "\t Canterbury & 2010 & 150 & 4.436780 & 7.200000\\\\\n",
       "\t Canterbury & 2011 & 164 & 4.376494 & 6.200000\\\\\n",
       "\t Canterbury & 2012 &  46 & 4.442235 & 5.475451\\\\\n",
       "\t Canterbury & 2013 &  10 & 4.324064 & 4.715073\\\\\n",
       "\t Canterbury & 2014 &   7 & 4.272789 & 4.503854\\\\\n",
       "\t Canterbury & 2015 &  12 & 4.542963 & 6.233121\\\\\n",
       "\t Canterbury & 2016 & 260 & 4.516867 & 7.820380\\\\\n",
       "\t Canterbury & 2017 &  42 & 4.441104 & 5.588791\\\\\n",
       "\t Canterbury & 2018 &  10 & 4.310746 & 4.712806\\\\\n",
       "\t Canterbury & 2019 &   2 & 4.440540 & 4.614157\\\\\n",
       "\t Canterbury & 2020 &   6 & 4.457348 & 5.091373\\\\\n",
       "\t Canterbury & 2021 &   4 & 4.176842 & 4.322298\\\\\n",
       "\t Wellington & 2005 &  37 & 4.338676 & 5.300000\\\\\n",
       "\t Wellington & 2006 &  26 & 4.264423 & 4.739000\\\\\n",
       "\t Wellington & 2007 &  17 & 4.230824 & 4.503000\\\\\n",
       "\t Wellington & 2008 &  16 & 4.247750 & 5.000000\\\\\n",
       "\t Wellington & 2009 &  20 & 4.244750 & 4.700000\\\\\n",
       "\t Wellington & 2010 &  23 & 4.351739 & 5.000000\\\\\n",
       "\t Wellington & 2011 &  21 & 4.300048 & 5.100000\\\\\n",
       "\t Wellington & 2012 &  13 & 4.416723 & 5.010877\\\\\n",
       "\t Wellington & 2013 & 137 & 4.521839 & 6.493255\\\\\n",
       "\t Wellington & 2014 &  38 & 4.402196 & 6.229762\\\\\n",
       "\t Wellington & 2015 &  30 & 4.354215 & 5.691132\\\\\n",
       "\t Wellington & 2016 & 265 & 4.473690 & 6.024825\\\\\n",
       "\t Wellington & 2017 &  53 & 4.395334 & 5.414743\\\\\n",
       "\t Wellington & 2018 &  22 & 4.293520 & 5.210893\\\\\n",
       "\t Wellington & 2019 &  16 & 4.303186 & 4.882448\\\\\n",
       "\t Wellington & 2020 &  24 & 4.539916 & 5.846289\\\\\n",
       "\t Wellington & 2021 &  12 & 4.296082 & 4.810317\\\\\n",
       "\\end{tabular}\n"
      ],
      "text/markdown": [
       "\n",
       "A grouped_df: 37 × 5\n",
       "\n",
       "| city &lt;chr&gt; | year &lt;chr&gt; | number_of_eq &lt;int&gt; | average_mag &lt;dbl&gt; | max_mag &lt;dbl&gt; |\n",
       "|---|---|---|---|---|\n",
       "| Auckland   | 2007 |   1 | 4.100000 | 4.100000 |\n",
       "| Auckland   | 2010 |   1 | 4.255000 | 4.255000 |\n",
       "| Auckland   | 2019 |   3 | 4.068303 | 4.148209 |\n",
       "| Canterbury | 2005 |   5 | 4.302400 | 4.700000 |\n",
       "| Canterbury | 2006 |   3 | 4.188000 | 4.464000 |\n",
       "| Canterbury | 2007 |   8 | 4.368750 | 5.500000 |\n",
       "| Canterbury | 2008 |   8 | 4.492625 | 5.000000 |\n",
       "| Canterbury | 2009 |   5 | 4.361800 | 4.609000 |\n",
       "| Canterbury | 2010 | 150 | 4.436780 | 7.200000 |\n",
       "| Canterbury | 2011 | 164 | 4.376494 | 6.200000 |\n",
       "| Canterbury | 2012 |  46 | 4.442235 | 5.475451 |\n",
       "| Canterbury | 2013 |  10 | 4.324064 | 4.715073 |\n",
       "| Canterbury | 2014 |   7 | 4.272789 | 4.503854 |\n",
       "| Canterbury | 2015 |  12 | 4.542963 | 6.233121 |\n",
       "| Canterbury | 2016 | 260 | 4.516867 | 7.820380 |\n",
       "| Canterbury | 2017 |  42 | 4.441104 | 5.588791 |\n",
       "| Canterbury | 2018 |  10 | 4.310746 | 4.712806 |\n",
       "| Canterbury | 2019 |   2 | 4.440540 | 4.614157 |\n",
       "| Canterbury | 2020 |   6 | 4.457348 | 5.091373 |\n",
       "| Canterbury | 2021 |   4 | 4.176842 | 4.322298 |\n",
       "| Wellington | 2005 |  37 | 4.338676 | 5.300000 |\n",
       "| Wellington | 2006 |  26 | 4.264423 | 4.739000 |\n",
       "| Wellington | 2007 |  17 | 4.230824 | 4.503000 |\n",
       "| Wellington | 2008 |  16 | 4.247750 | 5.000000 |\n",
       "| Wellington | 2009 |  20 | 4.244750 | 4.700000 |\n",
       "| Wellington | 2010 |  23 | 4.351739 | 5.000000 |\n",
       "| Wellington | 2011 |  21 | 4.300048 | 5.100000 |\n",
       "| Wellington | 2012 |  13 | 4.416723 | 5.010877 |\n",
       "| Wellington | 2013 | 137 | 4.521839 | 6.493255 |\n",
       "| Wellington | 2014 |  38 | 4.402196 | 6.229762 |\n",
       "| Wellington | 2015 |  30 | 4.354215 | 5.691132 |\n",
       "| Wellington | 2016 | 265 | 4.473690 | 6.024825 |\n",
       "| Wellington | 2017 |  53 | 4.395334 | 5.414743 |\n",
       "| Wellington | 2018 |  22 | 4.293520 | 5.210893 |\n",
       "| Wellington | 2019 |  16 | 4.303186 | 4.882448 |\n",
       "| Wellington | 2020 |  24 | 4.539916 | 5.846289 |\n",
       "| Wellington | 2021 |  12 | 4.296082 | 4.810317 |\n",
       "\n"
      ],
      "text/plain": [
       "   city       year number_of_eq average_mag max_mag \n",
       "1  Auckland   2007   1          4.100000    4.100000\n",
       "2  Auckland   2010   1          4.255000    4.255000\n",
       "3  Auckland   2019   3          4.068303    4.148209\n",
       "4  Canterbury 2005   5          4.302400    4.700000\n",
       "5  Canterbury 2006   3          4.188000    4.464000\n",
       "6  Canterbury 2007   8          4.368750    5.500000\n",
       "7  Canterbury 2008   8          4.492625    5.000000\n",
       "8  Canterbury 2009   5          4.361800    4.609000\n",
       "9  Canterbury 2010 150          4.436780    7.200000\n",
       "10 Canterbury 2011 164          4.376494    6.200000\n",
       "11 Canterbury 2012  46          4.442235    5.475451\n",
       "12 Canterbury 2013  10          4.324064    4.715073\n",
       "13 Canterbury 2014   7          4.272789    4.503854\n",
       "14 Canterbury 2015  12          4.542963    6.233121\n",
       "15 Canterbury 2016 260          4.516867    7.820380\n",
       "16 Canterbury 2017  42          4.441104    5.588791\n",
       "17 Canterbury 2018  10          4.310746    4.712806\n",
       "18 Canterbury 2019   2          4.440540    4.614157\n",
       "19 Canterbury 2020   6          4.457348    5.091373\n",
       "20 Canterbury 2021   4          4.176842    4.322298\n",
       "21 Wellington 2005  37          4.338676    5.300000\n",
       "22 Wellington 2006  26          4.264423    4.739000\n",
       "23 Wellington 2007  17          4.230824    4.503000\n",
       "24 Wellington 2008  16          4.247750    5.000000\n",
       "25 Wellington 2009  20          4.244750    4.700000\n",
       "26 Wellington 2010  23          4.351739    5.000000\n",
       "27 Wellington 2011  21          4.300048    5.100000\n",
       "28 Wellington 2012  13          4.416723    5.010877\n",
       "29 Wellington 2013 137          4.521839    6.493255\n",
       "30 Wellington 2014  38          4.402196    6.229762\n",
       "31 Wellington 2015  30          4.354215    5.691132\n",
       "32 Wellington 2016 265          4.473690    6.024825\n",
       "33 Wellington 2017  53          4.395334    5.414743\n",
       "34 Wellington 2018  22          4.293520    5.210893\n",
       "35 Wellington 2019  16          4.303186    4.882448\n",
       "36 Wellington 2020  24          4.539916    5.846289\n",
       "37 Wellington 2021  12          4.296082    4.810317"
      ]
     },
     "metadata": {},
     "output_type": "display_data"
    }
   ],
   "source": [
    "a1 <- complete_earthquake_df %>% group_by(city, year)\n",
    "#e1 <- complete_cant_earthquake_df %>% group_by(city, year)\n",
    "#e2 <- complete_auk_earthquake_df %>% group_by(year)\n",
    "#e3 <- complete_wlg_earthquake_df %>% group_by(year)\n",
    "b1 <- a1 %>% summarise(number_of_eq = n())\n",
    "b2 <- a1 %>% summarise(average_mag = mean(magnitude))\n",
    "b3 <- a1 %>% summarise(max_mag = max(magnitude))\n",
    "\n",
    "final_summary <- b1 %>% inner_join(b2) %>% inner_join(b3)\n",
    "final_summary"
   ]
  },
  {
   "cell_type": "code",
   "execution_count": 116,
   "id": "14964c43-783c-43e6-8c26-2f2a3220eb3b",
   "metadata": {},
   "outputs": [],
   "source": [
    "write.csv(final_summary, \"FINAL_earthquake_data_summary.csv\", row.names=TRUE)"
   ]
  }
 ],
 "metadata": {
  "kernelspec": {
   "display_name": "R",
   "language": "R",
   "name": "ir"
  },
  "language_info": {
   "codemirror_mode": "r",
   "file_extension": ".r",
   "mimetype": "text/x-r-source",
   "name": "R",
   "pygments_lexer": "r",
   "version": "4.1.0"
  }
 },
 "nbformat": 4,
 "nbformat_minor": 5
}
