{
 "cells": [
  {
   "cell_type": "markdown",
   "id": "c694e821-8e3a-4f1d-b411-057fa16bc8a7",
   "metadata": {},
   "source": [
    "# Cleaning the Earthquake Dataset\n",
    "### Importing the Dataset:"
   ]
  },
  {
   "cell_type": "code",
   "execution_count": 1,
   "id": "965104cf-ac3b-4a00-8604-eb80e9c3a7c4",
   "metadata": {},
   "outputs": [
    {
     "name": "stderr",
     "output_type": "stream",
     "text": [
      "── \u001b[1mAttaching packages\u001b[22m ─────────────────────────────────────── tidyverse 1.3.1 ──\n",
      "\n",
      "\u001b[32m✔\u001b[39m \u001b[34mggplot2\u001b[39m 3.3.5     \u001b[32m✔\u001b[39m \u001b[34mpurrr  \u001b[39m 0.3.4\n",
      "\u001b[32m✔\u001b[39m \u001b[34mtibble \u001b[39m 3.1.5     \u001b[32m✔\u001b[39m \u001b[34mdplyr  \u001b[39m 1.0.7\n",
      "\u001b[32m✔\u001b[39m \u001b[34mtidyr  \u001b[39m 1.1.3     \u001b[32m✔\u001b[39m \u001b[34mstringr\u001b[39m 1.4.0\n",
      "\u001b[32m✔\u001b[39m \u001b[34mreadr  \u001b[39m 2.0.1     \u001b[32m✔\u001b[39m \u001b[34mforcats\u001b[39m 0.5.1\n",
      "\n",
      "── \u001b[1mConflicts\u001b[22m ────────────────────────────────────────── tidyverse_conflicts() ──\n",
      "\u001b[31m✖\u001b[39m \u001b[34mdplyr\u001b[39m::\u001b[32mfilter()\u001b[39m masks \u001b[34mstats\u001b[39m::filter()\n",
      "\u001b[31m✖\u001b[39m \u001b[34mdplyr\u001b[39m::\u001b[32mlag()\u001b[39m    masks \u001b[34mstats\u001b[39m::lag()\n",
      "\n"
     ]
    }
   ],
   "source": [
    "library(tidyverse)"
   ]
  },
  {
   "cell_type": "code",
   "execution_count": 2,
   "id": "12b48fae-edb0-4eff-a878-cfd621872a06",
   "metadata": {},
   "outputs": [],
   "source": [
    "# import the canterbury data\n",
    "cant_earthquake_df_2005_to_2010 <- read_csv(file=\"earthquakes 01012005-31122010.csv\", show_col_types = FALSE)\n",
    "cant_earthquake_df_2011_to_2015 <- read_csv(file=\"earthquakes 01012011-31122015.csv\", show_col_types = FALSE)\n",
    "cant_earthquake_df_2016_to_2021 <- read_csv(file=\"earthquakes 01012016-30092021.csv\", show_col_types = FALSE)\n",
    "\n",
    "# import the auckland data\n",
    "auk_earthquake_df_2005_to_2021 <- read_csv(file=\"earthquakes auckland and northland.csv\", show_col_types = FALSE)\n",
    "\n",
    "# import the wellington data\n",
    "wlg_earthquake_df_2005_to_2007 <- read_csv(file=\"earthquakes wellington-marlborough 2005-2007.csv\", show_col_types = FALSE)\n",
    "wlg_earthquake_df_2007_to_2013 <- read_csv(file=\"earthquakes earthquakes wellington-marlborough 2007-2013.csv\", show_col_types = FALSE)\n",
    "wlg_earthquake_df_2013_to_2015 <- read_csv(file=\"earthquakes earthquakes wellington-marlborough 2013-2015.csv\", show_col_types = FALSE)\n",
    "wlg_earthquake_df_2015_to_2017 <- read_csv(file=\"earthquakes wellington-marlborough 2015-2017.csv\", show_col_types = FALSE)\n",
    "wlg_earthquake_df_2017_to_2021 <- read_csv(file=\"earthquakes wellington-marlborough 2017-2021.csv\", show_col_types = FALSE)"
   ]
  },
  {
   "cell_type": "code",
   "execution_count": 3,
   "id": "e37df38d-15ba-424c-bacb-95b3d55d33de",
   "metadata": {},
   "outputs": [
    {
     "data": {
      "text/html": [
       "<table class=\"dataframe\">\n",
       "<caption>A tibble: 6 × 21</caption>\n",
       "<thead>\n",
       "\t<tr><th scope=col>publicid</th><th scope=col>eventtype</th><th scope=col>origintime</th><th scope=col>modificationtime</th><th scope=col>longitude</th><th scope=col>latitude</th><th scope=col>magnitude</th><th scope=col>depth</th><th scope=col>magnitudetype</th><th scope=col>depthtype</th><th scope=col>⋯</th><th scope=col>evaluationstatus</th><th scope=col>evaluationmode</th><th scope=col>earthmodel</th><th scope=col>usedphasecount</th><th scope=col>usedstationcount</th><th scope=col>magnitudestationcount</th><th scope=col>minimumdistance</th><th scope=col>azimuthalgap</th><th scope=col>originerror</th><th scope=col>magnitudeuncertainty</th></tr>\n",
       "\t<tr><th scope=col>&lt;dbl&gt;</th><th scope=col>&lt;chr&gt;</th><th scope=col>&lt;dttm&gt;</th><th scope=col>&lt;dttm&gt;</th><th scope=col>&lt;dbl&gt;</th><th scope=col>&lt;dbl&gt;</th><th scope=col>&lt;dbl&gt;</th><th scope=col>&lt;dbl&gt;</th><th scope=col>&lt;chr&gt;</th><th scope=col>&lt;chr&gt;</th><th scope=col>⋯</th><th scope=col>&lt;chr&gt;</th><th scope=col>&lt;chr&gt;</th><th scope=col>&lt;chr&gt;</th><th scope=col>&lt;dbl&gt;</th><th scope=col>&lt;dbl&gt;</th><th scope=col>&lt;dbl&gt;</th><th scope=col>&lt;dbl&gt;</th><th scope=col>&lt;dbl&gt;</th><th scope=col>&lt;dbl&gt;</th><th scope=col>&lt;dbl&gt;</th></tr>\n",
       "</thead>\n",
       "<tbody>\n",
       "\t<tr><td>3439925</td><td>earthquake</td><td>2010-12-31 21:24:23</td><td>2013-08-14 12:09:00</td><td>172.0939</td><td>-43.41652</td><td>2.366</td><td>12.7799</td><td>ML</td><td>NA               </td><td>⋯</td><td>reviewed</td><td>manual</td><td>nz1dr</td><td> 7</td><td> 3</td><td> 3</td><td>0.098</td><td>209</td><td>0.05953</td><td>0.149</td></tr>\n",
       "\t<tr><td>3439910</td><td>earthquake</td><td>2010-12-31 20:31:31</td><td>2013-08-14 12:09:00</td><td>172.2462</td><td>-43.60769</td><td>2.651</td><td>12.0000</td><td>ML</td><td>operator assigned</td><td>⋯</td><td>reviewed</td><td>manual</td><td>nz1dr</td><td>11</td><td> 7</td><td> 7</td><td>0.276</td><td>112</td><td>0.28577</td><td>0.304</td></tr>\n",
       "\t<tr><td>3439716</td><td>earthquake</td><td>2010-12-31 09:46:27</td><td>2013-08-14 12:09:00</td><td>172.6334</td><td>-43.48492</td><td>3.324</td><td>10.2793</td><td>ML</td><td>NA               </td><td>⋯</td><td>reviewed</td><td>manual</td><td>nz1dr</td><td>25</td><td>18</td><td>11</td><td>0.022</td><td> 72</td><td>0.16793</td><td>0.159</td></tr>\n",
       "\t<tr><td>3439627</td><td>earthquake</td><td>2010-12-31 04:57:27</td><td>2013-08-14 12:09:00</td><td>171.8731</td><td>-43.55577</td><td>2.919</td><td>12.0000</td><td>ML</td><td>operator assigned</td><td>⋯</td><td>reviewed</td><td>manual</td><td>nz1dr</td><td>12</td><td> 8</td><td> 8</td><td>0.258</td><td>105</td><td>0.27936</td><td>0.394</td></tr>\n",
       "\t<tr><td>3439613</td><td>earthquake</td><td>2010-12-31 04:17:32</td><td>2013-08-14 12:08:00</td><td>172.7081</td><td>-43.60494</td><td>2.206</td><td> 5.0000</td><td>ML</td><td>operator assigned</td><td>⋯</td><td>reviewed</td><td>manual</td><td>nz1dr</td><td> 7</td><td> 4</td><td> 4</td><td>0.068</td><td>222</td><td>0.29504</td><td>0.181</td></tr>\n",
       "\t<tr><td>3439534</td><td>earthquake</td><td>2010-12-30 23:43:20</td><td>2013-08-14 12:08:00</td><td>172.4869</td><td>-43.37156</td><td>3.033</td><td> 7.5759</td><td>ML</td><td>NA               </td><td>⋯</td><td>reviewed</td><td>manual</td><td>nz1dr</td><td>13</td><td> 8</td><td> 4</td><td>0.006</td><td> 68</td><td>0.16104</td><td>0.202</td></tr>\n",
       "</tbody>\n",
       "</table>\n"
      ],
      "text/latex": [
       "A tibble: 6 × 21\n",
       "\\begin{tabular}{lllllllllllllllllllll}\n",
       " publicid & eventtype & origintime & modificationtime & longitude & latitude & magnitude & depth & magnitudetype & depthtype & ⋯ & evaluationstatus & evaluationmode & earthmodel & usedphasecount & usedstationcount & magnitudestationcount & minimumdistance & azimuthalgap & originerror & magnitudeuncertainty\\\\\n",
       " <dbl> & <chr> & <dttm> & <dttm> & <dbl> & <dbl> & <dbl> & <dbl> & <chr> & <chr> & ⋯ & <chr> & <chr> & <chr> & <dbl> & <dbl> & <dbl> & <dbl> & <dbl> & <dbl> & <dbl>\\\\\n",
       "\\hline\n",
       "\t 3439925 & earthquake & 2010-12-31 21:24:23 & 2013-08-14 12:09:00 & 172.0939 & -43.41652 & 2.366 & 12.7799 & ML & NA                & ⋯ & reviewed & manual & nz1dr &  7 &  3 &  3 & 0.098 & 209 & 0.05953 & 0.149\\\\\n",
       "\t 3439910 & earthquake & 2010-12-31 20:31:31 & 2013-08-14 12:09:00 & 172.2462 & -43.60769 & 2.651 & 12.0000 & ML & operator assigned & ⋯ & reviewed & manual & nz1dr & 11 &  7 &  7 & 0.276 & 112 & 0.28577 & 0.304\\\\\n",
       "\t 3439716 & earthquake & 2010-12-31 09:46:27 & 2013-08-14 12:09:00 & 172.6334 & -43.48492 & 3.324 & 10.2793 & ML & NA                & ⋯ & reviewed & manual & nz1dr & 25 & 18 & 11 & 0.022 &  72 & 0.16793 & 0.159\\\\\n",
       "\t 3439627 & earthquake & 2010-12-31 04:57:27 & 2013-08-14 12:09:00 & 171.8731 & -43.55577 & 2.919 & 12.0000 & ML & operator assigned & ⋯ & reviewed & manual & nz1dr & 12 &  8 &  8 & 0.258 & 105 & 0.27936 & 0.394\\\\\n",
       "\t 3439613 & earthquake & 2010-12-31 04:17:32 & 2013-08-14 12:08:00 & 172.7081 & -43.60494 & 2.206 &  5.0000 & ML & operator assigned & ⋯ & reviewed & manual & nz1dr &  7 &  4 &  4 & 0.068 & 222 & 0.29504 & 0.181\\\\\n",
       "\t 3439534 & earthquake & 2010-12-30 23:43:20 & 2013-08-14 12:08:00 & 172.4869 & -43.37156 & 3.033 &  7.5759 & ML & NA                & ⋯ & reviewed & manual & nz1dr & 13 &  8 &  4 & 0.006 &  68 & 0.16104 & 0.202\\\\\n",
       "\\end{tabular}\n"
      ],
      "text/markdown": [
       "\n",
       "A tibble: 6 × 21\n",
       "\n",
       "| publicid &lt;dbl&gt; | eventtype &lt;chr&gt; | origintime &lt;dttm&gt; | modificationtime &lt;dttm&gt; | longitude &lt;dbl&gt; | latitude &lt;dbl&gt; | magnitude &lt;dbl&gt; | depth &lt;dbl&gt; | magnitudetype &lt;chr&gt; | depthtype &lt;chr&gt; | ⋯ ⋯ | evaluationstatus &lt;chr&gt; | evaluationmode &lt;chr&gt; | earthmodel &lt;chr&gt; | usedphasecount &lt;dbl&gt; | usedstationcount &lt;dbl&gt; | magnitudestationcount &lt;dbl&gt; | minimumdistance &lt;dbl&gt; | azimuthalgap &lt;dbl&gt; | originerror &lt;dbl&gt; | magnitudeuncertainty &lt;dbl&gt; |\n",
       "|---|---|---|---|---|---|---|---|---|---|---|---|---|---|---|---|---|---|---|---|---|\n",
       "| 3439925 | earthquake | 2010-12-31 21:24:23 | 2013-08-14 12:09:00 | 172.0939 | -43.41652 | 2.366 | 12.7799 | ML | NA                | ⋯ | reviewed | manual | nz1dr |  7 |  3 |  3 | 0.098 | 209 | 0.05953 | 0.149 |\n",
       "| 3439910 | earthquake | 2010-12-31 20:31:31 | 2013-08-14 12:09:00 | 172.2462 | -43.60769 | 2.651 | 12.0000 | ML | operator assigned | ⋯ | reviewed | manual | nz1dr | 11 |  7 |  7 | 0.276 | 112 | 0.28577 | 0.304 |\n",
       "| 3439716 | earthquake | 2010-12-31 09:46:27 | 2013-08-14 12:09:00 | 172.6334 | -43.48492 | 3.324 | 10.2793 | ML | NA                | ⋯ | reviewed | manual | nz1dr | 25 | 18 | 11 | 0.022 |  72 | 0.16793 | 0.159 |\n",
       "| 3439627 | earthquake | 2010-12-31 04:57:27 | 2013-08-14 12:09:00 | 171.8731 | -43.55577 | 2.919 | 12.0000 | ML | operator assigned | ⋯ | reviewed | manual | nz1dr | 12 |  8 |  8 | 0.258 | 105 | 0.27936 | 0.394 |\n",
       "| 3439613 | earthquake | 2010-12-31 04:17:32 | 2013-08-14 12:08:00 | 172.7081 | -43.60494 | 2.206 |  5.0000 | ML | operator assigned | ⋯ | reviewed | manual | nz1dr |  7 |  4 |  4 | 0.068 | 222 | 0.29504 | 0.181 |\n",
       "| 3439534 | earthquake | 2010-12-30 23:43:20 | 2013-08-14 12:08:00 | 172.4869 | -43.37156 | 3.033 |  7.5759 | ML | NA                | ⋯ | reviewed | manual | nz1dr | 13 |  8 |  4 | 0.006 |  68 | 0.16104 | 0.202 |\n",
       "\n"
      ],
      "text/plain": [
       "  publicid eventtype  origintime          modificationtime    longitude\n",
       "1 3439925  earthquake 2010-12-31 21:24:23 2013-08-14 12:09:00 172.0939 \n",
       "2 3439910  earthquake 2010-12-31 20:31:31 2013-08-14 12:09:00 172.2462 \n",
       "3 3439716  earthquake 2010-12-31 09:46:27 2013-08-14 12:09:00 172.6334 \n",
       "4 3439627  earthquake 2010-12-31 04:57:27 2013-08-14 12:09:00 171.8731 \n",
       "5 3439613  earthquake 2010-12-31 04:17:32 2013-08-14 12:08:00 172.7081 \n",
       "6 3439534  earthquake 2010-12-30 23:43:20 2013-08-14 12:08:00 172.4869 \n",
       "  latitude  magnitude depth   magnitudetype depthtype         ⋯\n",
       "1 -43.41652 2.366     12.7799 ML            NA                ⋯\n",
       "2 -43.60769 2.651     12.0000 ML            operator assigned ⋯\n",
       "3 -43.48492 3.324     10.2793 ML            NA                ⋯\n",
       "4 -43.55577 2.919     12.0000 ML            operator assigned ⋯\n",
       "5 -43.60494 2.206      5.0000 ML            operator assigned ⋯\n",
       "6 -43.37156 3.033      7.5759 ML            NA                ⋯\n",
       "  evaluationstatus evaluationmode earthmodel usedphasecount usedstationcount\n",
       "1 reviewed         manual         nz1dr       7              3              \n",
       "2 reviewed         manual         nz1dr      11              7              \n",
       "3 reviewed         manual         nz1dr      25             18              \n",
       "4 reviewed         manual         nz1dr      12              8              \n",
       "5 reviewed         manual         nz1dr       7              4              \n",
       "6 reviewed         manual         nz1dr      13              8              \n",
       "  magnitudestationcount minimumdistance azimuthalgap originerror\n",
       "1  3                    0.098           209          0.05953    \n",
       "2  7                    0.276           112          0.28577    \n",
       "3 11                    0.022            72          0.16793    \n",
       "4  8                    0.258           105          0.27936    \n",
       "5  4                    0.068           222          0.29504    \n",
       "6  4                    0.006            68          0.16104    \n",
       "  magnitudeuncertainty\n",
       "1 0.149               \n",
       "2 0.304               \n",
       "3 0.159               \n",
       "4 0.394               \n",
       "5 0.181               \n",
       "6 0.202               "
      ]
     },
     "metadata": {},
     "output_type": "display_data"
    },
    {
     "data": {
      "text/html": [
       "<table class=\"dataframe\">\n",
       "<caption>A tibble: 6 × 21</caption>\n",
       "<thead>\n",
       "\t<tr><th scope=col>publicid</th><th scope=col>eventtype</th><th scope=col>origintime</th><th scope=col>modificationtime</th><th scope=col>longitude</th><th scope=col>latitude</th><th scope=col>magnitude</th><th scope=col>depth</th><th scope=col>magnitudetype</th><th scope=col>depthtype</th><th scope=col>⋯</th><th scope=col>evaluationstatus</th><th scope=col>evaluationmode</th><th scope=col>earthmodel</th><th scope=col>usedphasecount</th><th scope=col>usedstationcount</th><th scope=col>magnitudestationcount</th><th scope=col>minimumdistance</th><th scope=col>azimuthalgap</th><th scope=col>originerror</th><th scope=col>magnitudeuncertainty</th></tr>\n",
       "\t<tr><th scope=col>&lt;chr&gt;</th><th scope=col>&lt;chr&gt;</th><th scope=col>&lt;dttm&gt;</th><th scope=col>&lt;dttm&gt;</th><th scope=col>&lt;dbl&gt;</th><th scope=col>&lt;dbl&gt;</th><th scope=col>&lt;dbl&gt;</th><th scope=col>&lt;dbl&gt;</th><th scope=col>&lt;chr&gt;</th><th scope=col>&lt;chr&gt;</th><th scope=col>⋯</th><th scope=col>&lt;chr&gt;</th><th scope=col>&lt;chr&gt;</th><th scope=col>&lt;chr&gt;</th><th scope=col>&lt;dbl&gt;</th><th scope=col>&lt;dbl&gt;</th><th scope=col>&lt;dbl&gt;</th><th scope=col>&lt;dbl&gt;</th><th scope=col>&lt;dbl&gt;</th><th scope=col>&lt;dbl&gt;</th><th scope=col>&lt;dbl&gt;</th></tr>\n",
       "</thead>\n",
       "<tbody>\n",
       "\t<tr><td>2021p733635</td><td>earthquake  </td><td>2021-09-29 10:41:05</td><td>2021-09-29 10:46:19</td><td>175.0138</td><td>-38.01789</td><td>2.512570</td><td>44.106</td><td>M  </td><td>NA               </td><td>⋯</td><td>confirmed</td><td>manual</td><td>iasp91</td><td>15</td><td>13</td><td> 3</td><td>0.4808566</td><td>255.9881</td><td>0.8961800</td><td>0.0000000</td></tr>\n",
       "\t<tr><td>2021p726862</td><td>quarry blast</td><td>2021-09-26 22:32:12</td><td>2021-09-26 23:01:17</td><td>175.0600</td><td>-37.61000</td><td>1.507906</td><td> 0.000</td><td>MLv</td><td>NA               </td><td>⋯</td><td>confirmed</td><td>manual</td><td>NA    </td><td> 0</td><td> 0</td><td> 3</td><td>0.0000000</td><td>  0.0000</td><td>0.7012542</td><td>0.3855838</td></tr>\n",
       "\t<tr><td>2021p720050</td><td>earthquake  </td><td>2021-09-24 10:02:52</td><td>2021-09-24 10:11:37</td><td>175.0086</td><td>-35.79268</td><td>2.313619</td><td>12.000</td><td>MLv</td><td>operator assigned</td><td>⋯</td><td>confirmed</td><td>manual</td><td>iasp91</td><td>20</td><td>15</td><td> 9</td><td>0.5582985</td><td>205.5780</td><td>0.7125784</td><td>0.2830602</td></tr>\n",
       "\t<tr><td>2021p719474</td><td>quarry blast</td><td>2021-09-24 04:56:02</td><td>2021-09-24 05:03:13</td><td>175.0600</td><td>-37.61050</td><td>2.217205</td><td> 0.000</td><td>M  </td><td>NA               </td><td>⋯</td><td>confirmed</td><td>manual</td><td>NA    </td><td> 0</td><td> 0</td><td> 5</td><td>0.0000000</td><td>  0.0000</td><td>0.7941583</td><td>0.0000000</td></tr>\n",
       "\t<tr><td>2021p716741</td><td>earthquake  </td><td>2021-09-23 04:39:57</td><td>2021-09-23 04:43:54</td><td>175.0355</td><td>-35.80580</td><td>3.142799</td><td>12.000</td><td>M  </td><td>operator assigned</td><td>⋯</td><td>confirmed</td><td>manual</td><td>iasp91</td><td>20</td><td>16</td><td>12</td><td>0.5602195</td><td>206.4012</td><td>0.4626746</td><td>0.0000000</td></tr>\n",
       "\t<tr><td>2021p711367</td><td>quarry blast</td><td>2021-09-21 04:56:36</td><td>2021-09-21 05:08:57</td><td>175.0600</td><td>-37.61000</td><td>1.840075</td><td> 0.000</td><td>M  </td><td>NA               </td><td>⋯</td><td>confirmed</td><td>manual</td><td>NA    </td><td> 0</td><td> 0</td><td> 3</td><td>0.0000000</td><td>  0.0000</td><td>0.5901740</td><td>0.0000000</td></tr>\n",
       "</tbody>\n",
       "</table>\n"
      ],
      "text/latex": [
       "A tibble: 6 × 21\n",
       "\\begin{tabular}{lllllllllllllllllllll}\n",
       " publicid & eventtype & origintime & modificationtime & longitude & latitude & magnitude & depth & magnitudetype & depthtype & ⋯ & evaluationstatus & evaluationmode & earthmodel & usedphasecount & usedstationcount & magnitudestationcount & minimumdistance & azimuthalgap & originerror & magnitudeuncertainty\\\\\n",
       " <chr> & <chr> & <dttm> & <dttm> & <dbl> & <dbl> & <dbl> & <dbl> & <chr> & <chr> & ⋯ & <chr> & <chr> & <chr> & <dbl> & <dbl> & <dbl> & <dbl> & <dbl> & <dbl> & <dbl>\\\\\n",
       "\\hline\n",
       "\t 2021p733635 & earthquake   & 2021-09-29 10:41:05 & 2021-09-29 10:46:19 & 175.0138 & -38.01789 & 2.512570 & 44.106 & M   & NA                & ⋯ & confirmed & manual & iasp91 & 15 & 13 &  3 & 0.4808566 & 255.9881 & 0.8961800 & 0.0000000\\\\\n",
       "\t 2021p726862 & quarry blast & 2021-09-26 22:32:12 & 2021-09-26 23:01:17 & 175.0600 & -37.61000 & 1.507906 &  0.000 & MLv & NA                & ⋯ & confirmed & manual & NA     &  0 &  0 &  3 & 0.0000000 &   0.0000 & 0.7012542 & 0.3855838\\\\\n",
       "\t 2021p720050 & earthquake   & 2021-09-24 10:02:52 & 2021-09-24 10:11:37 & 175.0086 & -35.79268 & 2.313619 & 12.000 & MLv & operator assigned & ⋯ & confirmed & manual & iasp91 & 20 & 15 &  9 & 0.5582985 & 205.5780 & 0.7125784 & 0.2830602\\\\\n",
       "\t 2021p719474 & quarry blast & 2021-09-24 04:56:02 & 2021-09-24 05:03:13 & 175.0600 & -37.61050 & 2.217205 &  0.000 & M   & NA                & ⋯ & confirmed & manual & NA     &  0 &  0 &  5 & 0.0000000 &   0.0000 & 0.7941583 & 0.0000000\\\\\n",
       "\t 2021p716741 & earthquake   & 2021-09-23 04:39:57 & 2021-09-23 04:43:54 & 175.0355 & -35.80580 & 3.142799 & 12.000 & M   & operator assigned & ⋯ & confirmed & manual & iasp91 & 20 & 16 & 12 & 0.5602195 & 206.4012 & 0.4626746 & 0.0000000\\\\\n",
       "\t 2021p711367 & quarry blast & 2021-09-21 04:56:36 & 2021-09-21 05:08:57 & 175.0600 & -37.61000 & 1.840075 &  0.000 & M   & NA                & ⋯ & confirmed & manual & NA     &  0 &  0 &  3 & 0.0000000 &   0.0000 & 0.5901740 & 0.0000000\\\\\n",
       "\\end{tabular}\n"
      ],
      "text/markdown": [
       "\n",
       "A tibble: 6 × 21\n",
       "\n",
       "| publicid &lt;chr&gt; | eventtype &lt;chr&gt; | origintime &lt;dttm&gt; | modificationtime &lt;dttm&gt; | longitude &lt;dbl&gt; | latitude &lt;dbl&gt; | magnitude &lt;dbl&gt; | depth &lt;dbl&gt; | magnitudetype &lt;chr&gt; | depthtype &lt;chr&gt; | ⋯ ⋯ | evaluationstatus &lt;chr&gt; | evaluationmode &lt;chr&gt; | earthmodel &lt;chr&gt; | usedphasecount &lt;dbl&gt; | usedstationcount &lt;dbl&gt; | magnitudestationcount &lt;dbl&gt; | minimumdistance &lt;dbl&gt; | azimuthalgap &lt;dbl&gt; | originerror &lt;dbl&gt; | magnitudeuncertainty &lt;dbl&gt; |\n",
       "|---|---|---|---|---|---|---|---|---|---|---|---|---|---|---|---|---|---|---|---|---|\n",
       "| 2021p733635 | earthquake   | 2021-09-29 10:41:05 | 2021-09-29 10:46:19 | 175.0138 | -38.01789 | 2.512570 | 44.106 | M   | NA                | ⋯ | confirmed | manual | iasp91 | 15 | 13 |  3 | 0.4808566 | 255.9881 | 0.8961800 | 0.0000000 |\n",
       "| 2021p726862 | quarry blast | 2021-09-26 22:32:12 | 2021-09-26 23:01:17 | 175.0600 | -37.61000 | 1.507906 |  0.000 | MLv | NA                | ⋯ | confirmed | manual | NA     |  0 |  0 |  3 | 0.0000000 |   0.0000 | 0.7012542 | 0.3855838 |\n",
       "| 2021p720050 | earthquake   | 2021-09-24 10:02:52 | 2021-09-24 10:11:37 | 175.0086 | -35.79268 | 2.313619 | 12.000 | MLv | operator assigned | ⋯ | confirmed | manual | iasp91 | 20 | 15 |  9 | 0.5582985 | 205.5780 | 0.7125784 | 0.2830602 |\n",
       "| 2021p719474 | quarry blast | 2021-09-24 04:56:02 | 2021-09-24 05:03:13 | 175.0600 | -37.61050 | 2.217205 |  0.000 | M   | NA                | ⋯ | confirmed | manual | NA     |  0 |  0 |  5 | 0.0000000 |   0.0000 | 0.7941583 | 0.0000000 |\n",
       "| 2021p716741 | earthquake   | 2021-09-23 04:39:57 | 2021-09-23 04:43:54 | 175.0355 | -35.80580 | 3.142799 | 12.000 | M   | operator assigned | ⋯ | confirmed | manual | iasp91 | 20 | 16 | 12 | 0.5602195 | 206.4012 | 0.4626746 | 0.0000000 |\n",
       "| 2021p711367 | quarry blast | 2021-09-21 04:56:36 | 2021-09-21 05:08:57 | 175.0600 | -37.61000 | 1.840075 |  0.000 | M   | NA                | ⋯ | confirmed | manual | NA     |  0 |  0 |  3 | 0.0000000 |   0.0000 | 0.5901740 | 0.0000000 |\n",
       "\n"
      ],
      "text/plain": [
       "  publicid    eventtype    origintime          modificationtime    longitude\n",
       "1 2021p733635 earthquake   2021-09-29 10:41:05 2021-09-29 10:46:19 175.0138 \n",
       "2 2021p726862 quarry blast 2021-09-26 22:32:12 2021-09-26 23:01:17 175.0600 \n",
       "3 2021p720050 earthquake   2021-09-24 10:02:52 2021-09-24 10:11:37 175.0086 \n",
       "4 2021p719474 quarry blast 2021-09-24 04:56:02 2021-09-24 05:03:13 175.0600 \n",
       "5 2021p716741 earthquake   2021-09-23 04:39:57 2021-09-23 04:43:54 175.0355 \n",
       "6 2021p711367 quarry blast 2021-09-21 04:56:36 2021-09-21 05:08:57 175.0600 \n",
       "  latitude  magnitude depth  magnitudetype depthtype         ⋯ evaluationstatus\n",
       "1 -38.01789 2.512570  44.106 M             NA                ⋯ confirmed       \n",
       "2 -37.61000 1.507906   0.000 MLv           NA                ⋯ confirmed       \n",
       "3 -35.79268 2.313619  12.000 MLv           operator assigned ⋯ confirmed       \n",
       "4 -37.61050 2.217205   0.000 M             NA                ⋯ confirmed       \n",
       "5 -35.80580 3.142799  12.000 M             operator assigned ⋯ confirmed       \n",
       "6 -37.61000 1.840075   0.000 M             NA                ⋯ confirmed       \n",
       "  evaluationmode earthmodel usedphasecount usedstationcount\n",
       "1 manual         iasp91     15             13              \n",
       "2 manual         NA          0              0              \n",
       "3 manual         iasp91     20             15              \n",
       "4 manual         NA          0              0              \n",
       "5 manual         iasp91     20             16              \n",
       "6 manual         NA          0              0              \n",
       "  magnitudestationcount minimumdistance azimuthalgap originerror\n",
       "1  3                    0.4808566       255.9881     0.8961800  \n",
       "2  3                    0.0000000         0.0000     0.7012542  \n",
       "3  9                    0.5582985       205.5780     0.7125784  \n",
       "4  5                    0.0000000         0.0000     0.7941583  \n",
       "5 12                    0.5602195       206.4012     0.4626746  \n",
       "6  3                    0.0000000         0.0000     0.5901740  \n",
       "  magnitudeuncertainty\n",
       "1 0.0000000           \n",
       "2 0.3855838           \n",
       "3 0.2830602           \n",
       "4 0.0000000           \n",
       "5 0.0000000           \n",
       "6 0.0000000           "
      ]
     },
     "metadata": {},
     "output_type": "display_data"
    },
    {
     "data": {
      "text/html": [
       "<table class=\"dataframe\">\n",
       "<caption>A tibble: 6 × 21</caption>\n",
       "<thead>\n",
       "\t<tr><th scope=col>publicid</th><th scope=col>eventtype</th><th scope=col>origintime</th><th scope=col>modificationtime</th><th scope=col>longitude</th><th scope=col>latitude</th><th scope=col>magnitude</th><th scope=col>depth</th><th scope=col>magnitudetype</th><th scope=col>depthtype</th><th scope=col>⋯</th><th scope=col>evaluationstatus</th><th scope=col>evaluationmode</th><th scope=col>earthmodel</th><th scope=col>usedphasecount</th><th scope=col>usedstationcount</th><th scope=col>magnitudestationcount</th><th scope=col>minimumdistance</th><th scope=col>azimuthalgap</th><th scope=col>originerror</th><th scope=col>magnitudeuncertainty</th></tr>\n",
       "\t<tr><th scope=col>&lt;chr&gt;</th><th scope=col>&lt;chr&gt;</th><th scope=col>&lt;dttm&gt;</th><th scope=col>&lt;dttm&gt;</th><th scope=col>&lt;dbl&gt;</th><th scope=col>&lt;dbl&gt;</th><th scope=col>&lt;dbl&gt;</th><th scope=col>&lt;dbl&gt;</th><th scope=col>&lt;chr&gt;</th><th scope=col>&lt;chr&gt;</th><th scope=col>⋯</th><th scope=col>&lt;chr&gt;</th><th scope=col>&lt;chr&gt;</th><th scope=col>&lt;chr&gt;</th><th scope=col>&lt;dbl&gt;</th><th scope=col>&lt;dbl&gt;</th><th scope=col>&lt;dbl&gt;</th><th scope=col>&lt;dbl&gt;</th><th scope=col>&lt;dbl&gt;</th><th scope=col>&lt;dbl&gt;</th><th scope=col>&lt;dbl&gt;</th></tr>\n",
       "</thead>\n",
       "<tbody>\n",
       "\t<tr><td>2017p572730</td><td>NA        </td><td>2017-07-31 21:50:44</td><td>2017-07-31 21:52:35</td><td>176.3323</td><td>-40.15241</td><td>2.010647</td><td>21.17188</td><td>M</td><td>NA</td><td>⋯</td><td>NA       </td><td>automatic</td><td>nz3drx</td><td>29</td><td>29</td><td>12</td><td>0.12162650</td><td> 53.04043</td><td>0.6127585</td><td>0</td></tr>\n",
       "\t<tr><td>2017p572592</td><td>NA        </td><td>2017-07-31 20:37:05</td><td>2017-07-31 20:39:43</td><td>174.9472</td><td>-40.71035</td><td>2.099102</td><td>18.59375</td><td>M</td><td>NA</td><td>⋯</td><td>NA       </td><td>automatic</td><td>nz3drx</td><td>36</td><td>36</td><td>15</td><td>0.15543741</td><td> 96.73964</td><td>0.6100147</td><td>0</td></tr>\n",
       "\t<tr><td>2017p572047</td><td>NA        </td><td>2017-07-31 15:47:07</td><td>2017-07-31 15:49:20</td><td>174.7838</td><td>-40.44029</td><td>2.049390</td><td>39.68750</td><td>M</td><td>NA</td><td>⋯</td><td>NA       </td><td>automatic</td><td>nz3drx</td><td>13</td><td>13</td><td> 4</td><td>0.43107712</td><td>142.89197</td><td>0.3771842</td><td>0</td></tr>\n",
       "\t<tr><td>2017p571728</td><td>earthquake</td><td>2017-07-31 12:57:01</td><td>2017-08-16 03:08:37</td><td>175.4639</td><td>-40.87756</td><td>2.589917</td><td>20.50253</td><td>M</td><td>NA</td><td>⋯</td><td>confirmed</td><td>manual   </td><td>iasp91</td><td>27</td><td>21</td><td>25</td><td>0.04353966</td><td> 65.18704</td><td>0.4736394</td><td>0</td></tr>\n",
       "\t<tr><td>2017p571722</td><td>earthquake</td><td>2017-07-31 12:53:41</td><td>2017-08-16 02:12:08</td><td>175.4538</td><td>-40.87793</td><td>2.734226</td><td>19.93674</td><td>M</td><td>NA</td><td>⋯</td><td>confirmed</td><td>manual   </td><td>iasp91</td><td>25</td><td>18</td><td>32</td><td>0.05034081</td><td> 65.22339</td><td>0.5023152</td><td>0</td></tr>\n",
       "\t<tr><td>2017p571617</td><td>NA        </td><td>2017-07-31 11:57:37</td><td>2017-07-31 11:59:24</td><td>174.8723</td><td>-39.70575</td><td>1.819171</td><td>93.12500</td><td>M</td><td>NA</td><td>⋯</td><td>NA       </td><td>automatic</td><td>nz3drx</td><td>11</td><td>11</td><td> 4</td><td>0.09942616</td><td>138.36398</td><td>1.1902493</td><td>0</td></tr>\n",
       "</tbody>\n",
       "</table>\n"
      ],
      "text/latex": [
       "A tibble: 6 × 21\n",
       "\\begin{tabular}{lllllllllllllllllllll}\n",
       " publicid & eventtype & origintime & modificationtime & longitude & latitude & magnitude & depth & magnitudetype & depthtype & ⋯ & evaluationstatus & evaluationmode & earthmodel & usedphasecount & usedstationcount & magnitudestationcount & minimumdistance & azimuthalgap & originerror & magnitudeuncertainty\\\\\n",
       " <chr> & <chr> & <dttm> & <dttm> & <dbl> & <dbl> & <dbl> & <dbl> & <chr> & <chr> & ⋯ & <chr> & <chr> & <chr> & <dbl> & <dbl> & <dbl> & <dbl> & <dbl> & <dbl> & <dbl>\\\\\n",
       "\\hline\n",
       "\t 2017p572730 & NA         & 2017-07-31 21:50:44 & 2017-07-31 21:52:35 & 176.3323 & -40.15241 & 2.010647 & 21.17188 & M & NA & ⋯ & NA        & automatic & nz3drx & 29 & 29 & 12 & 0.12162650 &  53.04043 & 0.6127585 & 0\\\\\n",
       "\t 2017p572592 & NA         & 2017-07-31 20:37:05 & 2017-07-31 20:39:43 & 174.9472 & -40.71035 & 2.099102 & 18.59375 & M & NA & ⋯ & NA        & automatic & nz3drx & 36 & 36 & 15 & 0.15543741 &  96.73964 & 0.6100147 & 0\\\\\n",
       "\t 2017p572047 & NA         & 2017-07-31 15:47:07 & 2017-07-31 15:49:20 & 174.7838 & -40.44029 & 2.049390 & 39.68750 & M & NA & ⋯ & NA        & automatic & nz3drx & 13 & 13 &  4 & 0.43107712 & 142.89197 & 0.3771842 & 0\\\\\n",
       "\t 2017p571728 & earthquake & 2017-07-31 12:57:01 & 2017-08-16 03:08:37 & 175.4639 & -40.87756 & 2.589917 & 20.50253 & M & NA & ⋯ & confirmed & manual    & iasp91 & 27 & 21 & 25 & 0.04353966 &  65.18704 & 0.4736394 & 0\\\\\n",
       "\t 2017p571722 & earthquake & 2017-07-31 12:53:41 & 2017-08-16 02:12:08 & 175.4538 & -40.87793 & 2.734226 & 19.93674 & M & NA & ⋯ & confirmed & manual    & iasp91 & 25 & 18 & 32 & 0.05034081 &  65.22339 & 0.5023152 & 0\\\\\n",
       "\t 2017p571617 & NA         & 2017-07-31 11:57:37 & 2017-07-31 11:59:24 & 174.8723 & -39.70575 & 1.819171 & 93.12500 & M & NA & ⋯ & NA        & automatic & nz3drx & 11 & 11 &  4 & 0.09942616 & 138.36398 & 1.1902493 & 0\\\\\n",
       "\\end{tabular}\n"
      ],
      "text/markdown": [
       "\n",
       "A tibble: 6 × 21\n",
       "\n",
       "| publicid &lt;chr&gt; | eventtype &lt;chr&gt; | origintime &lt;dttm&gt; | modificationtime &lt;dttm&gt; | longitude &lt;dbl&gt; | latitude &lt;dbl&gt; | magnitude &lt;dbl&gt; | depth &lt;dbl&gt; | magnitudetype &lt;chr&gt; | depthtype &lt;chr&gt; | ⋯ ⋯ | evaluationstatus &lt;chr&gt; | evaluationmode &lt;chr&gt; | earthmodel &lt;chr&gt; | usedphasecount &lt;dbl&gt; | usedstationcount &lt;dbl&gt; | magnitudestationcount &lt;dbl&gt; | minimumdistance &lt;dbl&gt; | azimuthalgap &lt;dbl&gt; | originerror &lt;dbl&gt; | magnitudeuncertainty &lt;dbl&gt; |\n",
       "|---|---|---|---|---|---|---|---|---|---|---|---|---|---|---|---|---|---|---|---|---|\n",
       "| 2017p572730 | NA         | 2017-07-31 21:50:44 | 2017-07-31 21:52:35 | 176.3323 | -40.15241 | 2.010647 | 21.17188 | M | NA | ⋯ | NA        | automatic | nz3drx | 29 | 29 | 12 | 0.12162650 |  53.04043 | 0.6127585 | 0 |\n",
       "| 2017p572592 | NA         | 2017-07-31 20:37:05 | 2017-07-31 20:39:43 | 174.9472 | -40.71035 | 2.099102 | 18.59375 | M | NA | ⋯ | NA        | automatic | nz3drx | 36 | 36 | 15 | 0.15543741 |  96.73964 | 0.6100147 | 0 |\n",
       "| 2017p572047 | NA         | 2017-07-31 15:47:07 | 2017-07-31 15:49:20 | 174.7838 | -40.44029 | 2.049390 | 39.68750 | M | NA | ⋯ | NA        | automatic | nz3drx | 13 | 13 |  4 | 0.43107712 | 142.89197 | 0.3771842 | 0 |\n",
       "| 2017p571728 | earthquake | 2017-07-31 12:57:01 | 2017-08-16 03:08:37 | 175.4639 | -40.87756 | 2.589917 | 20.50253 | M | NA | ⋯ | confirmed | manual    | iasp91 | 27 | 21 | 25 | 0.04353966 |  65.18704 | 0.4736394 | 0 |\n",
       "| 2017p571722 | earthquake | 2017-07-31 12:53:41 | 2017-08-16 02:12:08 | 175.4538 | -40.87793 | 2.734226 | 19.93674 | M | NA | ⋯ | confirmed | manual    | iasp91 | 25 | 18 | 32 | 0.05034081 |  65.22339 | 0.5023152 | 0 |\n",
       "| 2017p571617 | NA         | 2017-07-31 11:57:37 | 2017-07-31 11:59:24 | 174.8723 | -39.70575 | 1.819171 | 93.12500 | M | NA | ⋯ | NA        | automatic | nz3drx | 11 | 11 |  4 | 0.09942616 | 138.36398 | 1.1902493 | 0 |\n",
       "\n"
      ],
      "text/plain": [
       "  publicid    eventtype  origintime          modificationtime    longitude\n",
       "1 2017p572730 NA         2017-07-31 21:50:44 2017-07-31 21:52:35 176.3323 \n",
       "2 2017p572592 NA         2017-07-31 20:37:05 2017-07-31 20:39:43 174.9472 \n",
       "3 2017p572047 NA         2017-07-31 15:47:07 2017-07-31 15:49:20 174.7838 \n",
       "4 2017p571728 earthquake 2017-07-31 12:57:01 2017-08-16 03:08:37 175.4639 \n",
       "5 2017p571722 earthquake 2017-07-31 12:53:41 2017-08-16 02:12:08 175.4538 \n",
       "6 2017p571617 NA         2017-07-31 11:57:37 2017-07-31 11:59:24 174.8723 \n",
       "  latitude  magnitude depth    magnitudetype depthtype ⋯ evaluationstatus\n",
       "1 -40.15241 2.010647  21.17188 M             NA        ⋯ NA              \n",
       "2 -40.71035 2.099102  18.59375 M             NA        ⋯ NA              \n",
       "3 -40.44029 2.049390  39.68750 M             NA        ⋯ NA              \n",
       "4 -40.87756 2.589917  20.50253 M             NA        ⋯ confirmed       \n",
       "5 -40.87793 2.734226  19.93674 M             NA        ⋯ confirmed       \n",
       "6 -39.70575 1.819171  93.12500 M             NA        ⋯ NA              \n",
       "  evaluationmode earthmodel usedphasecount usedstationcount\n",
       "1 automatic      nz3drx     29             29              \n",
       "2 automatic      nz3drx     36             36              \n",
       "3 automatic      nz3drx     13             13              \n",
       "4 manual         iasp91     27             21              \n",
       "5 manual         iasp91     25             18              \n",
       "6 automatic      nz3drx     11             11              \n",
       "  magnitudestationcount minimumdistance azimuthalgap originerror\n",
       "1 12                    0.12162650       53.04043    0.6127585  \n",
       "2 15                    0.15543741       96.73964    0.6100147  \n",
       "3  4                    0.43107712      142.89197    0.3771842  \n",
       "4 25                    0.04353966       65.18704    0.4736394  \n",
       "5 32                    0.05034081       65.22339    0.5023152  \n",
       "6  4                    0.09942616      138.36398    1.1902493  \n",
       "  magnitudeuncertainty\n",
       "1 0                   \n",
       "2 0                   \n",
       "3 0                   \n",
       "4 0                   \n",
       "5 0                   \n",
       "6 0                   "
      ]
     },
     "metadata": {},
     "output_type": "display_data"
    }
   ],
   "source": [
    "# View a selection of each dataset\n",
    "head(cant_earthquake_df_2005_to_2010)\n",
    "head(auk_earthquake_df_2005_to_2021)\n",
    "head(wlg_earthquake_df_2015_to_2017)"
   ]
  },
  {
   "cell_type": "code",
   "execution_count": null,
   "id": "41fabaf8-cb97-4280-a9e4-deb860c1f6a7",
   "metadata": {},
   "outputs": [],
   "source": [
    "# Visualise the missing data\n",
    "library(visdat)\n",
    "vis_miss(cant_earthquake_df_2005_to_2010)\n",
    "vis_miss(cant_earthquake_df_2011_to_2015)\n",
    "vis_miss(cant_earthquake_df_2016_to_2021)\n",
    "\n",
    "vis_miss(auk_earthquake_df_2005_to_2021)\n",
    "\n",
    "vis_miss(wlg_earthquake_df_2005_to_2007)\n",
    "vis_miss(wlg_earthquake_df_2007_to_2013)\n",
    "vis_miss(wlg_earthquake_df_2013_to_2015)\n",
    "vis_miss(wlg_earthquake_df_2015_to_2017)\n",
    "vis_miss(wlg_earthquake_df_2017_to_2021)\n",
    "\n",
    "# The visualisation shows that there are a few columns missing data - however, \n",
    "# these are not columns that we will need to use which is good news :)"
   ]
  },
  {
   "cell_type": "code",
   "execution_count": null,
   "id": "1c31295a-3e40-44fc-a881-64ec92a432b1",
   "metadata": {},
   "outputs": [],
   "source": [
    "glimpse(earthquake_df_2016_to_2021)"
   ]
  },
  {
   "cell_type": "code",
   "execution_count": null,
   "id": "2da1edd0-e10a-4481-bd53-e850e7528f77",
   "metadata": {},
   "outputs": [],
   "source": [
    "colnames(earthquake_df_2005_to_2010) == colnames(earthquake_df_2011_to_2015)\n",
    "colnames(earthquake_df_2011_to_2015) == colnames(earthquake_df_2016_to_2021)"
   ]
  },
  {
   "cell_type": "markdown",
   "id": "0b90a640-aace-4b8a-aa3b-3ae6e181b875",
   "metadata": {},
   "source": [
    "### Wrangling the Dataset"
   ]
  },
  {
   "cell_type": "markdown",
   "id": "d4dbcea1-16e6-43e2-9787-683684ab5ecc",
   "metadata": {},
   "source": [
    "We need to create a function that does all the data wrangling we need, then we can run it on each of our three data sets (to save us time) :)"
   ]
  },
  {
   "cell_type": "code",
   "execution_count": null,
   "id": "5a477c4d-9c64-4a1a-ba41-4694f0c77f56",
   "metadata": {},
   "outputs": [],
   "source": [
    "install.packages(\"lubridate\")"
   ]
  },
  {
   "cell_type": "code",
   "execution_count": null,
   "id": "649680bd-148d-43be-9831-7f6d437158ca",
   "metadata": {},
   "outputs": [],
   "source": [
    "# note - could potentially break this down into multiple functions\n",
    "# we also may need to filter out magnitudetype Mw??\n",
    "\n",
    "wrangle_earthquake_data <- function(dataset) {\n",
    "    # step one - filter the required columns\n",
    "    filtered_data <- dataset %>% select(eventtype, origintime, longitude, latitude, magnitude, depth)\n",
    "    \n",
    "    # step two - filter only the eventtype == \"earthquake\"\n",
    "    filtered_data <- filtered_data %>% filter(eventtype == \"earthquake\")\n",
    "    \n",
    "    # step three - add a column for an earthquake's severity which will be calculated based on an earthquake's magnitude and depth\n",
    "    filtered_data <- filtered_data %>% mutate(severity = magnitude)#1000 * magnitude - depth)\n",
    "    \n",
    "    # step four - filter out insiginificant earthquakes\n",
    "    \n",
    "    # I have done this by selecting the 100 most severe earthquakes.\n",
    "    # This could be done by selecting the top x% or by ranking the severity \n",
    "    # into 10 categories, and only taking those in the top 5 categoires?\n",
    "    filtered_data <- top_n(filtered_data, 1000, severity)\n",
    "    \n",
    "    # step five - group by originttime - HOW??\n",
    "    # filtered_data <- as.character(filtered_data$origintime)\n",
    "    # filtered_data <- as.Date(filtered_data$origintime) # changes to dates only, ignores the time\n",
    "    # filtered_data <- filtered_data %>% group_by(origintime)\n",
    "    \n",
    "    # final step - return filtered data\n",
    "    return(filtered_data)\n",
    "}"
   ]
  },
  {
   "cell_type": "code",
   "execution_count": null,
   "id": "a318b5f3-12fa-43b5-96ca-0f19cb195712",
   "metadata": {},
   "outputs": [],
   "source": [
    "ggplot(data=wrangled_df) + \n",
    "        geom_point(mapping=aes(x=magnitude, y=-depth, colour=severity))"
   ]
  },
  {
   "cell_type": "code",
   "execution_count": 45,
   "id": "ad627b79-c686-4c58-84a2-cd83121f6367",
   "metadata": {},
   "outputs": [],
   "source": [
    "# Run the wrangling function on each of the data sets\n",
    "\n",
    "wrangled_df_cant_2005_to_2010 <- wrangle_earthquake_data(cant_earthquake_df_2005_to_2010)\n",
    "wrangled_df_cant_2011_to_2015 <- wrangle_earthquake_data(cant_earthquake_df_2011_to_2015)\n",
    "wrangled_df_cant_2016_to_2021 <- wrangle_earthquake_data(cant_earthquake_df_2016_to_2021)\n",
    "\n",
    "wrangled_df_auk_earthquake_df_2005_to_2021 <- wrangle_earthquake_data(auk_earthquake_df_2005_to_2021)\n",
    "\n",
    "wrangled_df_wlg_earthquake_df_2005_to_2007 <- wrangle_earthquake_data(wlg_earthquake_df_2005_to_2007)\n",
    "wrangled_df_wlg_earthquake_df_2007_to_2013 <- wrangle_earthquake_data(wlg_earthquake_df_2007_to_2013)\n",
    "wrangled_df_wlg_earthquake_df_2013_to_2015 <- wrangle_earthquake_data(wlg_earthquake_df_2013_to_2015)\n",
    "wrangled_df_wlg_earthquake_df_2015_to_2017 <- wrangle_earthquake_data(wlg_earthquake_df_2015_to_2017)\n",
    "wrangled_df_wlg_earthquake_df_2017_to_2021 <- wrangle_earthquake_data(wlg_earthquake_df_2017_to_2021)"
   ]
  },
  {
   "cell_type": "markdown",
   "id": "c832aaba-1315-4df9-b37e-748aee480f4a",
   "metadata": {},
   "source": [
    "### Combining the datasets"
   ]
  },
  {
   "cell_type": "code",
   "execution_count": 46,
   "id": "0483048f-af73-4da0-a6f3-710af935c343",
   "metadata": {},
   "outputs": [],
   "source": [
    "# Combines the three datasets\n",
    "complete_cant_earthquake_df <- rbind(wrangled_df_cant_2005_to_2010, wrangled_df_cant_2011_to_2015, wrangled_df_cant_2016_to_2021)\n",
    "complete_auk_earthquake_df <- wrangled_df_auk_earthquake_df_2005_to_2021\n",
    "complete_wlg_earthquake_df <- rbind(wrangled_df_wlg_earthquake_df_2005_to_2007, wrangled_df_wlg_earthquake_df_2007_to_2013, wrangled_df_wlg_earthquake_df_2013_to_2015, wrangled_df_wlg_earthquake_df_2015_to_2017, wrangled_df_wlg_earthquake_df_2017_to_2021)"
   ]
  },
  {
   "cell_type": "code",
   "execution_count": null,
   "id": "889c582c-bd6f-4b6d-a6c4-b9dd255cec34",
   "metadata": {},
   "outputs": [],
   "source": [
    "write.csv(complete_earthquake_df, \"temp_canterbury_earthquake_data.csv\", row.names=TRUE)"
   ]
  }
 ],
 "metadata": {
  "kernelspec": {
   "display_name": "R",
   "language": "R",
   "name": "ir"
  },
  "language_info": {
   "codemirror_mode": "r",
   "file_extension": ".r",
   "mimetype": "text/x-r-source",
   "name": "R",
   "pygments_lexer": "r",
   "version": "4.1.0"
  }
 },
 "nbformat": 4,
 "nbformat_minor": 5
}
