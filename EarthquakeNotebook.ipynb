{
 "cells": [
  {
   "cell_type": "markdown",
   "id": "c694e821-8e3a-4f1d-b411-057fa16bc8a7",
   "metadata": {},
   "source": [
    "# Cleaning the Earthquake Dataset\n",
    "### Importing the Dataset:"
   ]
  },
  {
   "cell_type": "code",
   "execution_count": null,
   "id": "965104cf-ac3b-4a00-8604-eb80e9c3a7c4",
   "metadata": {},
   "outputs": [],
   "source": [
    "library(tidyverse)"
   ]
  },
  {
   "cell_type": "code",
   "execution_count": null,
   "id": "12b48fae-edb0-4eff-a878-cfd621872a06",
   "metadata": {},
   "outputs": [],
   "source": [
    "# import the canterbury data\n",
    "cant_earthquake_df_2005_to_2010 <- read_csv(file=\"earthquakes 01012005-31122010.csv\", show_col_types = FALSE)\n",
    "cant_earthquake_df_2011_to_2015 <- read_csv(file=\"earthquakes 01012011-31122015.csv\", show_col_types = FALSE)\n",
    "cant_earthquake_df_2016_to_2021 <- read_csv(file=\"earthquakes 01012016-30092021.csv\", show_col_types = FALSE)\n",
    "\n",
    "# import the auckland data\n",
    "auk_earthquake_df_2005_to_2021 <- read_csv(file=\"earthquakes auckland and northland.csv\", show_col_types = FALSE)\n",
    "\n",
    "# import the wellington data\n",
    "wlg_earthquake_df_2005_to_2007 <- read_csv(file=\"earthquakes wellington-marlborough 2005-2007.csv\", show_col_types = FALSE)\n",
    "wlg_earthquake_df_2007_to_2013 <- read_csv(file=\"earthquakes earthquakes wellington-marlborough 2007-2013.csv\", show_col_types = FALSE)\n",
    "wlg_earthquake_df_2013_to_2015 <- read_csv(file=\"earthquakes earthquakes wellington-marlborough 2013-2015.csv\", show_col_types = FALSE)\n",
    "wlg_earthquake_df_2015_to_2017 <- read_csv(file=\"earthquakes wellington-marlborough 2015-2017.csv\", show_col_types = FALSE)\n",
    "wlg_earthquake_df_2017_to_2021 <- read_csv(file=\"earthquakes wellington-marlborough 2017-2021.csv\", show_col_types = FALSE)"
   ]
  },
  {
   "cell_type": "code",
   "execution_count": null,
   "id": "e37df38d-15ba-424c-bacb-95b3d55d33de",
   "metadata": {},
   "outputs": [],
   "source": [
    "# View a selection of each dataset\n",
    "head(cant_earthquake_df_2005_to_2010)\n",
    "head(auk_earthquake_df_2005_to_2021)\n",
    "head(wlg_earthquake_df_2015_to_2017)"
   ]
  },
  {
   "cell_type": "code",
   "execution_count": null,
   "id": "41fabaf8-cb97-4280-a9e4-deb860c1f6a7",
   "metadata": {},
   "outputs": [],
   "source": [
    "# Visualise the missing data\n",
    "library(visdat)\n",
    "vis_miss(cant_earthquake_df_2005_to_2010)\n",
    "vis_miss(cant_earthquake_df_2011_to_2015)\n",
    "vis_miss(cant_earthquake_df_2016_to_2021)\n",
    "\n",
    "vis_miss(auk_earthquake_df_2005_to_2021)\n",
    "\n",
    "vis_miss(wlg_earthquake_df_2005_to_2007)\n",
    "vis_miss(wlg_earthquake_df_2007_to_2013)\n",
    "vis_miss(wlg_earthquake_df_2013_to_2015)\n",
    "vis_miss(wlg_earthquake_df_2015_to_2017)\n",
    "vis_miss(wlg_earthquake_df_2017_to_2021)\n",
    "\n",
    "# The visualisation shows that there are a few columns missing data - however, \n",
    "# these are not columns that we will need to use which is good news :)"
   ]
  },
  {
   "cell_type": "code",
   "execution_count": null,
   "id": "1c31295a-3e40-44fc-a881-64ec92a432b1",
   "metadata": {},
   "outputs": [],
   "source": [
    "glimpse(earthquake_df_2016_to_2021)"
   ]
  },
  {
   "cell_type": "code",
   "execution_count": null,
   "id": "2da1edd0-e10a-4481-bd53-e850e7528f77",
   "metadata": {},
   "outputs": [],
   "source": [
    "colnames(earthquake_df_2005_to_2010) == colnames(earthquake_df_2011_to_2015)\n",
    "colnames(earthquake_df_2011_to_2015) == colnames(earthquake_df_2016_to_2021)"
   ]
  },
  {
   "cell_type": "markdown",
   "id": "0b90a640-aace-4b8a-aa3b-3ae6e181b875",
   "metadata": {},
   "source": [
    "### Wrangling the Dataset"
   ]
  },
  {
   "cell_type": "markdown",
   "id": "d4dbcea1-16e6-43e2-9787-683684ab5ecc",
   "metadata": {},
   "source": [
    "We need to create a function that does all the data wrangling we need, then we can run it on each of our three data sets (to save us time) :)"
   ]
  },
  {
   "cell_type": "code",
   "execution_count": null,
   "id": "5a477c4d-9c64-4a1a-ba41-4694f0c77f56",
   "metadata": {},
   "outputs": [],
   "source": [
    "install.packages(\"lubridate\")"
   ]
  },
  {
   "cell_type": "code",
   "execution_count": null,
   "id": "649680bd-148d-43be-9831-7f6d437158ca",
   "metadata": {},
   "outputs": [],
   "source": [
    "# note - could potentially break this down into multiple functions\n",
    "# we also may need to filter out magnitudetype Mw??\n",
    "\n",
    "wrangle_earthquake_data <- function(dataset) {\n",
    "    # step one - filter the required columns\n",
    "    filtered_data <- dataset %>% select(eventtype, origintime, longitude, latitude, magnitude, depth)\n",
    "    \n",
    "    # step two - filter only the eventtype == \"earthquake\"\n",
    "    filtered_data <- filtered_data %>% filter(eventtype == \"earthquake\")\n",
    "    \n",
    "    # step three - add a column for an earthquake's severity which will be calculated based on an earthquake's magnitude and depth\n",
    "    filtered_data <- filtered_data %>% mutate(severity = magnitude)#1000 * magnitude - depth)\n",
    "    \n",
    "    # step four - filter out insiginificant earthquakes\n",
    "    \n",
    "    # I have done this by selecting the 100 most severe earthquakes.\n",
    "    # This could be done by selecting the top x% or by ranking the severity \n",
    "    # into 10 categories, and only taking those in the top 5 categoires?\n",
    "    filtered_data <- top_n(filtered_data, 1000, severity)\n",
    "    \n",
    "    # step five - group by originttime - HOW??\n",
    "    # filtered_data <- as.character(filtered_data$origintime)\n",
    "    # filtered_data <- as.Date(filtered_data$origintime) # changes to dates only, ignores the time\n",
    "    # filtered_data <- filtered_data %>% group_by(origintime)\n",
    "    \n",
    "    # final step - return filtered data\n",
    "    return(filtered_data)\n",
    "}"
   ]
  },
  {
   "cell_type": "code",
   "execution_count": null,
   "id": "a318b5f3-12fa-43b5-96ca-0f19cb195712",
   "metadata": {},
   "outputs": [],
   "source": [
    "ggplot(data=wrangled_df) + \n",
    "        geom_point(mapping=aes(x=magnitude, y=-depth, colour=severity))"
   ]
  },
  {
   "cell_type": "code",
   "execution_count": 45,
   "id": "ad627b79-c686-4c58-84a2-cd83121f6367",
   "metadata": {},
   "outputs": [],
   "source": [
    "# Run the wrangling function on each of the data sets\n",
    "\n",
    "wrangled_df_cant_2005_to_2010 <- wrangle_earthquake_data(cant_earthquake_df_2005_to_2010)\n",
    "wrangled_df_cant_2011_to_2015 <- wrangle_earthquake_data(cant_earthquake_df_2011_to_2015)\n",
    "wrangled_df_cant_2016_to_2021 <- wrangle_earthquake_data(cant_earthquake_df_2016_to_2021)\n",
    "\n",
    "wrangled_df_auk_earthquake_df_2005_to_2021 <- wrangle_earthquake_data(auk_earthquake_df_2005_to_2021)\n",
    "\n",
    "wrangled_df_wlg_earthquake_df_2005_to_2007 <- wrangle_earthquake_data(wlg_earthquake_df_2005_to_2007)\n",
    "wrangled_df_wlg_earthquake_df_2007_to_2013 <- wrangle_earthquake_data(wlg_earthquake_df_2007_to_2013)\n",
    "wrangled_df_wlg_earthquake_df_2013_to_2015 <- wrangle_earthquake_data(wlg_earthquake_df_2013_to_2015)\n",
    "wrangled_df_wlg_earthquake_df_2015_to_2017 <- wrangle_earthquake_data(wlg_earthquake_df_2015_to_2017)\n",
    "wrangled_df_wlg_earthquake_df_2017_to_2021 <- wrangle_earthquake_data(wlg_earthquake_df_2017_to_2021)"
   ]
  },
  {
   "cell_type": "markdown",
   "id": "c832aaba-1315-4df9-b37e-748aee480f4a",
   "metadata": {},
   "source": [
    "### Combining the datasets"
   ]
  },
  {
   "cell_type": "code",
   "execution_count": 46,
   "id": "0483048f-af73-4da0-a6f3-710af935c343",
   "metadata": {},
   "outputs": [],
   "source": [
    "# Combines the three datasets\n",
    "complete_cant_earthquake_df <- rbind(wrangled_df_cant_2005_to_2010, wrangled_df_cant_2011_to_2015, wrangled_df_cant_2016_to_2021)\n",
    "complete_auk_earthquake_df <- wrangled_df_auk_earthquake_df_2005_to_2021\n",
    "complete_wlg_earthquake_df <- rbind(wrangled_df_wlg_earthquake_df_2005_to_2007, wrangled_df_wlg_earthquake_df_2007_to_2013, wrangled_df_wlg_earthquake_df_2013_to_2015, wrangled_df_wlg_earthquake_df_2015_to_2017, wrangled_df_wlg_earthquake_df_2017_to_2021)"
   ]
  },
  {
   "cell_type": "code",
   "execution_count": null,
   "id": "889c582c-bd6f-4b6d-a6c4-b9dd255cec34",
   "metadata": {},
   "outputs": [],
   "source": [
    "write.csv(complete_earthquake_df, \"temp_canterbury_earthquake_data.csv\", row.names=TRUE)"
   ]
  }
 ],
 "metadata": {
  "kernelspec": {
   "display_name": "R",
   "language": "R",
   "name": "ir"
  },
  "language_info": {
   "codemirror_mode": "r",
   "file_extension": ".r",
   "mimetype": "text/x-r-source",
   "name": "R",
   "pygments_lexer": "r",
   "version": "4.1.0"
  }
 },
 "nbformat": 4,
 "nbformat_minor": 5
}
