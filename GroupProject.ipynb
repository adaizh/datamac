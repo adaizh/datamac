{
 "cells": [
  {
   "cell_type": "markdown",
   "id": "886b784b-0837-49bf-b43a-37da1c0d0ee3",
   "metadata": {},
   "source": [
    "# Joining our Data Sets together\n",
    "### Importing our R package"
   ]
  },
  {
   "cell_type": "code",
   "execution_count": 1,
   "id": "f149ffab-e803-4a1d-982f-5bb09800de88",
   "metadata": {},
   "outputs": [
    {
     "name": "stdout",
     "output_type": "stream",
     "text": [
      "\n",
      "The downloaded binary packages are in\n",
      "\t/var/folders/fd/ly5mksl541v526fd48sjdfcm0000gn/T//RtmpVQRxzI/downloaded_packages\n"
     ]
    },
    {
     "name": "stderr",
     "output_type": "stream",
     "text": [
      "Downloading GitHub repo chenthih/nzmentalquake@HEAD\n",
      "\n"
     ]
    },
    {
     "name": "stdout",
     "output_type": "stream",
     "text": [
      "\n",
      "\u001b[32m✔\u001b[39m  \u001b[90mchecking for file ‘/private/var/folders/fd/ly5mksl541v526fd48sjdfcm0000gn/T/RtmpVQRxzI/remotes3a0a4fc4028e/chenthih-nzmentalquake-772bb11/DESCRIPTION’\u001b[39m\u001b[36m\u001b[36m (351ms)\u001b[36m\u001b[39m\n",
      "\u001b[90m─\u001b[39m\u001b[90m  \u001b[39m\u001b[90mpreparing ‘nzmentalquake’:\u001b[39m\u001b[36m\u001b[39m\n",
      "\u001b[32m✔\u001b[39m  \u001b[90mchecking DESCRIPTION meta-information\u001b[39m\u001b[36m\u001b[39m\n",
      "\u001b[90m─\u001b[39m\u001b[90m  \u001b[39m\u001b[90mchecking for LF line-endings in source and make files and shell scripts\u001b[39m\u001b[36m\u001b[39m\n",
      "\u001b[90m─\u001b[39m\u001b[90m  \u001b[39m\u001b[90mchecking for empty or unneeded directories\u001b[39m\u001b[36m\u001b[39m\n",
      "\u001b[90m─\u001b[39m\u001b[90m  \u001b[39m\u001b[90mbuilding ‘nzmentalquake_0.0.0.9000.tar.gz’\u001b[39m\u001b[36m\u001b[39m\n",
      "   \n",
      "\r"
     ]
    }
   ],
   "source": [
    "install.packages(\"remotes\")\n",
    "remotes::install_github(\"chenthih/nzmentalquake\")"
   ]
  },
  {
   "cell_type": "code",
   "execution_count": 2,
   "id": "77ac53c1-8379-41fa-89a4-249d8f6a72a9",
   "metadata": {},
   "outputs": [
    {
     "data": {
      "text/html": [
       "<table class=\"dataframe\">\n",
       "<caption>A data.frame: 6 × 6</caption>\n",
       "<thead>\n",
       "\t<tr><th></th><th scope=col>X</th><th scope=col>city</th><th scope=col>year</th><th scope=col>origintime</th><th scope=col>magnitude</th><th scope=col>depth</th></tr>\n",
       "\t<tr><th></th><th scope=col>&lt;int&gt;</th><th scope=col>&lt;chr&gt;</th><th scope=col>&lt;int&gt;</th><th scope=col>&lt;chr&gt;</th><th scope=col>&lt;dbl&gt;</th><th scope=col>&lt;dbl&gt;</th></tr>\n",
       "</thead>\n",
       "<tbody>\n",
       "\t<tr><th scope=row>1</th><td>1</td><td>Canterbury</td><td>2010</td><td>2010-12-26 11:10:49</td><td>4.00</td><td> 5.0551</td></tr>\n",
       "\t<tr><th scope=row>2</th><td>2</td><td>Canterbury</td><td>2010</td><td>2010-12-25 21:30:15</td><td>4.70</td><td> 5.0293</td></tr>\n",
       "\t<tr><th scope=row>3</th><td>3</td><td>Canterbury</td><td>2010</td><td>2010-12-25 13:32:09</td><td>4.56</td><td> 6.6561</td></tr>\n",
       "\t<tr><th scope=row>4</th><td>4</td><td>Canterbury</td><td>2010</td><td>2010-11-14 06:21:05</td><td>4.40</td><td>10.7049</td></tr>\n",
       "\t<tr><th scope=row>5</th><td>5</td><td>Canterbury</td><td>2010</td><td>2010-11-13 12:34:06</td><td>4.40</td><td>10.3896</td></tr>\n",
       "\t<tr><th scope=row>6</th><td>6</td><td>Canterbury</td><td>2010</td><td>2010-11-06 13:52:03</td><td>4.60</td><td> 8.2620</td></tr>\n",
       "</tbody>\n",
       "</table>\n"
      ],
      "text/latex": [
       "A data.frame: 6 × 6\n",
       "\\begin{tabular}{r|llllll}\n",
       "  & X & city & year & origintime & magnitude & depth\\\\\n",
       "  & <int> & <chr> & <int> & <chr> & <dbl> & <dbl>\\\\\n",
       "\\hline\n",
       "\t1 & 1 & Canterbury & 2010 & 2010-12-26 11:10:49 & 4.00 &  5.0551\\\\\n",
       "\t2 & 2 & Canterbury & 2010 & 2010-12-25 21:30:15 & 4.70 &  5.0293\\\\\n",
       "\t3 & 3 & Canterbury & 2010 & 2010-12-25 13:32:09 & 4.56 &  6.6561\\\\\n",
       "\t4 & 4 & Canterbury & 2010 & 2010-11-14 06:21:05 & 4.40 & 10.7049\\\\\n",
       "\t5 & 5 & Canterbury & 2010 & 2010-11-13 12:34:06 & 4.40 & 10.3896\\\\\n",
       "\t6 & 6 & Canterbury & 2010 & 2010-11-06 13:52:03 & 4.60 &  8.2620\\\\\n",
       "\\end{tabular}\n"
      ],
      "text/markdown": [
       "\n",
       "A data.frame: 6 × 6\n",
       "\n",
       "| <!--/--> | X &lt;int&gt; | city &lt;chr&gt; | year &lt;int&gt; | origintime &lt;chr&gt; | magnitude &lt;dbl&gt; | depth &lt;dbl&gt; |\n",
       "|---|---|---|---|---|---|---|\n",
       "| 1 | 1 | Canterbury | 2010 | 2010-12-26 11:10:49 | 4.00 |  5.0551 |\n",
       "| 2 | 2 | Canterbury | 2010 | 2010-12-25 21:30:15 | 4.70 |  5.0293 |\n",
       "| 3 | 3 | Canterbury | 2010 | 2010-12-25 13:32:09 | 4.56 |  6.6561 |\n",
       "| 4 | 4 | Canterbury | 2010 | 2010-11-14 06:21:05 | 4.40 | 10.7049 |\n",
       "| 5 | 5 | Canterbury | 2010 | 2010-11-13 12:34:06 | 4.40 | 10.3896 |\n",
       "| 6 | 6 | Canterbury | 2010 | 2010-11-06 13:52:03 | 4.60 |  8.2620 |\n",
       "\n"
      ],
      "text/plain": [
       "  X city       year origintime          magnitude depth  \n",
       "1 1 Canterbury 2010 2010-12-26 11:10:49 4.00       5.0551\n",
       "2 2 Canterbury 2010 2010-12-25 21:30:15 4.70       5.0293\n",
       "3 3 Canterbury 2010 2010-12-25 13:32:09 4.56       6.6561\n",
       "4 4 Canterbury 2010 2010-11-14 06:21:05 4.40      10.7049\n",
       "5 5 Canterbury 2010 2010-11-13 12:34:06 4.40      10.3896\n",
       "6 6 Canterbury 2010 2010-11-06 13:52:03 4.60       8.2620"
      ]
     },
     "metadata": {},
     "output_type": "display_data"
    }
   ],
   "source": [
    "head(nzmentalquake::earthquake_dataset)"
   ]
  },
  {
   "cell_type": "code",
   "execution_count": 3,
   "id": "4bb66ded-224a-4557-94e4-1224b4eeec47",
   "metadata": {},
   "outputs": [
    {
     "data": {
      "text/html": [
       "<table class=\"dataframe\">\n",
       "<caption>A data.frame: 6 × 6</caption>\n",
       "<thead>\n",
       "\t<tr><th></th><th scope=col>X</th><th scope=col>city</th><th scope=col>year</th><th scope=col>number_of_eq</th><th scope=col>average_mag</th><th scope=col>max_mag</th></tr>\n",
       "\t<tr><th></th><th scope=col>&lt;int&gt;</th><th scope=col>&lt;chr&gt;</th><th scope=col>&lt;int&gt;</th><th scope=col>&lt;int&gt;</th><th scope=col>&lt;dbl&gt;</th><th scope=col>&lt;dbl&gt;</th></tr>\n",
       "</thead>\n",
       "<tbody>\n",
       "\t<tr><th scope=row>1</th><td>1</td><td>Auckland  </td><td>2007</td><td>1</td><td>4.100000</td><td>4.100000</td></tr>\n",
       "\t<tr><th scope=row>2</th><td>2</td><td>Auckland  </td><td>2010</td><td>1</td><td>4.255000</td><td>4.255000</td></tr>\n",
       "\t<tr><th scope=row>3</th><td>3</td><td>Auckland  </td><td>2019</td><td>3</td><td>4.068303</td><td>4.148209</td></tr>\n",
       "\t<tr><th scope=row>4</th><td>4</td><td>Canterbury</td><td>2005</td><td>5</td><td>4.302400</td><td>4.700000</td></tr>\n",
       "\t<tr><th scope=row>5</th><td>5</td><td>Canterbury</td><td>2006</td><td>3</td><td>4.188000</td><td>4.464000</td></tr>\n",
       "\t<tr><th scope=row>6</th><td>6</td><td>Canterbury</td><td>2007</td><td>8</td><td>4.368750</td><td>5.500000</td></tr>\n",
       "</tbody>\n",
       "</table>\n"
      ],
      "text/latex": [
       "A data.frame: 6 × 6\n",
       "\\begin{tabular}{r|llllll}\n",
       "  & X & city & year & number\\_of\\_eq & average\\_mag & max\\_mag\\\\\n",
       "  & <int> & <chr> & <int> & <int> & <dbl> & <dbl>\\\\\n",
       "\\hline\n",
       "\t1 & 1 & Auckland   & 2007 & 1 & 4.100000 & 4.100000\\\\\n",
       "\t2 & 2 & Auckland   & 2010 & 1 & 4.255000 & 4.255000\\\\\n",
       "\t3 & 3 & Auckland   & 2019 & 3 & 4.068303 & 4.148209\\\\\n",
       "\t4 & 4 & Canterbury & 2005 & 5 & 4.302400 & 4.700000\\\\\n",
       "\t5 & 5 & Canterbury & 2006 & 3 & 4.188000 & 4.464000\\\\\n",
       "\t6 & 6 & Canterbury & 2007 & 8 & 4.368750 & 5.500000\\\\\n",
       "\\end{tabular}\n"
      ],
      "text/markdown": [
       "\n",
       "A data.frame: 6 × 6\n",
       "\n",
       "| <!--/--> | X &lt;int&gt; | city &lt;chr&gt; | year &lt;int&gt; | number_of_eq &lt;int&gt; | average_mag &lt;dbl&gt; | max_mag &lt;dbl&gt; |\n",
       "|---|---|---|---|---|---|---|\n",
       "| 1 | 1 | Auckland   | 2007 | 1 | 4.100000 | 4.100000 |\n",
       "| 2 | 2 | Auckland   | 2010 | 1 | 4.255000 | 4.255000 |\n",
       "| 3 | 3 | Auckland   | 2019 | 3 | 4.068303 | 4.148209 |\n",
       "| 4 | 4 | Canterbury | 2005 | 5 | 4.302400 | 4.700000 |\n",
       "| 5 | 5 | Canterbury | 2006 | 3 | 4.188000 | 4.464000 |\n",
       "| 6 | 6 | Canterbury | 2007 | 8 | 4.368750 | 5.500000 |\n",
       "\n"
      ],
      "text/plain": [
       "  X city       year number_of_eq average_mag max_mag \n",
       "1 1 Auckland   2007 1            4.100000    4.100000\n",
       "2 2 Auckland   2010 1            4.255000    4.255000\n",
       "3 3 Auckland   2019 3            4.068303    4.148209\n",
       "4 4 Canterbury 2005 5            4.302400    4.700000\n",
       "5 5 Canterbury 2006 3            4.188000    4.464000\n",
       "6 6 Canterbury 2007 8            4.368750    5.500000"
      ]
     },
     "metadata": {},
     "output_type": "display_data"
    }
   ],
   "source": [
    "head(nzmentalquake::earthquake_summary_dataset)"
   ]
  },
  {
   "cell_type": "code",
   "execution_count": 4,
   "id": "b4a792cc-470d-4aff-8f40-1983d1677b12",
   "metadata": {},
   "outputs": [
    {
     "data": {
      "text/html": [
       "<table class=\"dataframe\">\n",
       "<caption>A data.frame: 6 × 5</caption>\n",
       "<thead>\n",
       "\t<tr><th></th><th scope=col>X</th><th scope=col>City</th><th scope=col>Year</th><th scope=col>Sex</th><th scope=col>Total</th></tr>\n",
       "\t<tr><th></th><th scope=col>&lt;int&gt;</th><th scope=col>&lt;chr&gt;</th><th scope=col>&lt;int&gt;</th><th scope=col>&lt;chr&gt;</th><th scope=col>&lt;int&gt;</th></tr>\n",
       "</thead>\n",
       "<tbody>\n",
       "\t<tr><th scope=row>1</th><td>1</td><td>Auckland</td><td>2005</td><td>Female</td><td>15635</td></tr>\n",
       "\t<tr><th scope=row>2</th><td>2</td><td>Auckland</td><td>2005</td><td>Male  </td><td>17251</td></tr>\n",
       "\t<tr><th scope=row>3</th><td>3</td><td>Auckland</td><td>2005</td><td>Total </td><td>32886</td></tr>\n",
       "\t<tr><th scope=row>4</th><td>4</td><td>Auckland</td><td>2006</td><td>Female</td><td>16427</td></tr>\n",
       "\t<tr><th scope=row>5</th><td>5</td><td>Auckland</td><td>2006</td><td>Male  </td><td>18497</td></tr>\n",
       "\t<tr><th scope=row>6</th><td>6</td><td>Auckland</td><td>2006</td><td>Total </td><td>34925</td></tr>\n",
       "</tbody>\n",
       "</table>\n"
      ],
      "text/latex": [
       "A data.frame: 6 × 5\n",
       "\\begin{tabular}{r|lllll}\n",
       "  & X & City & Year & Sex & Total\\\\\n",
       "  & <int> & <chr> & <int> & <chr> & <int>\\\\\n",
       "\\hline\n",
       "\t1 & 1 & Auckland & 2005 & Female & 15635\\\\\n",
       "\t2 & 2 & Auckland & 2005 & Male   & 17251\\\\\n",
       "\t3 & 3 & Auckland & 2005 & Total  & 32886\\\\\n",
       "\t4 & 4 & Auckland & 2006 & Female & 16427\\\\\n",
       "\t5 & 5 & Auckland & 2006 & Male   & 18497\\\\\n",
       "\t6 & 6 & Auckland & 2006 & Total  & 34925\\\\\n",
       "\\end{tabular}\n"
      ],
      "text/markdown": [
       "\n",
       "A data.frame: 6 × 5\n",
       "\n",
       "| <!--/--> | X &lt;int&gt; | City &lt;chr&gt; | Year &lt;int&gt; | Sex &lt;chr&gt; | Total &lt;int&gt; |\n",
       "|---|---|---|---|---|---|\n",
       "| 1 | 1 | Auckland | 2005 | Female | 15635 |\n",
       "| 2 | 2 | Auckland | 2005 | Male   | 17251 |\n",
       "| 3 | 3 | Auckland | 2005 | Total  | 32886 |\n",
       "| 4 | 4 | Auckland | 2006 | Female | 16427 |\n",
       "| 5 | 5 | Auckland | 2006 | Male   | 18497 |\n",
       "| 6 | 6 | Auckland | 2006 | Total  | 34925 |\n",
       "\n"
      ],
      "text/plain": [
       "  X City     Year Sex    Total\n",
       "1 1 Auckland 2005 Female 15635\n",
       "2 2 Auckland 2005 Male   17251\n",
       "3 3 Auckland 2005 Total  32886\n",
       "4 4 Auckland 2006 Female 16427\n",
       "5 5 Auckland 2006 Male   18497\n",
       "6 6 Auckland 2006 Total  34925"
      ]
     },
     "metadata": {},
     "output_type": "display_data"
    }
   ],
   "source": [
    "head(nzmentalquake::mental_health_dataset)"
   ]
  },
  {
   "cell_type": "code",
   "execution_count": 5,
   "id": "0ff3637d-1d04-4763-9e9d-1d0f43b6aaa0",
   "metadata": {},
   "outputs": [
    {
     "data": {
      "text/html": [
       "<table class=\"dataframe\">\n",
       "<caption>A data.frame: 6 × 5</caption>\n",
       "<thead>\n",
       "\t<tr><th></th><th scope=col>X</th><th scope=col>City</th><th scope=col>Year</th><th scope=col>Sex</th><th scope=col>Total</th></tr>\n",
       "\t<tr><th></th><th scope=col>&lt;int&gt;</th><th scope=col>&lt;chr&gt;</th><th scope=col>&lt;int&gt;</th><th scope=col>&lt;chr&gt;</th><th scope=col>&lt;int&gt;</th></tr>\n",
       "</thead>\n",
       "<tbody>\n",
       "\t<tr><th scope=row>1</th><td>1</td><td>Auckland</td><td>2005</td><td>Female</td><td>15635</td></tr>\n",
       "\t<tr><th scope=row>2</th><td>2</td><td>Auckland</td><td>2005</td><td>Male  </td><td>17251</td></tr>\n",
       "\t<tr><th scope=row>3</th><td>3</td><td>Auckland</td><td>2005</td><td>Total </td><td>32886</td></tr>\n",
       "\t<tr><th scope=row>4</th><td>4</td><td>Auckland</td><td>2006</td><td>Female</td><td>16427</td></tr>\n",
       "\t<tr><th scope=row>5</th><td>5</td><td>Auckland</td><td>2006</td><td>Male  </td><td>18497</td></tr>\n",
       "\t<tr><th scope=row>6</th><td>6</td><td>Auckland</td><td>2006</td><td>Total </td><td>34925</td></tr>\n",
       "</tbody>\n",
       "</table>\n"
      ],
      "text/latex": [
       "A data.frame: 6 × 5\n",
       "\\begin{tabular}{r|lllll}\n",
       "  & X & City & Year & Sex & Total\\\\\n",
       "  & <int> & <chr> & <int> & <chr> & <int>\\\\\n",
       "\\hline\n",
       "\t1 & 1 & Auckland & 2005 & Female & 15635\\\\\n",
       "\t2 & 2 & Auckland & 2005 & Male   & 17251\\\\\n",
       "\t3 & 3 & Auckland & 2005 & Total  & 32886\\\\\n",
       "\t4 & 4 & Auckland & 2006 & Female & 16427\\\\\n",
       "\t5 & 5 & Auckland & 2006 & Male   & 18497\\\\\n",
       "\t6 & 6 & Auckland & 2006 & Total  & 34925\\\\\n",
       "\\end{tabular}\n"
      ],
      "text/markdown": [
       "\n",
       "A data.frame: 6 × 5\n",
       "\n",
       "| <!--/--> | X &lt;int&gt; | City &lt;chr&gt; | Year &lt;int&gt; | Sex &lt;chr&gt; | Total &lt;int&gt; |\n",
       "|---|---|---|---|---|---|\n",
       "| 1 | 1 | Auckland | 2005 | Female | 15635 |\n",
       "| 2 | 2 | Auckland | 2005 | Male   | 17251 |\n",
       "| 3 | 3 | Auckland | 2005 | Total  | 32886 |\n",
       "| 4 | 4 | Auckland | 2006 | Female | 16427 |\n",
       "| 5 | 5 | Auckland | 2006 | Male   | 18497 |\n",
       "| 6 | 6 | Auckland | 2006 | Total  | 34925 |\n",
       "\n"
      ],
      "text/plain": [
       "  X City     Year Sex    Total\n",
       "1 1 Auckland 2005 Female 15635\n",
       "2 2 Auckland 2005 Male   17251\n",
       "3 3 Auckland 2005 Total  32886\n",
       "4 4 Auckland 2006 Female 16427\n",
       "5 5 Auckland 2006 Male   18497\n",
       "6 6 Auckland 2006 Total  34925"
      ]
     },
     "metadata": {},
     "output_type": "display_data"
    }
   ],
   "source": [
    "head(nzmentalquake::population_dataset)"
   ]
  },
  {
   "cell_type": "code",
   "execution_count": null,
   "id": "d4e68a08-5930-41ba-bda4-b8787443bbd8",
   "metadata": {},
   "outputs": [],
   "source": []
  }
 ],
 "metadata": {
  "kernelspec": {
   "display_name": "R",
   "language": "R",
   "name": "ir"
  },
  "language_info": {
   "codemirror_mode": "r",
   "file_extension": ".r",
   "mimetype": "text/x-r-source",
   "name": "R",
   "pygments_lexer": "r",
   "version": "4.1.0"
  }
 },
 "nbformat": 4,
 "nbformat_minor": 5
}
