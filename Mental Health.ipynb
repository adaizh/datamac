{
 "cells": [
  {
   "cell_type": "markdown",
   "id": "25b036dc-7599-4dc4-aefc-a1f69179491e",
   "metadata": {},
   "source": [
    "# Cleaning the Mental Health Dataset\n",
    "### Importing the Dataset:"
   ]
  },
  {
   "cell_type": "code",
   "execution_count": 284,
   "id": "3302be1d-056a-401f-9778-763281a3bf38",
   "metadata": {},
   "outputs": [
    {
     "name": "stderr",
     "output_type": "stream",
     "text": [
      "\n",
      "Attaching package: ‘glue’\n",
      "\n",
      "\n",
      "The following object is masked from ‘package:dplyr’:\n",
      "\n",
      "    collapse\n",
      "\n",
      "\n"
     ]
    }
   ],
   "source": [
    "library(tidyverse)\n",
    "library(readxl)\n",
    "library(dplyr)\n",
    "library(glue)"
   ]
  },
  {
   "cell_type": "code",
   "execution_count": 309,
   "id": "da3796e9-b3e6-40ba-a0cf-24a357c058e5",
   "metadata": {
    "tags": []
   },
   "outputs": [],
   "source": [
    "# Function to read excel sheets and extract columns & rows of Canterbury DHB for the years of 2004 - 2008\n",
    "read_excel_mh <- function(file){\n",
    "    path <- glue('Mental health data/{file}')\n",
    "    colheads <- read_excel(path, sheet = 4, skip = 4) %>% names()\n",
    "    colheads[2] <- 'Sex'\n",
    "    \n",
    "    year <- file %>%substr(6, 9) # Extract year from filename\n",
    "    \n",
    "    df <- read_excel(path, sheet = 4, skip =74, col_names = colheads) %>%\n",
    "    slice(1:3) %>%\n",
    "    mutate(Year = year, DHB = 'Canterbury') %>%\n",
    "    select(DHB, Sex, Total, Year)\n",
    "    \n",
    "    return(df)\n",
    "}\n",
    "\n",
    "# Function to read excel sheets and extract columns & rows of Canterbury DHB for the year 2009-2010\n",
    "read_excel_mh2 <- function(file){\n",
    "    path <- glue('Mental health data/{file}')\n",
    "    df <- read_excel(path, sheet = 12, col_names =c('DHB', 'Total', 'Rates')) %>%\n",
    "    select(1:2) %>%\n",
    "    slice(3:25) %>%\n",
    "    filter(DHB == 'Canterbury') %>%\n",
    "    mutate(Year = '2010')\n",
    "        \n",
    "    return(df)\n",
    "}\n",
    "\n",
    "# Function to read excel sheets and extract columns & rows of Canterbury DHB for the year 2010-2020\n",
    "read_excel_mh3 <- function(file, sheetnum, slicefrom, sliceto){\n",
    "    slicefrom <- slicefrom - 4\n",
    "    sliceto <- sliceto - 4\n",
    "    path <- glue('Mental health data/{file}')\n",
    "    df <- read_excel(path, sheet = sheetnum, skip = 3) %>%\n",
    "    select(1:3) %>%\n",
    "    slice(slicefrom:sliceto)\n",
    "    \n",
    "    names(df) <- c('DHB', 'Sex', 'Total') # Rename columns\n",
    "    year <- file %>%substr(6, 9) # Extract year from filename\n",
    "    df <- df %>% mutate(DHB = 'Canterbury', Year = year)\n",
    "    \n",
    "    return(df)\n",
    "}"
   ]
  },
  {
   "cell_type": "code",
   "execution_count": 296,
   "id": "8443a666-c67a-4ff7-a785-6c7007b20f91",
   "metadata": {},
   "outputs": [
    {
     "name": "stderr",
     "output_type": "stream",
     "text": [
      "New names:\n",
      "* `` -> ...1\n",
      "* `` -> ...2\n",
      "* `` -> ...3\n",
      "\n"
     ]
    },
    {
     "data": {
      "text/html": [
       "<table class=\"dataframe\">\n",
       "<caption>A tibble: 3 × 4</caption>\n",
       "<thead>\n",
       "\t<tr><th scope=col>DHB</th><th scope=col>Sex</th><th scope=col>Total</th><th scope=col>Year</th></tr>\n",
       "\t<tr><th scope=col>&lt;chr&gt;</th><th scope=col>&lt;chr&gt;</th><th scope=col>&lt;dbl&gt;</th><th scope=col>&lt;chr&gt;</th></tr>\n",
       "</thead>\n",
       "<tbody>\n",
       "\t<tr><td>Canterbury</td><td>Total </td><td>13130</td><td>2020</td></tr>\n",
       "\t<tr><td>Canterbury</td><td>Male  </td><td> 6749</td><td>2020</td></tr>\n",
       "\t<tr><td>Canterbury</td><td>Female</td><td> 6381</td><td>2020</td></tr>\n",
       "</tbody>\n",
       "</table>\n"
      ],
      "text/latex": [
       "A tibble: 3 × 4\n",
       "\\begin{tabular}{llll}\n",
       " DHB & Sex & Total & Year\\\\\n",
       " <chr> & <chr> & <dbl> & <chr>\\\\\n",
       "\\hline\n",
       "\t Canterbury & Total  & 13130 & 2020\\\\\n",
       "\t Canterbury & Male   &  6749 & 2020\\\\\n",
       "\t Canterbury & Female &  6381 & 2020\\\\\n",
       "\\end{tabular}\n"
      ],
      "text/markdown": [
       "\n",
       "A tibble: 3 × 4\n",
       "\n",
       "| DHB &lt;chr&gt; | Sex &lt;chr&gt; | Total &lt;dbl&gt; | Year &lt;chr&gt; |\n",
       "|---|---|---|---|\n",
       "| Canterbury | Total  | 13130 | 2020 |\n",
       "| Canterbury | Male   |  6749 | 2020 |\n",
       "| Canterbury | Female |  6381 | 2020 |\n",
       "\n"
      ],
      "text/plain": [
       "  DHB        Sex    Total Year\n",
       "1 Canterbury Total  13130 2020\n",
       "2 Canterbury Male    6749 2020\n",
       "3 Canterbury Female  6381 2020"
      ]
     },
     "metadata": {},
     "output_type": "display_data"
    }
   ],
   "source": [
    "mh_df_1920 <- read_excel_mh3(\"16 mh2020.xlsx\", 11, 59, 61)\n",
    "mh_df_1920\n",
    "#read_excel(\"Mental health data/08 mh2012.xlsx\", sheet = 15)"
   ]
  },
  {
   "cell_type": "code",
   "execution_count": 310,
   "id": "99a80444-86b8-4419-ab9d-265c0b4833a9",
   "metadata": {
    "collapsed": true,
    "jupyter": {
     "outputs_hidden": true
    },
    "tags": []
   },
   "outputs": [
    {
     "name": "stderr",
     "output_type": "stream",
     "text": [
      "New names:\n",
      "* `` -> ...1\n",
      "* `` -> ...2\n",
      "\n",
      "New names:\n",
      "* `` -> ...1\n",
      "* `` -> ...2\n",
      "\n",
      "New names:\n",
      "* `` -> ...1\n",
      "* `` -> ...2\n",
      "\n",
      "New names:\n",
      "* `` -> ...1\n",
      "* `` -> ...2\n",
      "\n",
      "New names:\n",
      "* `` -> ...1\n",
      "* `` -> ...2\n",
      "* `` -> ...3\n",
      "\n",
      "New names:\n",
      "* `` -> ...1\n",
      "* `` -> ...2\n",
      "* `` -> ...3\n",
      "\n",
      "New names:\n",
      "* `` -> ...1\n",
      "\n",
      "New names:\n",
      "* `` -> ...1\n",
      "\n",
      "New names:\n",
      "* `` -> ...1\n",
      "\n",
      "New names:\n",
      "* `` -> ...1\n",
      "\n",
      "New names:\n",
      "* `` -> ...1\n",
      "* `` -> ...2\n",
      "* `` -> ...3\n",
      "\n",
      "New names:\n",
      "* `` -> ...1\n",
      "* `` -> ...2\n",
      "* `` -> ...3\n",
      "\n",
      "New names:\n",
      "* `` -> ...3\n",
      "\n",
      "New names:\n",
      "* `` -> ...1\n",
      "* `` -> ...2\n",
      "* `` -> ...3\n",
      "\n"
     ]
    }
   ],
   "source": [
    "# Read the columns of Canterbury DHB\n",
    "mh_df_0405 <- read_excel_mh(\"01 mh2005.xls\")\n",
    "mh_df_0506 <- read_excel_mh(\"02 mh2006.xls\")\n",
    "mh_df_0607 <- read_excel_mh(\"03 mh2007.xls\")\n",
    "mh_df_0708 <- read_excel_mh(\"04 mh2008.xls\")\n",
    "# Year 0809 is missing\n",
    "mh_df_0910 <- read_excel_mh2(\"06 mh2010.xls\")\n",
    "mh_df_1011 <- read_excel_mh3(\"07 mh2011.xlsx\", 14, 29, 31)\n",
    "mh_df_1112 <- read_excel_mh3(\"08 mh2012.xlsx\", 15, 62, 64)\n",
    "mh_df_1213 <- read_excel_mh3(\"09 mh2013.xlsx\", 11, 68, 70)\n",
    "mh_df_1314 <- read_excel_mh3(\"10 mh2014.xlsx\", 11, 71, 73)\n",
    "mh_df_1415 <- read_excel_mh3(\"11 mh2015.xlsx\", 11, 71, 73)\n",
    "mh_df_1516 <- read_excel_mh3(\"12 mh2016.xlsx\", 11, 62, 64)\n",
    "mh_df_1617 <- read_excel_mh3(\"13 mh2017.xlsx\", 11, 68, 70)\n",
    "mh_df_1718 <- read_excel_mh3(\"14 mh2018.xlsx\", 11, 68, 70)\n",
    "mh_df_1819 <- read_excel_mh3(\"15 mh2019.xlsx\", 11, 68, 70)\n",
    "mh_df_1920 <- read_excel_mh3(\"16 mh2020.xlsx\", 11, 59, 61)\n"
   ]
  },
  {
   "cell_type": "code",
   "execution_count": 311,
   "id": "d970bf7d-3260-468a-9cba-4e221beb8397",
   "metadata": {
    "collapsed": true,
    "jupyter": {
     "outputs_hidden": true
    },
    "tags": []
   },
   "outputs": [
    {
     "data": {
      "text/html": [
       "<table class=\"dataframe\">\n",
       "<caption>A tibble: 3 × 4</caption>\n",
       "<thead>\n",
       "\t<tr><th scope=col>DHB</th><th scope=col>Sex</th><th scope=col>Total</th><th scope=col>Year</th></tr>\n",
       "\t<tr><th scope=col>&lt;chr&gt;</th><th scope=col>&lt;chr&gt;</th><th scope=col>&lt;dbl&gt;</th><th scope=col>&lt;chr&gt;</th></tr>\n",
       "</thead>\n",
       "<tbody>\n",
       "\t<tr><td>Canterbury</td><td>Total </td><td>10088</td><td>2005</td></tr>\n",
       "\t<tr><td>Canterbury</td><td>Male  </td><td> 5199</td><td>2005</td></tr>\n",
       "\t<tr><td>Canterbury</td><td>Female</td><td> 4889</td><td>2005</td></tr>\n",
       "</tbody>\n",
       "</table>\n"
      ],
      "text/latex": [
       "A tibble: 3 × 4\n",
       "\\begin{tabular}{llll}\n",
       " DHB & Sex & Total & Year\\\\\n",
       " <chr> & <chr> & <dbl> & <chr>\\\\\n",
       "\\hline\n",
       "\t Canterbury & Total  & 10088 & 2005\\\\\n",
       "\t Canterbury & Male   &  5199 & 2005\\\\\n",
       "\t Canterbury & Female &  4889 & 2005\\\\\n",
       "\\end{tabular}\n"
      ],
      "text/markdown": [
       "\n",
       "A tibble: 3 × 4\n",
       "\n",
       "| DHB &lt;chr&gt; | Sex &lt;chr&gt; | Total &lt;dbl&gt; | Year &lt;chr&gt; |\n",
       "|---|---|---|---|\n",
       "| Canterbury | Total  | 10088 | 2005 |\n",
       "| Canterbury | Male   |  5199 | 2005 |\n",
       "| Canterbury | Female |  4889 | 2005 |\n",
       "\n"
      ],
      "text/plain": [
       "  DHB        Sex    Total Year\n",
       "1 Canterbury Total  10088 2005\n",
       "2 Canterbury Male    5199 2005\n",
       "3 Canterbury Female  4889 2005"
      ]
     },
     "metadata": {},
     "output_type": "display_data"
    },
    {
     "data": {
      "text/html": [
       "<table class=\"dataframe\">\n",
       "<caption>A tibble: 3 × 4</caption>\n",
       "<thead>\n",
       "\t<tr><th scope=col>DHB</th><th scope=col>Sex</th><th scope=col>Total</th><th scope=col>Year</th></tr>\n",
       "\t<tr><th scope=col>&lt;chr&gt;</th><th scope=col>&lt;chr&gt;</th><th scope=col>&lt;dbl&gt;</th><th scope=col>&lt;chr&gt;</th></tr>\n",
       "</thead>\n",
       "<tbody>\n",
       "\t<tr><td>Canterbury</td><td>Total </td><td>10071</td><td>2006</td></tr>\n",
       "\t<tr><td>Canterbury</td><td>Male  </td><td> 5192</td><td>2006</td></tr>\n",
       "\t<tr><td>Canterbury</td><td>Female</td><td> 4879</td><td>2006</td></tr>\n",
       "</tbody>\n",
       "</table>\n"
      ],
      "text/latex": [
       "A tibble: 3 × 4\n",
       "\\begin{tabular}{llll}\n",
       " DHB & Sex & Total & Year\\\\\n",
       " <chr> & <chr> & <dbl> & <chr>\\\\\n",
       "\\hline\n",
       "\t Canterbury & Total  & 10071 & 2006\\\\\n",
       "\t Canterbury & Male   &  5192 & 2006\\\\\n",
       "\t Canterbury & Female &  4879 & 2006\\\\\n",
       "\\end{tabular}\n"
      ],
      "text/markdown": [
       "\n",
       "A tibble: 3 × 4\n",
       "\n",
       "| DHB &lt;chr&gt; | Sex &lt;chr&gt; | Total &lt;dbl&gt; | Year &lt;chr&gt; |\n",
       "|---|---|---|---|\n",
       "| Canterbury | Total  | 10071 | 2006 |\n",
       "| Canterbury | Male   |  5192 | 2006 |\n",
       "| Canterbury | Female |  4879 | 2006 |\n",
       "\n"
      ],
      "text/plain": [
       "  DHB        Sex    Total Year\n",
       "1 Canterbury Total  10071 2006\n",
       "2 Canterbury Male    5192 2006\n",
       "3 Canterbury Female  4879 2006"
      ]
     },
     "metadata": {},
     "output_type": "display_data"
    },
    {
     "data": {
      "text/html": [
       "<table class=\"dataframe\">\n",
       "<caption>A tibble: 3 × 4</caption>\n",
       "<thead>\n",
       "\t<tr><th scope=col>DHB</th><th scope=col>Sex</th><th scope=col>Total</th><th scope=col>Year</th></tr>\n",
       "\t<tr><th scope=col>&lt;chr&gt;</th><th scope=col>&lt;chr&gt;</th><th scope=col>&lt;dbl&gt;</th><th scope=col>&lt;chr&gt;</th></tr>\n",
       "</thead>\n",
       "<tbody>\n",
       "\t<tr><td>Canterbury</td><td>Total </td><td>9887</td><td>2007</td></tr>\n",
       "\t<tr><td>Canterbury</td><td>Male  </td><td>5094</td><td>2007</td></tr>\n",
       "\t<tr><td>Canterbury</td><td>Female</td><td>4793</td><td>2007</td></tr>\n",
       "</tbody>\n",
       "</table>\n"
      ],
      "text/latex": [
       "A tibble: 3 × 4\n",
       "\\begin{tabular}{llll}\n",
       " DHB & Sex & Total & Year\\\\\n",
       " <chr> & <chr> & <dbl> & <chr>\\\\\n",
       "\\hline\n",
       "\t Canterbury & Total  & 9887 & 2007\\\\\n",
       "\t Canterbury & Male   & 5094 & 2007\\\\\n",
       "\t Canterbury & Female & 4793 & 2007\\\\\n",
       "\\end{tabular}\n"
      ],
      "text/markdown": [
       "\n",
       "A tibble: 3 × 4\n",
       "\n",
       "| DHB &lt;chr&gt; | Sex &lt;chr&gt; | Total &lt;dbl&gt; | Year &lt;chr&gt; |\n",
       "|---|---|---|---|\n",
       "| Canterbury | Total  | 9887 | 2007 |\n",
       "| Canterbury | Male   | 5094 | 2007 |\n",
       "| Canterbury | Female | 4793 | 2007 |\n",
       "\n"
      ],
      "text/plain": [
       "  DHB        Sex    Total Year\n",
       "1 Canterbury Total  9887  2007\n",
       "2 Canterbury Male   5094  2007\n",
       "3 Canterbury Female 4793  2007"
      ]
     },
     "metadata": {},
     "output_type": "display_data"
    },
    {
     "data": {
      "text/html": [
       "<table class=\"dataframe\">\n",
       "<caption>A tibble: 3 × 4</caption>\n",
       "<thead>\n",
       "\t<tr><th scope=col>DHB</th><th scope=col>Sex</th><th scope=col>Total</th><th scope=col>Year</th></tr>\n",
       "\t<tr><th scope=col>&lt;chr&gt;</th><th scope=col>&lt;chr&gt;</th><th scope=col>&lt;dbl&gt;</th><th scope=col>&lt;chr&gt;</th></tr>\n",
       "</thead>\n",
       "<tbody>\n",
       "\t<tr><td>Canterbury</td><td>Total </td><td>9502</td><td>2008</td></tr>\n",
       "\t<tr><td>Canterbury</td><td>Male  </td><td>4767</td><td>2008</td></tr>\n",
       "\t<tr><td>Canterbury</td><td>Female</td><td>4735</td><td>2008</td></tr>\n",
       "</tbody>\n",
       "</table>\n"
      ],
      "text/latex": [
       "A tibble: 3 × 4\n",
       "\\begin{tabular}{llll}\n",
       " DHB & Sex & Total & Year\\\\\n",
       " <chr> & <chr> & <dbl> & <chr>\\\\\n",
       "\\hline\n",
       "\t Canterbury & Total  & 9502 & 2008\\\\\n",
       "\t Canterbury & Male   & 4767 & 2008\\\\\n",
       "\t Canterbury & Female & 4735 & 2008\\\\\n",
       "\\end{tabular}\n"
      ],
      "text/markdown": [
       "\n",
       "A tibble: 3 × 4\n",
       "\n",
       "| DHB &lt;chr&gt; | Sex &lt;chr&gt; | Total &lt;dbl&gt; | Year &lt;chr&gt; |\n",
       "|---|---|---|---|\n",
       "| Canterbury | Total  | 9502 | 2008 |\n",
       "| Canterbury | Male   | 4767 | 2008 |\n",
       "| Canterbury | Female | 4735 | 2008 |\n",
       "\n"
      ],
      "text/plain": [
       "  DHB        Sex    Total Year\n",
       "1 Canterbury Total  9502  2008\n",
       "2 Canterbury Male   4767  2008\n",
       "3 Canterbury Female 4735  2008"
      ]
     },
     "metadata": {},
     "output_type": "display_data"
    },
    {
     "data": {
      "text/html": [
       "<table class=\"dataframe\">\n",
       "<caption>A tibble: 1 × 3</caption>\n",
       "<thead>\n",
       "\t<tr><th scope=col>DHB</th><th scope=col>Total</th><th scope=col>Year</th></tr>\n",
       "\t<tr><th scope=col>&lt;chr&gt;</th><th scope=col>&lt;chr&gt;</th><th scope=col>&lt;chr&gt;</th></tr>\n",
       "</thead>\n",
       "<tbody>\n",
       "\t<tr><td>Canterbury</td><td>11227</td><td>2010</td></tr>\n",
       "</tbody>\n",
       "</table>\n"
      ],
      "text/latex": [
       "A tibble: 1 × 3\n",
       "\\begin{tabular}{lll}\n",
       " DHB & Total & Year\\\\\n",
       " <chr> & <chr> & <chr>\\\\\n",
       "\\hline\n",
       "\t Canterbury & 11227 & 2010\\\\\n",
       "\\end{tabular}\n"
      ],
      "text/markdown": [
       "\n",
       "A tibble: 1 × 3\n",
       "\n",
       "| DHB &lt;chr&gt; | Total &lt;chr&gt; | Year &lt;chr&gt; |\n",
       "|---|---|---|\n",
       "| Canterbury | 11227 | 2010 |\n",
       "\n"
      ],
      "text/plain": [
       "  DHB        Total Year\n",
       "1 Canterbury 11227 2010"
      ]
     },
     "metadata": {},
     "output_type": "display_data"
    },
    {
     "data": {
      "text/html": [
       "<table class=\"dataframe\">\n",
       "<caption>A tibble: 3 × 4</caption>\n",
       "<thead>\n",
       "\t<tr><th scope=col>DHB</th><th scope=col>Sex</th><th scope=col>Total</th><th scope=col>Year</th></tr>\n",
       "\t<tr><th scope=col>&lt;chr&gt;</th><th scope=col>&lt;chr&gt;</th><th scope=col>&lt;dbl&gt;</th><th scope=col>&lt;chr&gt;</th></tr>\n",
       "</thead>\n",
       "<tbody>\n",
       "\t<tr><td>Canterbury</td><td>Total </td><td>11121</td><td>2011</td></tr>\n",
       "\t<tr><td>Canterbury</td><td>Male  </td><td> 5719</td><td>2011</td></tr>\n",
       "\t<tr><td>Canterbury</td><td>Female</td><td> 5402</td><td>2011</td></tr>\n",
       "</tbody>\n",
       "</table>\n"
      ],
      "text/latex": [
       "A tibble: 3 × 4\n",
       "\\begin{tabular}{llll}\n",
       " DHB & Sex & Total & Year\\\\\n",
       " <chr> & <chr> & <dbl> & <chr>\\\\\n",
       "\\hline\n",
       "\t Canterbury & Total  & 11121 & 2011\\\\\n",
       "\t Canterbury & Male   &  5719 & 2011\\\\\n",
       "\t Canterbury & Female &  5402 & 2011\\\\\n",
       "\\end{tabular}\n"
      ],
      "text/markdown": [
       "\n",
       "A tibble: 3 × 4\n",
       "\n",
       "| DHB &lt;chr&gt; | Sex &lt;chr&gt; | Total &lt;dbl&gt; | Year &lt;chr&gt; |\n",
       "|---|---|---|---|\n",
       "| Canterbury | Total  | 11121 | 2011 |\n",
       "| Canterbury | Male   |  5719 | 2011 |\n",
       "| Canterbury | Female |  5402 | 2011 |\n",
       "\n"
      ],
      "text/plain": [
       "  DHB        Sex    Total Year\n",
       "1 Canterbury Total  11121 2011\n",
       "2 Canterbury Male    5719 2011\n",
       "3 Canterbury Female  5402 2011"
      ]
     },
     "metadata": {},
     "output_type": "display_data"
    },
    {
     "data": {
      "text/html": [
       "<table class=\"dataframe\">\n",
       "<caption>A tibble: 3 × 4</caption>\n",
       "<thead>\n",
       "\t<tr><th scope=col>DHB</th><th scope=col>Sex</th><th scope=col>Total</th><th scope=col>Year</th></tr>\n",
       "\t<tr><th scope=col>&lt;chr&gt;</th><th scope=col>&lt;chr&gt;</th><th scope=col>&lt;dbl&gt;</th><th scope=col>&lt;chr&gt;</th></tr>\n",
       "</thead>\n",
       "<tbody>\n",
       "\t<tr><td>Canterbury</td><td>Total </td><td>12374</td><td>2012</td></tr>\n",
       "\t<tr><td>Canterbury</td><td>Male  </td><td> 6309</td><td>2012</td></tr>\n",
       "\t<tr><td>Canterbury</td><td>Female</td><td> 6065</td><td>2012</td></tr>\n",
       "</tbody>\n",
       "</table>\n"
      ],
      "text/latex": [
       "A tibble: 3 × 4\n",
       "\\begin{tabular}{llll}\n",
       " DHB & Sex & Total & Year\\\\\n",
       " <chr> & <chr> & <dbl> & <chr>\\\\\n",
       "\\hline\n",
       "\t Canterbury & Total  & 12374 & 2012\\\\\n",
       "\t Canterbury & Male   &  6309 & 2012\\\\\n",
       "\t Canterbury & Female &  6065 & 2012\\\\\n",
       "\\end{tabular}\n"
      ],
      "text/markdown": [
       "\n",
       "A tibble: 3 × 4\n",
       "\n",
       "| DHB &lt;chr&gt; | Sex &lt;chr&gt; | Total &lt;dbl&gt; | Year &lt;chr&gt; |\n",
       "|---|---|---|---|\n",
       "| Canterbury | Total  | 12374 | 2012 |\n",
       "| Canterbury | Male   |  6309 | 2012 |\n",
       "| Canterbury | Female |  6065 | 2012 |\n",
       "\n"
      ],
      "text/plain": [
       "  DHB        Sex    Total Year\n",
       "1 Canterbury Total  12374 2012\n",
       "2 Canterbury Male    6309 2012\n",
       "3 Canterbury Female  6065 2012"
      ]
     },
     "metadata": {},
     "output_type": "display_data"
    },
    {
     "data": {
      "text/html": [
       "<table class=\"dataframe\">\n",
       "<caption>A tibble: 3 × 4</caption>\n",
       "<thead>\n",
       "\t<tr><th scope=col>DHB</th><th scope=col>Sex</th><th scope=col>Total</th><th scope=col>Year</th></tr>\n",
       "\t<tr><th scope=col>&lt;chr&gt;</th><th scope=col>&lt;chr&gt;</th><th scope=col>&lt;dbl&gt;</th><th scope=col>&lt;chr&gt;</th></tr>\n",
       "</thead>\n",
       "<tbody>\n",
       "\t<tr><td>Canterbury</td><td>Total </td><td>12906</td><td>2013</td></tr>\n",
       "\t<tr><td>Canterbury</td><td>Male  </td><td> 6398</td><td>2013</td></tr>\n",
       "\t<tr><td>Canterbury</td><td>Female</td><td> 6508</td><td>2013</td></tr>\n",
       "</tbody>\n",
       "</table>\n"
      ],
      "text/latex": [
       "A tibble: 3 × 4\n",
       "\\begin{tabular}{llll}\n",
       " DHB & Sex & Total & Year\\\\\n",
       " <chr> & <chr> & <dbl> & <chr>\\\\\n",
       "\\hline\n",
       "\t Canterbury & Total  & 12906 & 2013\\\\\n",
       "\t Canterbury & Male   &  6398 & 2013\\\\\n",
       "\t Canterbury & Female &  6508 & 2013\\\\\n",
       "\\end{tabular}\n"
      ],
      "text/markdown": [
       "\n",
       "A tibble: 3 × 4\n",
       "\n",
       "| DHB &lt;chr&gt; | Sex &lt;chr&gt; | Total &lt;dbl&gt; | Year &lt;chr&gt; |\n",
       "|---|---|---|---|\n",
       "| Canterbury | Total  | 12906 | 2013 |\n",
       "| Canterbury | Male   |  6398 | 2013 |\n",
       "| Canterbury | Female |  6508 | 2013 |\n",
       "\n"
      ],
      "text/plain": [
       "  DHB        Sex    Total Year\n",
       "1 Canterbury Total  12906 2013\n",
       "2 Canterbury Male    6398 2013\n",
       "3 Canterbury Female  6508 2013"
      ]
     },
     "metadata": {},
     "output_type": "display_data"
    },
    {
     "data": {
      "text/html": [
       "<table class=\"dataframe\">\n",
       "<caption>A tibble: 3 × 4</caption>\n",
       "<thead>\n",
       "\t<tr><th scope=col>DHB</th><th scope=col>Sex</th><th scope=col>Total</th><th scope=col>Year</th></tr>\n",
       "\t<tr><th scope=col>&lt;chr&gt;</th><th scope=col>&lt;chr&gt;</th><th scope=col>&lt;dbl&gt;</th><th scope=col>&lt;chr&gt;</th></tr>\n",
       "</thead>\n",
       "<tbody>\n",
       "\t<tr><td>Canterbury</td><td>Total </td><td>13289</td><td>2014</td></tr>\n",
       "\t<tr><td>Canterbury</td><td>Male  </td><td> 6559</td><td>2014</td></tr>\n",
       "\t<tr><td>Canterbury</td><td>Female</td><td> 6730</td><td>2014</td></tr>\n",
       "</tbody>\n",
       "</table>\n"
      ],
      "text/latex": [
       "A tibble: 3 × 4\n",
       "\\begin{tabular}{llll}\n",
       " DHB & Sex & Total & Year\\\\\n",
       " <chr> & <chr> & <dbl> & <chr>\\\\\n",
       "\\hline\n",
       "\t Canterbury & Total  & 13289 & 2014\\\\\n",
       "\t Canterbury & Male   &  6559 & 2014\\\\\n",
       "\t Canterbury & Female &  6730 & 2014\\\\\n",
       "\\end{tabular}\n"
      ],
      "text/markdown": [
       "\n",
       "A tibble: 3 × 4\n",
       "\n",
       "| DHB &lt;chr&gt; | Sex &lt;chr&gt; | Total &lt;dbl&gt; | Year &lt;chr&gt; |\n",
       "|---|---|---|---|\n",
       "| Canterbury | Total  | 13289 | 2014 |\n",
       "| Canterbury | Male   |  6559 | 2014 |\n",
       "| Canterbury | Female |  6730 | 2014 |\n",
       "\n"
      ],
      "text/plain": [
       "  DHB        Sex    Total Year\n",
       "1 Canterbury Total  13289 2014\n",
       "2 Canterbury Male    6559 2014\n",
       "3 Canterbury Female  6730 2014"
      ]
     },
     "metadata": {},
     "output_type": "display_data"
    },
    {
     "data": {
      "text/html": [
       "<table class=\"dataframe\">\n",
       "<caption>A tibble: 3 × 4</caption>\n",
       "<thead>\n",
       "\t<tr><th scope=col>DHB</th><th scope=col>Sex</th><th scope=col>Total</th><th scope=col>Year</th></tr>\n",
       "\t<tr><th scope=col>&lt;chr&gt;</th><th scope=col>&lt;chr&gt;</th><th scope=col>&lt;dbl&gt;</th><th scope=col>&lt;chr&gt;</th></tr>\n",
       "</thead>\n",
       "<tbody>\n",
       "\t<tr><td>Canterbury</td><td>Total </td><td>13199</td><td>2015</td></tr>\n",
       "\t<tr><td>Canterbury</td><td>Male  </td><td> 6483</td><td>2015</td></tr>\n",
       "\t<tr><td>Canterbury</td><td>Female</td><td> 6716</td><td>2015</td></tr>\n",
       "</tbody>\n",
       "</table>\n"
      ],
      "text/latex": [
       "A tibble: 3 × 4\n",
       "\\begin{tabular}{llll}\n",
       " DHB & Sex & Total & Year\\\\\n",
       " <chr> & <chr> & <dbl> & <chr>\\\\\n",
       "\\hline\n",
       "\t Canterbury & Total  & 13199 & 2015\\\\\n",
       "\t Canterbury & Male   &  6483 & 2015\\\\\n",
       "\t Canterbury & Female &  6716 & 2015\\\\\n",
       "\\end{tabular}\n"
      ],
      "text/markdown": [
       "\n",
       "A tibble: 3 × 4\n",
       "\n",
       "| DHB &lt;chr&gt; | Sex &lt;chr&gt; | Total &lt;dbl&gt; | Year &lt;chr&gt; |\n",
       "|---|---|---|---|\n",
       "| Canterbury | Total  | 13199 | 2015 |\n",
       "| Canterbury | Male   |  6483 | 2015 |\n",
       "| Canterbury | Female |  6716 | 2015 |\n",
       "\n"
      ],
      "text/plain": [
       "  DHB        Sex    Total Year\n",
       "1 Canterbury Total  13199 2015\n",
       "2 Canterbury Male    6483 2015\n",
       "3 Canterbury Female  6716 2015"
      ]
     },
     "metadata": {},
     "output_type": "display_data"
    },
    {
     "data": {
      "text/html": [
       "<table class=\"dataframe\">\n",
       "<caption>A tibble: 3 × 4</caption>\n",
       "<thead>\n",
       "\t<tr><th scope=col>DHB</th><th scope=col>Sex</th><th scope=col>Total</th><th scope=col>Year</th></tr>\n",
       "\t<tr><th scope=col>&lt;chr&gt;</th><th scope=col>&lt;chr&gt;</th><th scope=col>&lt;dbl&gt;</th><th scope=col>&lt;chr&gt;</th></tr>\n",
       "</thead>\n",
       "<tbody>\n",
       "\t<tr><td>Canterbury</td><td>Total </td><td>14089</td><td>2016</td></tr>\n",
       "\t<tr><td>Canterbury</td><td>Male  </td><td> 7172</td><td>2016</td></tr>\n",
       "\t<tr><td>Canterbury</td><td>Female</td><td> 6917</td><td>2016</td></tr>\n",
       "</tbody>\n",
       "</table>\n"
      ],
      "text/latex": [
       "A tibble: 3 × 4\n",
       "\\begin{tabular}{llll}\n",
       " DHB & Sex & Total & Year\\\\\n",
       " <chr> & <chr> & <dbl> & <chr>\\\\\n",
       "\\hline\n",
       "\t Canterbury & Total  & 14089 & 2016\\\\\n",
       "\t Canterbury & Male   &  7172 & 2016\\\\\n",
       "\t Canterbury & Female &  6917 & 2016\\\\\n",
       "\\end{tabular}\n"
      ],
      "text/markdown": [
       "\n",
       "A tibble: 3 × 4\n",
       "\n",
       "| DHB &lt;chr&gt; | Sex &lt;chr&gt; | Total &lt;dbl&gt; | Year &lt;chr&gt; |\n",
       "|---|---|---|---|\n",
       "| Canterbury | Total  | 14089 | 2016 |\n",
       "| Canterbury | Male   |  7172 | 2016 |\n",
       "| Canterbury | Female |  6917 | 2016 |\n",
       "\n"
      ],
      "text/plain": [
       "  DHB        Sex    Total Year\n",
       "1 Canterbury Total  14089 2016\n",
       "2 Canterbury Male    7172 2016\n",
       "3 Canterbury Female  6917 2016"
      ]
     },
     "metadata": {},
     "output_type": "display_data"
    },
    {
     "data": {
      "text/html": [
       "<table class=\"dataframe\">\n",
       "<caption>A tibble: 3 × 4</caption>\n",
       "<thead>\n",
       "\t<tr><th scope=col>DHB</th><th scope=col>Sex</th><th scope=col>Total</th><th scope=col>Year</th></tr>\n",
       "\t<tr><th scope=col>&lt;chr&gt;</th><th scope=col>&lt;chr&gt;</th><th scope=col>&lt;dbl&gt;</th><th scope=col>&lt;chr&gt;</th></tr>\n",
       "</thead>\n",
       "<tbody>\n",
       "\t<tr><td>Canterbury</td><td>Total </td><td>12711</td><td>2017</td></tr>\n",
       "\t<tr><td>Canterbury</td><td>Male  </td><td> 6610</td><td>2017</td></tr>\n",
       "\t<tr><td>Canterbury</td><td>Female</td><td> 6101</td><td>2017</td></tr>\n",
       "</tbody>\n",
       "</table>\n"
      ],
      "text/latex": [
       "A tibble: 3 × 4\n",
       "\\begin{tabular}{llll}\n",
       " DHB & Sex & Total & Year\\\\\n",
       " <chr> & <chr> & <dbl> & <chr>\\\\\n",
       "\\hline\n",
       "\t Canterbury & Total  & 12711 & 2017\\\\\n",
       "\t Canterbury & Male   &  6610 & 2017\\\\\n",
       "\t Canterbury & Female &  6101 & 2017\\\\\n",
       "\\end{tabular}\n"
      ],
      "text/markdown": [
       "\n",
       "A tibble: 3 × 4\n",
       "\n",
       "| DHB &lt;chr&gt; | Sex &lt;chr&gt; | Total &lt;dbl&gt; | Year &lt;chr&gt; |\n",
       "|---|---|---|---|\n",
       "| Canterbury | Total  | 12711 | 2017 |\n",
       "| Canterbury | Male   |  6610 | 2017 |\n",
       "| Canterbury | Female |  6101 | 2017 |\n",
       "\n"
      ],
      "text/plain": [
       "  DHB        Sex    Total Year\n",
       "1 Canterbury Total  12711 2017\n",
       "2 Canterbury Male    6610 2017\n",
       "3 Canterbury Female  6101 2017"
      ]
     },
     "metadata": {},
     "output_type": "display_data"
    },
    {
     "data": {
      "text/html": [
       "<table class=\"dataframe\">\n",
       "<caption>A tibble: 3 × 4</caption>\n",
       "<thead>\n",
       "\t<tr><th scope=col>DHB</th><th scope=col>Sex</th><th scope=col>Total</th><th scope=col>Year</th></tr>\n",
       "\t<tr><th scope=col>&lt;chr&gt;</th><th scope=col>&lt;chr&gt;</th><th scope=col>&lt;dbl&gt;</th><th scope=col>&lt;chr&gt;</th></tr>\n",
       "</thead>\n",
       "<tbody>\n",
       "\t<tr><td>Canterbury</td><td>Total </td><td>12556</td><td>2018</td></tr>\n",
       "\t<tr><td>Canterbury</td><td>Male  </td><td> 6542</td><td>2018</td></tr>\n",
       "\t<tr><td>Canterbury</td><td>Female</td><td> 6014</td><td>2018</td></tr>\n",
       "</tbody>\n",
       "</table>\n"
      ],
      "text/latex": [
       "A tibble: 3 × 4\n",
       "\\begin{tabular}{llll}\n",
       " DHB & Sex & Total & Year\\\\\n",
       " <chr> & <chr> & <dbl> & <chr>\\\\\n",
       "\\hline\n",
       "\t Canterbury & Total  & 12556 & 2018\\\\\n",
       "\t Canterbury & Male   &  6542 & 2018\\\\\n",
       "\t Canterbury & Female &  6014 & 2018\\\\\n",
       "\\end{tabular}\n"
      ],
      "text/markdown": [
       "\n",
       "A tibble: 3 × 4\n",
       "\n",
       "| DHB &lt;chr&gt; | Sex &lt;chr&gt; | Total &lt;dbl&gt; | Year &lt;chr&gt; |\n",
       "|---|---|---|---|\n",
       "| Canterbury | Total  | 12556 | 2018 |\n",
       "| Canterbury | Male   |  6542 | 2018 |\n",
       "| Canterbury | Female |  6014 | 2018 |\n",
       "\n"
      ],
      "text/plain": [
       "  DHB        Sex    Total Year\n",
       "1 Canterbury Total  12556 2018\n",
       "2 Canterbury Male    6542 2018\n",
       "3 Canterbury Female  6014 2018"
      ]
     },
     "metadata": {},
     "output_type": "display_data"
    },
    {
     "data": {
      "text/html": [
       "<table class=\"dataframe\">\n",
       "<caption>A tibble: 3 × 4</caption>\n",
       "<thead>\n",
       "\t<tr><th scope=col>DHB</th><th scope=col>Sex</th><th scope=col>Total</th><th scope=col>Year</th></tr>\n",
       "\t<tr><th scope=col>&lt;chr&gt;</th><th scope=col>&lt;chr&gt;</th><th scope=col>&lt;dbl&gt;</th><th scope=col>&lt;chr&gt;</th></tr>\n",
       "</thead>\n",
       "<tbody>\n",
       "\t<tr><td>Canterbury</td><td>Total </td><td>13152</td><td>2019</td></tr>\n",
       "\t<tr><td>Canterbury</td><td>Male  </td><td> 6887</td><td>2019</td></tr>\n",
       "\t<tr><td>Canterbury</td><td>Female</td><td> 6265</td><td>2019</td></tr>\n",
       "</tbody>\n",
       "</table>\n"
      ],
      "text/latex": [
       "A tibble: 3 × 4\n",
       "\\begin{tabular}{llll}\n",
       " DHB & Sex & Total & Year\\\\\n",
       " <chr> & <chr> & <dbl> & <chr>\\\\\n",
       "\\hline\n",
       "\t Canterbury & Total  & 13152 & 2019\\\\\n",
       "\t Canterbury & Male   &  6887 & 2019\\\\\n",
       "\t Canterbury & Female &  6265 & 2019\\\\\n",
       "\\end{tabular}\n"
      ],
      "text/markdown": [
       "\n",
       "A tibble: 3 × 4\n",
       "\n",
       "| DHB &lt;chr&gt; | Sex &lt;chr&gt; | Total &lt;dbl&gt; | Year &lt;chr&gt; |\n",
       "|---|---|---|---|\n",
       "| Canterbury | Total  | 13152 | 2019 |\n",
       "| Canterbury | Male   |  6887 | 2019 |\n",
       "| Canterbury | Female |  6265 | 2019 |\n",
       "\n"
      ],
      "text/plain": [
       "  DHB        Sex    Total Year\n",
       "1 Canterbury Total  13152 2019\n",
       "2 Canterbury Male    6887 2019\n",
       "3 Canterbury Female  6265 2019"
      ]
     },
     "metadata": {},
     "output_type": "display_data"
    },
    {
     "data": {
      "text/html": [
       "<table class=\"dataframe\">\n",
       "<caption>A tibble: 3 × 4</caption>\n",
       "<thead>\n",
       "\t<tr><th scope=col>DHB</th><th scope=col>Sex</th><th scope=col>Total</th><th scope=col>Year</th></tr>\n",
       "\t<tr><th scope=col>&lt;chr&gt;</th><th scope=col>&lt;chr&gt;</th><th scope=col>&lt;dbl&gt;</th><th scope=col>&lt;chr&gt;</th></tr>\n",
       "</thead>\n",
       "<tbody>\n",
       "\t<tr><td>Canterbury</td><td>Total </td><td>13130</td><td>2020</td></tr>\n",
       "\t<tr><td>Canterbury</td><td>Male  </td><td> 6749</td><td>2020</td></tr>\n",
       "\t<tr><td>Canterbury</td><td>Female</td><td> 6381</td><td>2020</td></tr>\n",
       "</tbody>\n",
       "</table>\n"
      ],
      "text/latex": [
       "A tibble: 3 × 4\n",
       "\\begin{tabular}{llll}\n",
       " DHB & Sex & Total & Year\\\\\n",
       " <chr> & <chr> & <dbl> & <chr>\\\\\n",
       "\\hline\n",
       "\t Canterbury & Total  & 13130 & 2020\\\\\n",
       "\t Canterbury & Male   &  6749 & 2020\\\\\n",
       "\t Canterbury & Female &  6381 & 2020\\\\\n",
       "\\end{tabular}\n"
      ],
      "text/markdown": [
       "\n",
       "A tibble: 3 × 4\n",
       "\n",
       "| DHB &lt;chr&gt; | Sex &lt;chr&gt; | Total &lt;dbl&gt; | Year &lt;chr&gt; |\n",
       "|---|---|---|---|\n",
       "| Canterbury | Total  | 13130 | 2020 |\n",
       "| Canterbury | Male   |  6749 | 2020 |\n",
       "| Canterbury | Female |  6381 | 2020 |\n",
       "\n"
      ],
      "text/plain": [
       "  DHB        Sex    Total Year\n",
       "1 Canterbury Total  13130 2020\n",
       "2 Canterbury Male    6749 2020\n",
       "3 Canterbury Female  6381 2020"
      ]
     },
     "metadata": {},
     "output_type": "display_data"
    }
   ],
   "source": [
    "mh_df_0405\n",
    "mh_df_0506\n",
    "mh_df_0607\n",
    "mh_df_0708\n",
    "mh_df_0910 # odd one\n",
    "mh_df_1011\n",
    "mh_df_1112\n",
    "mh_df_1213\n",
    "mh_df_1314\n",
    "mh_df_1415\n",
    "mh_df_1516\n",
    "mh_df_1617\n",
    "mh_df_1718\n",
    "mh_df_1819\n",
    "mh_df_1920"
   ]
  },
  {
   "cell_type": "code",
   "execution_count": 315,
   "id": "1e8e0147-6dce-42f0-8b28-372c663ce345",
   "metadata": {
    "tags": []
   },
   "outputs": [
    {
     "data": {
      "text/html": [
       "<table class=\"dataframe\">\n",
       "<caption>A tibble: 6 × 4</caption>\n",
       "<thead>\n",
       "\t<tr><th scope=col>DHB</th><th scope=col>Sex</th><th scope=col>Total</th><th scope=col>Year</th></tr>\n",
       "\t<tr><th scope=col>&lt;chr&gt;</th><th scope=col>&lt;chr&gt;</th><th scope=col>&lt;dbl&gt;</th><th scope=col>&lt;chr&gt;</th></tr>\n",
       "</thead>\n",
       "<tbody>\n",
       "\t<tr><td>Canterbury</td><td>Total </td><td>10088</td><td>2005</td></tr>\n",
       "\t<tr><td>Canterbury</td><td>Male  </td><td> 5199</td><td>2005</td></tr>\n",
       "\t<tr><td>Canterbury</td><td>Female</td><td> 4889</td><td>2005</td></tr>\n",
       "\t<tr><td>Canterbury</td><td>Total </td><td>10071</td><td>2006</td></tr>\n",
       "\t<tr><td>Canterbury</td><td>Male  </td><td> 5192</td><td>2006</td></tr>\n",
       "\t<tr><td>Canterbury</td><td>Female</td><td> 4879</td><td>2006</td></tr>\n",
       "</tbody>\n",
       "</table>\n"
      ],
      "text/latex": [
       "A tibble: 6 × 4\n",
       "\\begin{tabular}{llll}\n",
       " DHB & Sex & Total & Year\\\\\n",
       " <chr> & <chr> & <dbl> & <chr>\\\\\n",
       "\\hline\n",
       "\t Canterbury & Total  & 10088 & 2005\\\\\n",
       "\t Canterbury & Male   &  5199 & 2005\\\\\n",
       "\t Canterbury & Female &  4889 & 2005\\\\\n",
       "\t Canterbury & Total  & 10071 & 2006\\\\\n",
       "\t Canterbury & Male   &  5192 & 2006\\\\\n",
       "\t Canterbury & Female &  4879 & 2006\\\\\n",
       "\\end{tabular}\n"
      ],
      "text/markdown": [
       "\n",
       "A tibble: 6 × 4\n",
       "\n",
       "| DHB &lt;chr&gt; | Sex &lt;chr&gt; | Total &lt;dbl&gt; | Year &lt;chr&gt; |\n",
       "|---|---|---|---|\n",
       "| Canterbury | Total  | 10088 | 2005 |\n",
       "| Canterbury | Male   |  5199 | 2005 |\n",
       "| Canterbury | Female |  4889 | 2005 |\n",
       "| Canterbury | Total  | 10071 | 2006 |\n",
       "| Canterbury | Male   |  5192 | 2006 |\n",
       "| Canterbury | Female |  4879 | 2006 |\n",
       "\n"
      ],
      "text/plain": [
       "  DHB        Sex    Total Year\n",
       "1 Canterbury Total  10088 2005\n",
       "2 Canterbury Male    5199 2005\n",
       "3 Canterbury Female  4889 2005\n",
       "4 Canterbury Total  10071 2006\n",
       "5 Canterbury Male    5192 2006\n",
       "6 Canterbury Female  4879 2006"
      ]
     },
     "metadata": {},
     "output_type": "display_data"
    }
   ],
   "source": [
    "# Bind the tables into one dataframe (except 2010 because it does not have information on breakdown numbers by sex)\n",
    "mh_df <- mh_df_0405 %>% \n",
    "        rbind(mh_df_0506) %>%\n",
    "        rbind(mh_df_0607) %>% \n",
    "        rbind(mh_df_0708) %>%\n",
    "        rbind(mh_df_1011) %>%\n",
    "        rbind(mh_df_1112) %>% \n",
    "        rbind(mh_df_1213) %>%\n",
    "        rbind(mh_df_1314) %>%\n",
    "        rbind(mh_df_1415) %>% \n",
    "        rbind(mh_df_1516) %>%\n",
    "        rbind(mh_df_1617) %>%\n",
    "        rbind(mh_df_1718) %>% \n",
    "        rbind(mh_df_1819) %>%\n",
    "        rbind(mh_df_1920)\n",
    "mh_df %>% head()"
   ]
  },
  {
   "cell_type": "code",
   "execution_count": null,
   "id": "d54548c8-9a85-47a1-be6c-146bff710664",
   "metadata": {},
   "outputs": [],
   "source": []
  }
 ],
 "metadata": {
  "kernelspec": {
   "display_name": "R",
   "language": "R",
   "name": "ir"
  },
  "language_info": {
   "codemirror_mode": "r",
   "file_extension": ".r",
   "mimetype": "text/x-r-source",
   "name": "R",
   "pygments_lexer": "r",
   "version": "4.1.0"
  }
 },
 "nbformat": 4,
 "nbformat_minor": 5
}
