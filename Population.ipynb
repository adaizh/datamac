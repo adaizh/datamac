{
 "cells": [
  {
   "cell_type": "markdown",
   "id": "35e8c463-776d-49f1-af16-9d3405b6b350",
   "metadata": {},
   "source": [
    "###  population"
   ]
  },
  {
   "cell_type": "code",
   "execution_count": 1,
   "id": "fceca0fc-adfb-413b-8f2d-25df0bdbca01",
   "metadata": {},
   "outputs": [
    {
     "name": "stderr",
     "output_type": "stream",
     "text": [
      "Warning message in system(\"timedatectl\", intern = TRUE):\n",
      "“running command 'timedatectl' had status 1”\n",
      "── \u001b[1mAttaching packages\u001b[22m ─────────────────────────────────────────────────────────────────────────────── tidyverse 1.3.1 ──\n",
      "\n",
      "\u001b[32m✔\u001b[39m \u001b[34mggplot2\u001b[39m 3.3.5     \u001b[32m✔\u001b[39m \u001b[34mpurrr  \u001b[39m 0.3.4\n",
      "\u001b[32m✔\u001b[39m \u001b[34mtibble \u001b[39m 3.1.5     \u001b[32m✔\u001b[39m \u001b[34mdplyr  \u001b[39m 1.0.7\n",
      "\u001b[32m✔\u001b[39m \u001b[34mtidyr  \u001b[39m 1.1.3     \u001b[32m✔\u001b[39m \u001b[34mstringr\u001b[39m 1.4.0\n",
      "\u001b[32m✔\u001b[39m \u001b[34mreadr  \u001b[39m 2.0.0     \u001b[32m✔\u001b[39m \u001b[34mforcats\u001b[39m 0.5.1\n",
      "\n",
      "── \u001b[1mConflicts\u001b[22m ────────────────────────────────────────────────────────────────────────────────── tidyverse_conflicts() ──\n",
      "\u001b[31m✖\u001b[39m \u001b[34mdplyr\u001b[39m::\u001b[32mfilter()\u001b[39m masks \u001b[34mstats\u001b[39m::filter()\n",
      "\u001b[31m✖\u001b[39m \u001b[34mdplyr\u001b[39m::\u001b[32mlag()\u001b[39m    masks \u001b[34mstats\u001b[39m::lag()\n",
      "\n",
      "Installing package into ‘/home/sekiro/R/x86_64-pc-linux-gnu-library/3.6’\n",
      "(as ‘lib’ is unspecified)\n",
      "\n",
      "\n",
      "Attaching package: ‘naniar’\n",
      "\n",
      "\n",
      "The following object is masked from ‘package:skimr’:\n",
      "\n",
      "    n_complete\n",
      "\n",
      "\n"
     ]
    }
   ],
   "source": [
    "#loading all library\n",
    "library(tidyverse)\n",
    "library(readr)\n",
    "library(knitr)\n",
    "library(skimr)\n",
    "library(tidyr)\n",
    "install.packages('naniar')\n",
    "library(naniar)\n"
   ]
  },
  {
   "cell_type": "markdown",
   "id": "504aa5cd-8734-4581-bd3f-03d9f54bea6f",
   "metadata": {},
   "source": [
    "###  population clean up"
   ]
  },
  {
   "cell_type": "code",
   "execution_count": 3,
   "id": "11e62e35-8127-4d3d-ab83-62b51ac48ba6",
   "metadata": {},
   "outputs": [],
   "source": [
    "population <- read.csv(file=\"population/population1.csv\", skip = 1)\n",
    "population <- population %>% slice(4, 8, 12, 16, 20, 24, 28, 32, 36, 40, 44, 48, 52, 56, 60, 64)\n",
    "#write.csv(population, file = \"population_1.csv\") "
   ]
  },
  {
   "cell_type": "markdown",
   "id": "92b3341f-154c-48da-b4cb-f8e10731248d",
   "metadata": {},
   "source": [
    "### change_rate clean up"
   ]
  },
  {
   "cell_type": "code",
   "execution_count": 16,
   "id": "88c2498b-9357-4ac9-9c0f-84719cf55836",
   "metadata": {},
   "outputs": [],
   "source": [
    "#change_rate clean up\n",
    "change_rate <- read.csv(file=\"population/change rate.csv\", skip = 1)\n",
    "change_rate <- change_rate %>% rename(year = X, Population_change = Population.change)\n",
    "change_rate <- change_rate %>% slice(1:16)\n",
    "#save as csv\n",
    "#write.csv(change_rate, file = \"change_rate_1.csv\")"
   ]
  },
  {
   "cell_type": "markdown",
   "id": "c02a26d6-08b3-490d-a607-0aec8fe99a5f",
   "metadata": {},
   "source": [
    "### migrant clean up"
   ]
  },
  {
   "cell_type": "code",
   "execution_count": 6,
   "id": "e34a19a4-be98-454b-ade7-b95464f2539e",
   "metadata": {},
   "outputs": [],
   "source": [
    "migrant <- read.csv(file=\"population/migrant1.csv\", skip = 5)\n",
    "migrant <- migrant[,-7]\n",
    "migrant <- read.csv(file=\"population/migrant1.csv\", skip = 5)\n",
    "migrant <- migrant[,-7]\n",
    "migrant <- migrant %>% rename(year = X., Residence_Permanent_Residence = Estimate,\n",
    "                             Student_Permanent_Residence= Estimate.1,\n",
    "                             Visitor_Permanent_Residence = Estimate.2,\n",
    "                             Work_Permanent_Residence = Estimate.3,\n",
    "                             New_Zealand_and_Australian_citizens = Estimate.4,\n",
    "                             TOTAL = Estimate.6)\n",
    "migrant <- migrant %>% slice(1:16)\n",
    "#write.csv(migrant, file = \"migrant_1.csv\")"
   ]
  },
  {
   "cell_type": "markdown",
   "id": "87b3e5e6-6576-469f-81f6-968a78d6d361",
   "metadata": {},
   "source": [
    "### population combine change_rate"
   ]
  },
  {
   "cell_type": "code",
   "execution_count": 7,
   "id": "aa49d0c6-18c7-4c17-b31d-b79593e48bfa",
   "metadata": {},
   "outputs": [
    {
     "ename": "ERROR",
     "evalue": "Error in as.data.frame(y): object 'change_rate' not found\n",
     "output_type": "error",
     "traceback": [
      "Error in as.data.frame(y): object 'change_rate' not found\nTraceback:\n",
      "1. merge(population, change_rate)",
      "2. merge.data.frame(population, change_rate)",
      "3. nrow(y <- as.data.frame(y))",
      "4. as.data.frame(y)"
     ]
    }
   ],
   "source": [
    "population <- population %>% mutate(year = c(2005,2006,2007,2008,2009,2010,2011,2012,2013,2014,2015,2016, 2017,2018,2019,2020))\n",
    "population_change_rate <- merge(population, change_rate)\n",
    "population_change_rate <- population_change_rate %>% rename(total_population = Total)\n",
    "#write.csv(population_change_rate, file = \"population_change_rate.csv\") "
   ]
  },
  {
   "cell_type": "markdown",
   "id": "d5743dbb-7823-4f8a-a6e6-68b85e197a89",
   "metadata": {},
   "source": [
    "### region_population clean up"
   ]
  },
  {
   "cell_type": "code",
   "execution_count": 20,
   "id": "6cf1d084-0d55-41c3-9d7a-50fd06d3f066",
   "metadata": {},
   "outputs": [
    {
     "name": "stderr",
     "output_type": "stream",
     "text": [
      "`summarise()` has grouped output by 'year'. You can override using the `.groups` argument.\n",
      "\n"
     ]
    }
   ],
   "source": [
    "region_population <- read.csv(file=\"population/region population.csv\", skip = 1)\n",
    "region_population <- region_population %>% rename(year = X)\n",
    "region_population <- region_population %>% slice(1:16)\n",
    "#select the city we want to Performance\n",
    "region_population2 <- region_population %>% select(year, Northland.Region, Auckland.Region, Wellington.Region, Canterbury.Region) %>%\n",
    "rename(Northland = Northland.Region, Auckland = Auckland.Region, Wellington = Wellington.Region, Canterbury = Canterbury.Region)\n",
    "region_population3 <- gather(region_population2, city, Total.Pop, Northland:Canterbury)%>%\n",
    "                        mutate(Pop.change = if_else(city == lag(city), Total.Pop - lag(Total.Pop), Total.Pop-Total.Pop),\n",
    "                              Pop.change = na_if(Pop.change, 0),\n",
    "                              city = if_else(grepl(\"Northland\",city), 'Auckland', city)) %>%\n",
    "                        group_by(year, city) %>% summarise(Total.Pop = sum(Total.Pop), Pop.change = sum(Pop.change))\n",
    "write.csv(region_population3, \"FINAL_population_by_city.csv\") # Save csv file for each city by year              "
   ]
  },
  {
   "cell_type": "code",
   "execution_count": 21,
   "id": "a1747125-7cc6-4067-814d-8f537db231a1",
   "metadata": {},
   "outputs": [
    {
     "name": "stderr",
     "output_type": "stream",
     "text": [
      "`summarise()` has grouped output by 'year'. You can override using the `.groups` argument.\n",
      "\n"
     ]
    }
   ],
   "source": [
    "# select the city we want and rename column\n",
    "region_population2 <- region_population %>% select(year, Northland.Region, Auckland.Region, Wellington.Region, Canterbury.Region) %>%\n",
    "rename(Northland = Northland.Region, Auckland = Auckland.Region, Wellington = Wellington.Region, Canterbury = Canterbury.Region)\n",
    "\n",
    "#Calculate the amount of population change per year\n",
    "region_population3 <- gather(region_population2, city, Total.Pop, Northland:Canterbury)%>%\n",
    "                        mutate(Pop.change = if_else(city == lag(city), Total.Pop - lag(Total.Pop), Total.Pop-Total.Pop),\n",
    "                              Pop.change = na_if(Pop.change, 0),\n",
    "                              city = if_else(grepl(\"Northland\",city), 'Auckland', city)) %>%\n",
    "                        group_by(year, city) %>% summarise(Total.Pop = sum(Total.Pop), Pop.change = sum(Pop.change))\n",
    "\n",
    "# Save csv file for each city by year  \n",
    "write.csv(region_population3, \"FINAL_population_by_city.csv\")             "
   ]
  },
  {
   "cell_type": "code",
   "execution_count": null,
   "id": "c5dbaee1-619e-499b-9293-20d7c26a9fbf",
   "metadata": {},
   "outputs": [],
   "source": []
  }
 ],
 "metadata": {
  "kernelspec": {
   "display_name": "R",
   "language": "R",
   "name": "ir"
  },
  "language_info": {
   "codemirror_mode": "r",
   "file_extension": ".r",
   "mimetype": "text/x-r-source",
   "name": "R",
   "pygments_lexer": "r",
   "version": "4.1.0"
  }
 },
 "nbformat": 4,
 "nbformat_minor": 5
}
