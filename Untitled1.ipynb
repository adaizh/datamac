{
 "cells": [
  {
   "cell_type": "markdown",
   "id": "5fce3062-382f-4a99-ba33-28d68cb77563",
   "metadata": {},
   "source": [
    "# Joining our Data Sets together\n",
    "### Importing our R package"
   ]
  },
  {
   "cell_type": "code",
   "execution_count": 1,
   "id": "eb268c4e-1e60-4fdc-9e8c-67f0ea181411",
   "metadata": {},
   "outputs": [
    {
     "name": "stdout",
     "output_type": "stream",
     "text": [
      "\n",
      "The downloaded binary packages are in\n",
      "\t/var/folders/fd/ly5mksl541v526fd48sjdfcm0000gn/T//RtmpT1bjPT/downloaded_packages\n"
     ]
    },
    {
     "name": "stderr",
     "output_type": "stream",
     "text": [
      "Downloading GitHub repo chenthih/nzmentalquake@HEAD\n",
      "\n"
     ]
    },
    {
     "name": "stdout",
     "output_type": "stream",
     "text": [
      "\n",
      "\u001b[32m✔\u001b[39m  \u001b[90mchecking for file ‘/private/var/folders/fd/ly5mksl541v526fd48sjdfcm0000gn/T/RtmpT1bjPT/remotes43a518972377/chenthih-nzmentalquake-a1b9536/DESCRIPTION’\u001b[39m\u001b[36m\u001b[36m (373ms)\u001b[36m\u001b[39m\n",
      "\u001b[90m─\u001b[39m\u001b[90m  \u001b[39m\u001b[90mpreparing ‘nzmentalquake’:\u001b[39m\u001b[36m\u001b[39m\n",
      "\u001b[32m✔\u001b[39m  \u001b[90mchecking DESCRIPTION meta-information\u001b[39m\u001b[36m\u001b[39m\n",
      "\u001b[90m─\u001b[39m\u001b[90m  \u001b[39m\u001b[90mchecking for LF line-endings in source and make files and shell scripts\u001b[39m\u001b[36m\u001b[39m\n",
      "\u001b[90m─\u001b[39m\u001b[90m  \u001b[39m\u001b[90mchecking for empty or unneeded directories\u001b[39m\u001b[36m\u001b[39m\n",
      "\u001b[90m─\u001b[39m\u001b[90m  \u001b[39m\u001b[90mbuilding ‘nzmentalquake_0.0.0.9000.tar.gz’\u001b[39m\u001b[36m\u001b[39m\n",
      "   \n",
      "\r"
     ]
    }
   ],
   "source": [
    "install.packages(\"remotes\")\n",
    "remotes::install_github(\"chenthih/nzmentalquake\")"
   ]
  },
  {
   "cell_type": "code",
   "execution_count": null,
   "id": "e9390abf-ec25-4d66-9492-58a0caa6c178",
   "metadata": {},
   "outputs": [],
   "source": []
  },
  {
   "cell_type": "code",
   "execution_count": 2,
   "id": "5158ed3e-c94b-488c-b12c-4fe98c9cb46e",
   "metadata": {},
   "outputs": [
    {
     "data": {
      "text/html": [
       "<table class=\"dataframe\">\n",
       "<caption>A data.frame: 6 × 8</caption>\n",
       "<thead>\n",
       "\t<tr><th></th><th scope=col>X</th><th scope=col>city</th><th scope=col>year</th><th scope=col>origintime</th><th scope=col>longitude</th><th scope=col>latitude</th><th scope=col>magnitude</th><th scope=col>depth</th></tr>\n",
       "\t<tr><th></th><th scope=col>&lt;int&gt;</th><th scope=col>&lt;chr&gt;</th><th scope=col>&lt;int&gt;</th><th scope=col>&lt;chr&gt;</th><th scope=col>&lt;dbl&gt;</th><th scope=col>&lt;dbl&gt;</th><th scope=col>&lt;dbl&gt;</th><th scope=col>&lt;dbl&gt;</th></tr>\n",
       "</thead>\n",
       "<tbody>\n",
       "\t<tr><th scope=row>1</th><td>1</td><td>Canterbury</td><td>2010</td><td>2010-12-26 11:10:49</td><td>172.6320</td><td>-43.53476</td><td>4.00</td><td> 5.0551</td></tr>\n",
       "\t<tr><th scope=row>2</th><td>2</td><td>Canterbury</td><td>2010</td><td>2010-12-25 21:30:15</td><td>172.6320</td><td>-43.54797</td><td>4.70</td><td> 5.0293</td></tr>\n",
       "\t<tr><th scope=row>3</th><td>3</td><td>Canterbury</td><td>2010</td><td>2010-12-25 13:32:09</td><td>172.6393</td><td>-43.53347</td><td>4.56</td><td> 6.6561</td></tr>\n",
       "\t<tr><th scope=row>4</th><td>4</td><td>Canterbury</td><td>2010</td><td>2010-11-14 06:21:05</td><td>172.4153</td><td>-43.58379</td><td>4.40</td><td>10.7049</td></tr>\n",
       "\t<tr><th scope=row>5</th><td>5</td><td>Canterbury</td><td>2010</td><td>2010-11-13 12:34:06</td><td>172.4154</td><td>-43.58049</td><td>4.40</td><td>10.3896</td></tr>\n",
       "\t<tr><th scope=row>6</th><td>6</td><td>Canterbury</td><td>2010</td><td>2010-11-06 13:52:03</td><td>172.0647</td><td>-43.20951</td><td>4.60</td><td> 8.2620</td></tr>\n",
       "</tbody>\n",
       "</table>\n"
      ],
      "text/latex": [
       "A data.frame: 6 × 8\n",
       "\\begin{tabular}{r|llllllll}\n",
       "  & X & city & year & origintime & longitude & latitude & magnitude & depth\\\\\n",
       "  & <int> & <chr> & <int> & <chr> & <dbl> & <dbl> & <dbl> & <dbl>\\\\\n",
       "\\hline\n",
       "\t1 & 1 & Canterbury & 2010 & 2010-12-26 11:10:49 & 172.6320 & -43.53476 & 4.00 &  5.0551\\\\\n",
       "\t2 & 2 & Canterbury & 2010 & 2010-12-25 21:30:15 & 172.6320 & -43.54797 & 4.70 &  5.0293\\\\\n",
       "\t3 & 3 & Canterbury & 2010 & 2010-12-25 13:32:09 & 172.6393 & -43.53347 & 4.56 &  6.6561\\\\\n",
       "\t4 & 4 & Canterbury & 2010 & 2010-11-14 06:21:05 & 172.4153 & -43.58379 & 4.40 & 10.7049\\\\\n",
       "\t5 & 5 & Canterbury & 2010 & 2010-11-13 12:34:06 & 172.4154 & -43.58049 & 4.40 & 10.3896\\\\\n",
       "\t6 & 6 & Canterbury & 2010 & 2010-11-06 13:52:03 & 172.0647 & -43.20951 & 4.60 &  8.2620\\\\\n",
       "\\end{tabular}\n"
      ],
      "text/markdown": [
       "\n",
       "A data.frame: 6 × 8\n",
       "\n",
       "| <!--/--> | X &lt;int&gt; | city &lt;chr&gt; | year &lt;int&gt; | origintime &lt;chr&gt; | longitude &lt;dbl&gt; | latitude &lt;dbl&gt; | magnitude &lt;dbl&gt; | depth &lt;dbl&gt; |\n",
       "|---|---|---|---|---|---|---|---|---|\n",
       "| 1 | 1 | Canterbury | 2010 | 2010-12-26 11:10:49 | 172.6320 | -43.53476 | 4.00 |  5.0551 |\n",
       "| 2 | 2 | Canterbury | 2010 | 2010-12-25 21:30:15 | 172.6320 | -43.54797 | 4.70 |  5.0293 |\n",
       "| 3 | 3 | Canterbury | 2010 | 2010-12-25 13:32:09 | 172.6393 | -43.53347 | 4.56 |  6.6561 |\n",
       "| 4 | 4 | Canterbury | 2010 | 2010-11-14 06:21:05 | 172.4153 | -43.58379 | 4.40 | 10.7049 |\n",
       "| 5 | 5 | Canterbury | 2010 | 2010-11-13 12:34:06 | 172.4154 | -43.58049 | 4.40 | 10.3896 |\n",
       "| 6 | 6 | Canterbury | 2010 | 2010-11-06 13:52:03 | 172.0647 | -43.20951 | 4.60 |  8.2620 |\n",
       "\n"
      ],
      "text/plain": [
       "  X city       year origintime          longitude latitude  magnitude depth  \n",
       "1 1 Canterbury 2010 2010-12-26 11:10:49 172.6320  -43.53476 4.00       5.0551\n",
       "2 2 Canterbury 2010 2010-12-25 21:30:15 172.6320  -43.54797 4.70       5.0293\n",
       "3 3 Canterbury 2010 2010-12-25 13:32:09 172.6393  -43.53347 4.56       6.6561\n",
       "4 4 Canterbury 2010 2010-11-14 06:21:05 172.4153  -43.58379 4.40      10.7049\n",
       "5 5 Canterbury 2010 2010-11-13 12:34:06 172.4154  -43.58049 4.40      10.3896\n",
       "6 6 Canterbury 2010 2010-11-06 13:52:03 172.0647  -43.20951 4.60       8.2620"
      ]
     },
     "metadata": {},
     "output_type": "display_data"
    }
   ],
   "source": [
    "head(nzmentalquake::earthquake_dataset)"
   ]
  },
  {
   "cell_type": "code",
   "execution_count": null,
   "id": "b86cd06f-1296-4fcc-88a9-eb72453f58a6",
   "metadata": {},
   "outputs": [],
   "source": []
  }
 ],
 "metadata": {
  "kernelspec": {
   "display_name": "R",
   "language": "R",
   "name": "ir"
  },
  "language_info": {
   "codemirror_mode": "r",
   "file_extension": ".r",
   "mimetype": "text/x-r-source",
   "name": "R",
   "pygments_lexer": "r",
   "version": "4.1.0"
  }
 },
 "nbformat": 4,
 "nbformat_minor": 5
}
