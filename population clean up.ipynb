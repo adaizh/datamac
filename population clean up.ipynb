{
 "cells": [
  {
   "cell_type": "markdown",
   "id": "35e8c463-776d-49f1-af16-9d3405b6b350",
   "metadata": {},
   "source": [
    "###  population"
   ]
  },
  {
   "cell_type": "code",
   "execution_count": 24,
   "id": "fceca0fc-adfb-413b-8f2d-25df0bdbca01",
   "metadata": {},
   "outputs": [],
   "source": [
    "#loading all library\n",
    "library(tidyverse)\n",
    "library(readr)\n",
    "library(knitr)\n",
    "library(skimr)"
   ]
  },
  {
   "cell_type": "code",
   "execution_count": 25,
   "id": "02234216-f184-414d-8907-51ff105c79c2",
   "metadata": {},
   "outputs": [
    {
     "ename": "ERROR",
     "evalue": "Error in read.table(file = file, header = header, sep = sep, quote = quote, : unused argument (show_col_types = FALSE)\n",
     "output_type": "error",
     "traceback": [
      "Error in read.table(file = file, header = header, sep = sep, quote = quote, : unused argument (show_col_types = FALSE)\nTraceback:\n",
      "1. read.csv(file = \"change rate.csv\", show_col_types = FALSE)"
     ]
    }
   ],
   "source": [
    "change_rate <- read.csv(file=\"change rate.csv\", show_col_types = FALSE)\n",
    "#population <- read.csv(file=\"population1.csv\", show_col_types = FALSE)\n",
    "migrant <- read.csv(file=\"migrant1.csv\", show_col_types = FALSE)"
   ]
  },
  {
   "cell_type": "code",
   "execution_count": null,
   "id": "b9236dfd-5cb0-4173-b320-fbe543fed408",
   "metadata": {},
   "outputs": [],
   "source": []
  },
  {
   "cell_type": "code",
   "execution_count": 22,
   "id": "11e62e35-8127-4d3d-ab83-62b51ac48ba6",
   "metadata": {},
   "outputs": [],
   "source": [
    "#population clean up\n",
    "population <- read.csv(file=\"population1.csv\", skip = 1)\n",
    "population <- population %>% slice(4, 8, 12, 16, 20, 24, 28, 32, 36, 40, 44, 48, 52, 56, 60, 64)\n",
    "write.csv(population, file = \"population_1.csv\") "
   ]
  },
  {
   "cell_type": "code",
   "execution_count": 23,
   "id": "88c2498b-9357-4ac9-9c0f-84719cf55836",
   "metadata": {},
   "outputs": [
    {
     "name": "stderr",
     "output_type": "stream",
     "text": [
      "Warning message in file(file, \"rt\"):\n",
      "“cannot open file 'change rate.csv': No such file or directory”\n"
     ]
    },
    {
     "ename": "ERROR",
     "evalue": "Error in file(file, \"rt\"): cannot open the connection\n",
     "output_type": "error",
     "traceback": [
      "Error in file(file, \"rt\"): cannot open the connection\nTraceback:\n",
      "1. read.csv(file = \"change rate.csv\", skip = 1)",
      "2. read.table(file = file, header = header, sep = sep, quote = quote, \n .     dec = dec, fill = fill, comment.char = comment.char, ...)",
      "3. file(file, \"rt\")"
     ]
    }
   ],
   "source": [
    "#change_rate clean up\n",
    "change_rate <- read.csv(file=\"change rate.csv\", skip = 1)\n",
    "change_rate <- change_rate %>% rename(year = X, Population_change = Population.change)\n",
    "change_rate <- change_rate %>% slice(1:16)\n",
    "change_rate\n",
    "write.csv(change_rate, file = \"change_rate_1.csv\")"
   ]
  },
  {
   "cell_type": "code",
   "execution_count": 5,
   "id": "611f5139-c125-4048-bbaa-c0fb1dea76ce",
   "metadata": {},
   "outputs": [
    {
     "data": {
      "text/html": [
       "<table class=\"dataframe\">\n",
       "<caption>A data.frame: 42 × 7</caption>\n",
       "<thead>\n",
       "\t<tr><th scope=col>X.</th><th scope=col>Estimate</th><th scope=col>Estimate.1</th><th scope=col>Estimate.2</th><th scope=col>Estimate.3</th><th scope=col>Estimate.4</th><th scope=col>Estimate.6</th></tr>\n",
       "\t<tr><th scope=col>&lt;chr&gt;</th><th scope=col>&lt;int&gt;</th><th scope=col>&lt;int&gt;</th><th scope=col>&lt;int&gt;</th><th scope=col>&lt;int&gt;</th><th scope=col>&lt;int&gt;</th><th scope=col>&lt;int&gt;</th></tr>\n",
       "</thead>\n",
       "<tbody>\n",
       "\t<tr><td>2005                                                                                                                                                           </td><td>18457</td><td> 8058</td><td>28609</td><td>11221</td><td>36478</td><td>103982</td></tr>\n",
       "\t<tr><td>2006                                                                                                                                                           </td><td>19367</td><td> 9534</td><td>30498</td><td>13882</td><td>36177</td><td>110687</td></tr>\n",
       "\t<tr><td>2007                                                                                                                                                           </td><td>16758</td><td>12563</td><td>32118</td><td>15900</td><td>34982</td><td>113450</td></tr>\n",
       "\t<tr><td>2008                                                                                                                                                           </td><td>15965</td><td>16214</td><td>33620</td><td>17451</td><td>35237</td><td>119994</td></tr>\n",
       "\t<tr><td>2009                                                                                                                                                           </td><td>14818</td><td>16114</td><td>23731</td><td>14731</td><td>37349</td><td>108265</td></tr>\n",
       "\t<tr><td>2010                                                                                                                                                           </td><td>13535</td><td>17015</td><td>19840</td><td>13406</td><td>35613</td><td>100499</td></tr>\n",
       "\t<tr><td>2011                                                                                                                                                           </td><td>13784</td><td>16774</td><td>19689</td><td>15603</td><td>33261</td><td>100206</td></tr>\n",
       "\t<tr><td>2012                                                                                                                                                           </td><td>13852</td><td>16145</td><td>18092</td><td>17705</td><td>34685</td><td>101762</td></tr>\n",
       "\t<tr><td>2013                                                                                                                                                           </td><td>13508</td><td>16444</td><td>18102</td><td>20317</td><td>40520</td><td>110282</td></tr>\n",
       "\t<tr><td>2014                                                                                                                                                           </td><td>14511</td><td>25323</td><td>21269</td><td>22026</td><td>43572</td><td>128180</td></tr>\n",
       "\t<tr><td>2015                                                                                                                                                           </td><td>14982</td><td>30062</td><td>23545</td><td>24926</td><td>45165</td><td>140125</td></tr>\n",
       "\t<tr><td>2016                                                                                                                                                           </td><td>17161</td><td>25866</td><td>26814</td><td>26111</td><td>45996</td><td>143124</td></tr>\n",
       "\t<tr><td>2017                                                                                                                                                           </td><td>15601</td><td>25210</td><td>25516</td><td>29183</td><td>43513</td><td>140102</td></tr>\n",
       "\t<tr><td>2018                                                                                                                                                           </td><td>13268</td><td>24664</td><td>26843</td><td>31866</td><td>41344</td><td>139016</td></tr>\n",
       "\t<tr><td>2019                                                                                                                                                           </td><td>14499</td><td>26744</td><td>32992</td><td>39742</td><td>48461</td><td>165742</td></tr>\n",
       "\t<tr><td>2020                                                                                                                                                           </td><td> 7490</td><td>10565</td><td>16199</td><td>12968</td><td>37887</td><td> 88768</td></tr>\n",
       "\t<tr><td>Table information:                                                                                                                                             </td><td>   NA</td><td>   NA</td><td>   NA</td><td>   NA</td><td>   NA</td><td>    NA</td></tr>\n",
       "\t<tr><td>Units:                                                                                                                                                         </td><td>   NA</td><td>   NA</td><td>   NA</td><td>   NA</td><td>   NA</td><td>    NA</td></tr>\n",
       "\t<tr><td>Number, Magnitude = Units                                                                                                                                      </td><td>   NA</td><td>   NA</td><td>   NA</td><td>   NA</td><td>   NA</td><td>    NA</td></tr>\n",
       "\t<tr><td>Footnotes:                                                                                                                                                     </td><td>   NA</td><td>   NA</td><td>   NA</td><td>   NA</td><td>   NA</td><td>    NA</td></tr>\n",
       "\t<tr><td>The standard error indicates the uncertainty of the provisional migration estimate. For example, the 95 percent confidence interval is +/-1.96 standard errors.</td><td>   NA</td><td>   NA</td><td>   NA</td><td>   NA</td><td>   NA</td><td>    NA</td></tr>\n",
       "\t<tr><td>These intervals reflect the model uncertainty, not the extent of future revisions to provisional data. Standard errors are non-additive.                       </td><td>   NA</td><td>   NA</td><td>   NA</td><td>   NA</td><td>   NA</td><td>    NA</td></tr>\n",
       "\t<tr><td>Owing to rounding, individual figures may not sum to stated totals.                                                                                            </td><td>   NA</td><td>   NA</td><td>   NA</td><td>   NA</td><td>   NA</td><td>    NA</td></tr>\n",
       "\t<tr><td>Visa type is available from July 2003                                                                                                                          </td><td>   NA</td><td>   NA</td><td>   NA</td><td>   NA</td><td>   NA</td><td>    NA</td></tr>\n",
       "\t<tr><td>The immigration visa type is that held or granted on arrival in New Zealand. People may change their visa type while still in New Zealand.                     </td><td>   NA</td><td>   NA</td><td>   NA</td><td>   NA</td><td>   NA</td><td>    NA</td></tr>\n",
       "\t<tr><td>                                                                                                                                                               </td><td>   NA</td><td>   NA</td><td>   NA</td><td>   NA</td><td>   NA</td><td>    NA</td></tr>\n",
       "\t<tr><td>Symbols:                                                                                                                                                       </td><td>   NA</td><td>   NA</td><td>   NA</td><td>   NA</td><td>   NA</td><td>    NA</td></tr>\n",
       "\t<tr><td>.. figure not available                                                                                                                                        </td><td>   NA</td><td>   NA</td><td>   NA</td><td>   NA</td><td>   NA</td><td>    NA</td></tr>\n",
       "\t<tr><td>C: Confidential                                                                                                                                                </td><td>   NA</td><td>   NA</td><td>   NA</td><td>   NA</td><td>   NA</td><td>    NA</td></tr>\n",
       "\t<tr><td>E: Early Estimate                                                                                                                                              </td><td>   NA</td><td>   NA</td><td>   NA</td><td>   NA</td><td>   NA</td><td>    NA</td></tr>\n",
       "\t<tr><td>P: Provisional                                                                                                                                                 </td><td>   NA</td><td>   NA</td><td>   NA</td><td>   NA</td><td>   NA</td><td>    NA</td></tr>\n",
       "\t<tr><td>R: Revised                                                                                                                                                     </td><td>   NA</td><td>   NA</td><td>   NA</td><td>   NA</td><td>   NA</td><td>    NA</td></tr>\n",
       "\t<tr><td>S: Suppressed                                                                                                                                                  </td><td>   NA</td><td>   NA</td><td>   NA</td><td>   NA</td><td>   NA</td><td>    NA</td></tr>\n",
       "\t<tr><td>Status flags are not displayed                                                                                                                                 </td><td>   NA</td><td>   NA</td><td>   NA</td><td>   NA</td><td>   NA</td><td>    NA</td></tr>\n",
       "\t<tr><td>Table reference:                                                                                                                                               </td><td>   NA</td><td>   NA</td><td>   NA</td><td>   NA</td><td>   NA</td><td>    NA</td></tr>\n",
       "\t<tr><td>ITM492AA                                                                                                                                                       </td><td>   NA</td><td>   NA</td><td>   NA</td><td>   NA</td><td>   NA</td><td>    NA</td></tr>\n",
       "\t<tr><td>Last updated:                                                                                                                                                  </td><td>   NA</td><td>   NA</td><td>   NA</td><td>   NA</td><td>   NA</td><td>    NA</td></tr>\n",
       "\t<tr><td>10 September 2021 10:45am                                                                                                                                      </td><td>   NA</td><td>   NA</td><td>   NA</td><td>   NA</td><td>   NA</td><td>    NA</td></tr>\n",
       "\t<tr><td>Source: Statistics New Zealand                                                                                                                                 </td><td>   NA</td><td>   NA</td><td>   NA</td><td>   NA</td><td>   NA</td><td>    NA</td></tr>\n",
       "\t<tr><td>Contact: Information Centre                                                                                                                                    </td><td>   NA</td><td>   NA</td><td>   NA</td><td>   NA</td><td>   NA</td><td>    NA</td></tr>\n",
       "\t<tr><td>Telephone: 0508 525 525                                                                                                                                        </td><td>   NA</td><td>   NA</td><td>   NA</td><td>   NA</td><td>   NA</td><td>    NA</td></tr>\n",
       "\t<tr><td>Email:info@stats.govt.nz                                                                                                                                       </td><td>   NA</td><td>   NA</td><td>   NA</td><td>   NA</td><td>   NA</td><td>    NA</td></tr>\n",
       "</tbody>\n",
       "</table>\n"
      ],
      "text/latex": [
       "A data.frame: 42 × 7\n",
       "\\begin{tabular}{lllllll}\n",
       " X. & Estimate & Estimate.1 & Estimate.2 & Estimate.3 & Estimate.4 & Estimate.6\\\\\n",
       " <chr> & <int> & <int> & <int> & <int> & <int> & <int>\\\\\n",
       "\\hline\n",
       "\t 2005                                                                                                                                                            & 18457 &  8058 & 28609 & 11221 & 36478 & 103982\\\\\n",
       "\t 2006                                                                                                                                                            & 19367 &  9534 & 30498 & 13882 & 36177 & 110687\\\\\n",
       "\t 2007                                                                                                                                                            & 16758 & 12563 & 32118 & 15900 & 34982 & 113450\\\\\n",
       "\t 2008                                                                                                                                                            & 15965 & 16214 & 33620 & 17451 & 35237 & 119994\\\\\n",
       "\t 2009                                                                                                                                                            & 14818 & 16114 & 23731 & 14731 & 37349 & 108265\\\\\n",
       "\t 2010                                                                                                                                                            & 13535 & 17015 & 19840 & 13406 & 35613 & 100499\\\\\n",
       "\t 2011                                                                                                                                                            & 13784 & 16774 & 19689 & 15603 & 33261 & 100206\\\\\n",
       "\t 2012                                                                                                                                                            & 13852 & 16145 & 18092 & 17705 & 34685 & 101762\\\\\n",
       "\t 2013                                                                                                                                                            & 13508 & 16444 & 18102 & 20317 & 40520 & 110282\\\\\n",
       "\t 2014                                                                                                                                                            & 14511 & 25323 & 21269 & 22026 & 43572 & 128180\\\\\n",
       "\t 2015                                                                                                                                                            & 14982 & 30062 & 23545 & 24926 & 45165 & 140125\\\\\n",
       "\t 2016                                                                                                                                                            & 17161 & 25866 & 26814 & 26111 & 45996 & 143124\\\\\n",
       "\t 2017                                                                                                                                                            & 15601 & 25210 & 25516 & 29183 & 43513 & 140102\\\\\n",
       "\t 2018                                                                                                                                                            & 13268 & 24664 & 26843 & 31866 & 41344 & 139016\\\\\n",
       "\t 2019                                                                                                                                                            & 14499 & 26744 & 32992 & 39742 & 48461 & 165742\\\\\n",
       "\t 2020                                                                                                                                                            &  7490 & 10565 & 16199 & 12968 & 37887 &  88768\\\\\n",
       "\t Table information:                                                                                                                                              &    NA &    NA &    NA &    NA &    NA &     NA\\\\\n",
       "\t Units:                                                                                                                                                          &    NA &    NA &    NA &    NA &    NA &     NA\\\\\n",
       "\t Number, Magnitude = Units                                                                                                                                       &    NA &    NA &    NA &    NA &    NA &     NA\\\\\n",
       "\t Footnotes:                                                                                                                                                      &    NA &    NA &    NA &    NA &    NA &     NA\\\\\n",
       "\t The standard error indicates the uncertainty of the provisional migration estimate. For example, the 95 percent confidence interval is +/-1.96 standard errors. &    NA &    NA &    NA &    NA &    NA &     NA\\\\\n",
       "\t These intervals reflect the model uncertainty, not the extent of future revisions to provisional data. Standard errors are non-additive.                        &    NA &    NA &    NA &    NA &    NA &     NA\\\\\n",
       "\t Owing to rounding, individual figures may not sum to stated totals.                                                                                             &    NA &    NA &    NA &    NA &    NA &     NA\\\\\n",
       "\t Visa type is available from July 2003                                                                                                                           &    NA &    NA &    NA &    NA &    NA &     NA\\\\\n",
       "\t The immigration visa type is that held or granted on arrival in New Zealand. People may change their visa type while still in New Zealand.                      &    NA &    NA &    NA &    NA &    NA &     NA\\\\\n",
       "\t                                                                                                                                                                 &    NA &    NA &    NA &    NA &    NA &     NA\\\\\n",
       "\t Symbols:                                                                                                                                                        &    NA &    NA &    NA &    NA &    NA &     NA\\\\\n",
       "\t .. figure not available                                                                                                                                         &    NA &    NA &    NA &    NA &    NA &     NA\\\\\n",
       "\t C: Confidential                                                                                                                                                 &    NA &    NA &    NA &    NA &    NA &     NA\\\\\n",
       "\t E: Early Estimate                                                                                                                                               &    NA &    NA &    NA &    NA &    NA &     NA\\\\\n",
       "\t P: Provisional                                                                                                                                                  &    NA &    NA &    NA &    NA &    NA &     NA\\\\\n",
       "\t R: Revised                                                                                                                                                      &    NA &    NA &    NA &    NA &    NA &     NA\\\\\n",
       "\t S: Suppressed                                                                                                                                                   &    NA &    NA &    NA &    NA &    NA &     NA\\\\\n",
       "\t Status flags are not displayed                                                                                                                                  &    NA &    NA &    NA &    NA &    NA &     NA\\\\\n",
       "\t Table reference:                                                                                                                                                &    NA &    NA &    NA &    NA &    NA &     NA\\\\\n",
       "\t ITM492AA                                                                                                                                                        &    NA &    NA &    NA &    NA &    NA &     NA\\\\\n",
       "\t Last updated:                                                                                                                                                   &    NA &    NA &    NA &    NA &    NA &     NA\\\\\n",
       "\t 10 September 2021 10:45am                                                                                                                                       &    NA &    NA &    NA &    NA &    NA &     NA\\\\\n",
       "\t Source: Statistics New Zealand                                                                                                                                  &    NA &    NA &    NA &    NA &    NA &     NA\\\\\n",
       "\t Contact: Information Centre                                                                                                                                     &    NA &    NA &    NA &    NA &    NA &     NA\\\\\n",
       "\t Telephone: 0508 525 525                                                                                                                                         &    NA &    NA &    NA &    NA &    NA &     NA\\\\\n",
       "\t Email:info@stats.govt.nz                                                                                                                                        &    NA &    NA &    NA &    NA &    NA &     NA\\\\\n",
       "\\end{tabular}\n"
      ],
      "text/markdown": [
       "\n",
       "A data.frame: 42 × 7\n",
       "\n",
       "| X. &lt;chr&gt; | Estimate &lt;int&gt; | Estimate.1 &lt;int&gt; | Estimate.2 &lt;int&gt; | Estimate.3 &lt;int&gt; | Estimate.4 &lt;int&gt; | Estimate.6 &lt;int&gt; |\n",
       "|---|---|---|---|---|---|---|\n",
       "| 2005                                                                                                                                                            | 18457 |  8058 | 28609 | 11221 | 36478 | 103982 |\n",
       "| 2006                                                                                                                                                            | 19367 |  9534 | 30498 | 13882 | 36177 | 110687 |\n",
       "| 2007                                                                                                                                                            | 16758 | 12563 | 32118 | 15900 | 34982 | 113450 |\n",
       "| 2008                                                                                                                                                            | 15965 | 16214 | 33620 | 17451 | 35237 | 119994 |\n",
       "| 2009                                                                                                                                                            | 14818 | 16114 | 23731 | 14731 | 37349 | 108265 |\n",
       "| 2010                                                                                                                                                            | 13535 | 17015 | 19840 | 13406 | 35613 | 100499 |\n",
       "| 2011                                                                                                                                                            | 13784 | 16774 | 19689 | 15603 | 33261 | 100206 |\n",
       "| 2012                                                                                                                                                            | 13852 | 16145 | 18092 | 17705 | 34685 | 101762 |\n",
       "| 2013                                                                                                                                                            | 13508 | 16444 | 18102 | 20317 | 40520 | 110282 |\n",
       "| 2014                                                                                                                                                            | 14511 | 25323 | 21269 | 22026 | 43572 | 128180 |\n",
       "| 2015                                                                                                                                                            | 14982 | 30062 | 23545 | 24926 | 45165 | 140125 |\n",
       "| 2016                                                                                                                                                            | 17161 | 25866 | 26814 | 26111 | 45996 | 143124 |\n",
       "| 2017                                                                                                                                                            | 15601 | 25210 | 25516 | 29183 | 43513 | 140102 |\n",
       "| 2018                                                                                                                                                            | 13268 | 24664 | 26843 | 31866 | 41344 | 139016 |\n",
       "| 2019                                                                                                                                                            | 14499 | 26744 | 32992 | 39742 | 48461 | 165742 |\n",
       "| 2020                                                                                                                                                            |  7490 | 10565 | 16199 | 12968 | 37887 |  88768 |\n",
       "| Table information:                                                                                                                                              |    NA |    NA |    NA |    NA |    NA |     NA |\n",
       "| Units:                                                                                                                                                          |    NA |    NA |    NA |    NA |    NA |     NA |\n",
       "| Number, Magnitude = Units                                                                                                                                       |    NA |    NA |    NA |    NA |    NA |     NA |\n",
       "| Footnotes:                                                                                                                                                      |    NA |    NA |    NA |    NA |    NA |     NA |\n",
       "| The standard error indicates the uncertainty of the provisional migration estimate. For example, the 95 percent confidence interval is +/-1.96 standard errors. |    NA |    NA |    NA |    NA |    NA |     NA |\n",
       "| These intervals reflect the model uncertainty, not the extent of future revisions to provisional data. Standard errors are non-additive.                        |    NA |    NA |    NA |    NA |    NA |     NA |\n",
       "| Owing to rounding, individual figures may not sum to stated totals.                                                                                             |    NA |    NA |    NA |    NA |    NA |     NA |\n",
       "| Visa type is available from July 2003                                                                                                                           |    NA |    NA |    NA |    NA |    NA |     NA |\n",
       "| The immigration visa type is that held or granted on arrival in New Zealand. People may change their visa type while still in New Zealand.                      |    NA |    NA |    NA |    NA |    NA |     NA |\n",
       "| <!----> |    NA |    NA |    NA |    NA |    NA |     NA |\n",
       "| Symbols:                                                                                                                                                        |    NA |    NA |    NA |    NA |    NA |     NA |\n",
       "| .. figure not available                                                                                                                                         |    NA |    NA |    NA |    NA |    NA |     NA |\n",
       "| C: Confidential                                                                                                                                                 |    NA |    NA |    NA |    NA |    NA |     NA |\n",
       "| E: Early Estimate                                                                                                                                               |    NA |    NA |    NA |    NA |    NA |     NA |\n",
       "| P: Provisional                                                                                                                                                  |    NA |    NA |    NA |    NA |    NA |     NA |\n",
       "| R: Revised                                                                                                                                                      |    NA |    NA |    NA |    NA |    NA |     NA |\n",
       "| S: Suppressed                                                                                                                                                   |    NA |    NA |    NA |    NA |    NA |     NA |\n",
       "| Status flags are not displayed                                                                                                                                  |    NA |    NA |    NA |    NA |    NA |     NA |\n",
       "| Table reference:                                                                                                                                                |    NA |    NA |    NA |    NA |    NA |     NA |\n",
       "| ITM492AA                                                                                                                                                        |    NA |    NA |    NA |    NA |    NA |     NA |\n",
       "| Last updated:                                                                                                                                                   |    NA |    NA |    NA |    NA |    NA |     NA |\n",
       "| 10 September 2021 10:45am                                                                                                                                       |    NA |    NA |    NA |    NA |    NA |     NA |\n",
       "| Source: Statistics New Zealand                                                                                                                                  |    NA |    NA |    NA |    NA |    NA |     NA |\n",
       "| Contact: Information Centre                                                                                                                                     |    NA |    NA |    NA |    NA |    NA |     NA |\n",
       "| Telephone: 0508 525 525                                                                                                                                         |    NA |    NA |    NA |    NA |    NA |     NA |\n",
       "| Email:info@stats.govt.nz                                                                                                                                        |    NA |    NA |    NA |    NA |    NA |     NA |\n",
       "\n"
      ],
      "text/plain": [
       "   X.                                                                                                                                                             \n",
       "1  2005                                                                                                                                                           \n",
       "2  2006                                                                                                                                                           \n",
       "3  2007                                                                                                                                                           \n",
       "4  2008                                                                                                                                                           \n",
       "5  2009                                                                                                                                                           \n",
       "6  2010                                                                                                                                                           \n",
       "7  2011                                                                                                                                                           \n",
       "8  2012                                                                                                                                                           \n",
       "9  2013                                                                                                                                                           \n",
       "10 2014                                                                                                                                                           \n",
       "11 2015                                                                                                                                                           \n",
       "12 2016                                                                                                                                                           \n",
       "13 2017                                                                                                                                                           \n",
       "14 2018                                                                                                                                                           \n",
       "15 2019                                                                                                                                                           \n",
       "16 2020                                                                                                                                                           \n",
       "17 Table information:                                                                                                                                             \n",
       "18 Units:                                                                                                                                                         \n",
       "19 Number, Magnitude = Units                                                                                                                                      \n",
       "20 Footnotes:                                                                                                                                                     \n",
       "21 The standard error indicates the uncertainty of the provisional migration estimate. For example, the 95 percent confidence interval is +/-1.96 standard errors.\n",
       "22 These intervals reflect the model uncertainty, not the extent of future revisions to provisional data. Standard errors are non-additive.                       \n",
       "23 Owing to rounding, individual figures may not sum to stated totals.                                                                                            \n",
       "24 Visa type is available from July 2003                                                                                                                          \n",
       "25 The immigration visa type is that held or granted on arrival in New Zealand. People may change their visa type while still in New Zealand.                     \n",
       "26                                                                                                                                                                \n",
       "27 Symbols:                                                                                                                                                       \n",
       "28 .. figure not available                                                                                                                                        \n",
       "29 C: Confidential                                                                                                                                                \n",
       "30 E: Early Estimate                                                                                                                                              \n",
       "31 P: Provisional                                                                                                                                                 \n",
       "32 R: Revised                                                                                                                                                     \n",
       "33 S: Suppressed                                                                                                                                                  \n",
       "34 Status flags are not displayed                                                                                                                                 \n",
       "35 Table reference:                                                                                                                                               \n",
       "36 ITM492AA                                                                                                                                                       \n",
       "37 Last updated:                                                                                                                                                  \n",
       "38 10 September 2021 10:45am                                                                                                                                      \n",
       "39 Source: Statistics New Zealand                                                                                                                                 \n",
       "40 Contact: Information Centre                                                                                                                                    \n",
       "41 Telephone: 0508 525 525                                                                                                                                        \n",
       "42 Email:info@stats.govt.nz                                                                                                                                       \n",
       "   Estimate Estimate.1 Estimate.2 Estimate.3 Estimate.4 Estimate.6\n",
       "1  18457     8058      28609      11221      36478      103982    \n",
       "2  19367     9534      30498      13882      36177      110687    \n",
       "3  16758    12563      32118      15900      34982      113450    \n",
       "4  15965    16214      33620      17451      35237      119994    \n",
       "5  14818    16114      23731      14731      37349      108265    \n",
       "6  13535    17015      19840      13406      35613      100499    \n",
       "7  13784    16774      19689      15603      33261      100206    \n",
       "8  13852    16145      18092      17705      34685      101762    \n",
       "9  13508    16444      18102      20317      40520      110282    \n",
       "10 14511    25323      21269      22026      43572      128180    \n",
       "11 14982    30062      23545      24926      45165      140125    \n",
       "12 17161    25866      26814      26111      45996      143124    \n",
       "13 15601    25210      25516      29183      43513      140102    \n",
       "14 13268    24664      26843      31866      41344      139016    \n",
       "15 14499    26744      32992      39742      48461      165742    \n",
       "16  7490    10565      16199      12968      37887       88768    \n",
       "17    NA       NA         NA         NA         NA          NA    \n",
       "18    NA       NA         NA         NA         NA          NA    \n",
       "19    NA       NA         NA         NA         NA          NA    \n",
       "20    NA       NA         NA         NA         NA          NA    \n",
       "21    NA       NA         NA         NA         NA          NA    \n",
       "22    NA       NA         NA         NA         NA          NA    \n",
       "23    NA       NA         NA         NA         NA          NA    \n",
       "24    NA       NA         NA         NA         NA          NA    \n",
       "25    NA       NA         NA         NA         NA          NA    \n",
       "26    NA       NA         NA         NA         NA          NA    \n",
       "27    NA       NA         NA         NA         NA          NA    \n",
       "28    NA       NA         NA         NA         NA          NA    \n",
       "29    NA       NA         NA         NA         NA          NA    \n",
       "30    NA       NA         NA         NA         NA          NA    \n",
       "31    NA       NA         NA         NA         NA          NA    \n",
       "32    NA       NA         NA         NA         NA          NA    \n",
       "33    NA       NA         NA         NA         NA          NA    \n",
       "34    NA       NA         NA         NA         NA          NA    \n",
       "35    NA       NA         NA         NA         NA          NA    \n",
       "36    NA       NA         NA         NA         NA          NA    \n",
       "37    NA       NA         NA         NA         NA          NA    \n",
       "38    NA       NA         NA         NA         NA          NA    \n",
       "39    NA       NA         NA         NA         NA          NA    \n",
       "40    NA       NA         NA         NA         NA          NA    \n",
       "41    NA       NA         NA         NA         NA          NA    \n",
       "42    NA       NA         NA         NA         NA          NA    "
      ]
     },
     "metadata": {},
     "output_type": "display_data"
    }
   ],
   "source": [
    "migrant <- read.csv(file=\"migrant1.csv\", skip = 5)\n",
    "migrant <- migrant[,-7]\n",
    "migrant"
   ]
  },
  {
   "cell_type": "code",
   "execution_count": 6,
   "id": "e34a19a4-be98-454b-ade7-b95464f2539e",
   "metadata": {},
   "outputs": [],
   "source": [
    "migrant <- read.csv(file=\"migrant1.csv\", skip = 5)\n",
    "migrant <- migrant[,-7]\n",
    "migrant <- migrant %>% rename(year = X., Residence_Permanent_Residence = Estimate,\n",
    "                             Student_Permanent_Residence= Estimate.1,\n",
    "                             Visitor_Permanent_Residence = Estimate.2,\n",
    "                             Work_Permanent_Residence = Estimate.3,\n",
    "                             New_Zealand_and_Australian_citizens = Estimate.4,\n",
    "                             TOTAL = Estimate.6)\n",
    "migrant <- migrant %>% slice(1:16)\n",
    "write.csv(migrant, file = \"migrant_1.csv\")"
   ]
  },
  {
   "cell_type": "code",
   "execution_count": 7,
   "id": "94746c73-cc2b-4313-8487-141bfcea6f83",
   "metadata": {},
   "outputs": [
    {
     "data": {
      "text/html": [
       "<table class=\"dataframe\">\n",
       "<caption>A data.frame: 16 × 7</caption>\n",
       "<thead>\n",
       "\t<tr><th scope=col>year</th><th scope=col>Residence_Permanent_Residence</th><th scope=col>Student_Permanent_Residence</th><th scope=col>Visitor_Permanent_Residence</th><th scope=col>Work_Permanent_Residence</th><th scope=col>New_Zealand_and_Australian_citizens</th><th scope=col>TOTAL</th></tr>\n",
       "\t<tr><th scope=col>&lt;chr&gt;</th><th scope=col>&lt;int&gt;</th><th scope=col>&lt;int&gt;</th><th scope=col>&lt;int&gt;</th><th scope=col>&lt;int&gt;</th><th scope=col>&lt;int&gt;</th><th scope=col>&lt;int&gt;</th></tr>\n",
       "</thead>\n",
       "<tbody>\n",
       "\t<tr><td>2005</td><td>18457</td><td> 8058</td><td>28609</td><td>11221</td><td>36478</td><td>103982</td></tr>\n",
       "\t<tr><td>2006</td><td>19367</td><td> 9534</td><td>30498</td><td>13882</td><td>36177</td><td>110687</td></tr>\n",
       "\t<tr><td>2007</td><td>16758</td><td>12563</td><td>32118</td><td>15900</td><td>34982</td><td>113450</td></tr>\n",
       "\t<tr><td>2008</td><td>15965</td><td>16214</td><td>33620</td><td>17451</td><td>35237</td><td>119994</td></tr>\n",
       "\t<tr><td>2009</td><td>14818</td><td>16114</td><td>23731</td><td>14731</td><td>37349</td><td>108265</td></tr>\n",
       "\t<tr><td>2010</td><td>13535</td><td>17015</td><td>19840</td><td>13406</td><td>35613</td><td>100499</td></tr>\n",
       "\t<tr><td>2011</td><td>13784</td><td>16774</td><td>19689</td><td>15603</td><td>33261</td><td>100206</td></tr>\n",
       "\t<tr><td>2012</td><td>13852</td><td>16145</td><td>18092</td><td>17705</td><td>34685</td><td>101762</td></tr>\n",
       "\t<tr><td>2013</td><td>13508</td><td>16444</td><td>18102</td><td>20317</td><td>40520</td><td>110282</td></tr>\n",
       "\t<tr><td>2014</td><td>14511</td><td>25323</td><td>21269</td><td>22026</td><td>43572</td><td>128180</td></tr>\n",
       "\t<tr><td>2015</td><td>14982</td><td>30062</td><td>23545</td><td>24926</td><td>45165</td><td>140125</td></tr>\n",
       "\t<tr><td>2016</td><td>17161</td><td>25866</td><td>26814</td><td>26111</td><td>45996</td><td>143124</td></tr>\n",
       "\t<tr><td>2017</td><td>15601</td><td>25210</td><td>25516</td><td>29183</td><td>43513</td><td>140102</td></tr>\n",
       "\t<tr><td>2018</td><td>13268</td><td>24664</td><td>26843</td><td>31866</td><td>41344</td><td>139016</td></tr>\n",
       "\t<tr><td>2019</td><td>14499</td><td>26744</td><td>32992</td><td>39742</td><td>48461</td><td>165742</td></tr>\n",
       "\t<tr><td>2020</td><td> 7490</td><td>10565</td><td>16199</td><td>12968</td><td>37887</td><td> 88768</td></tr>\n",
       "</tbody>\n",
       "</table>\n"
      ],
      "text/latex": [
       "A data.frame: 16 × 7\n",
       "\\begin{tabular}{lllllll}\n",
       " year & Residence\\_Permanent\\_Residence & Student\\_Permanent\\_Residence & Visitor\\_Permanent\\_Residence & Work\\_Permanent\\_Residence & New\\_Zealand\\_and\\_Australian\\_citizens & TOTAL\\\\\n",
       " <chr> & <int> & <int> & <int> & <int> & <int> & <int>\\\\\n",
       "\\hline\n",
       "\t 2005 & 18457 &  8058 & 28609 & 11221 & 36478 & 103982\\\\\n",
       "\t 2006 & 19367 &  9534 & 30498 & 13882 & 36177 & 110687\\\\\n",
       "\t 2007 & 16758 & 12563 & 32118 & 15900 & 34982 & 113450\\\\\n",
       "\t 2008 & 15965 & 16214 & 33620 & 17451 & 35237 & 119994\\\\\n",
       "\t 2009 & 14818 & 16114 & 23731 & 14731 & 37349 & 108265\\\\\n",
       "\t 2010 & 13535 & 17015 & 19840 & 13406 & 35613 & 100499\\\\\n",
       "\t 2011 & 13784 & 16774 & 19689 & 15603 & 33261 & 100206\\\\\n",
       "\t 2012 & 13852 & 16145 & 18092 & 17705 & 34685 & 101762\\\\\n",
       "\t 2013 & 13508 & 16444 & 18102 & 20317 & 40520 & 110282\\\\\n",
       "\t 2014 & 14511 & 25323 & 21269 & 22026 & 43572 & 128180\\\\\n",
       "\t 2015 & 14982 & 30062 & 23545 & 24926 & 45165 & 140125\\\\\n",
       "\t 2016 & 17161 & 25866 & 26814 & 26111 & 45996 & 143124\\\\\n",
       "\t 2017 & 15601 & 25210 & 25516 & 29183 & 43513 & 140102\\\\\n",
       "\t 2018 & 13268 & 24664 & 26843 & 31866 & 41344 & 139016\\\\\n",
       "\t 2019 & 14499 & 26744 & 32992 & 39742 & 48461 & 165742\\\\\n",
       "\t 2020 &  7490 & 10565 & 16199 & 12968 & 37887 &  88768\\\\\n",
       "\\end{tabular}\n"
      ],
      "text/markdown": [
       "\n",
       "A data.frame: 16 × 7\n",
       "\n",
       "| year &lt;chr&gt; | Residence_Permanent_Residence &lt;int&gt; | Student_Permanent_Residence &lt;int&gt; | Visitor_Permanent_Residence &lt;int&gt; | Work_Permanent_Residence &lt;int&gt; | New_Zealand_and_Australian_citizens &lt;int&gt; | TOTAL &lt;int&gt; |\n",
       "|---|---|---|---|---|---|---|\n",
       "| 2005 | 18457 |  8058 | 28609 | 11221 | 36478 | 103982 |\n",
       "| 2006 | 19367 |  9534 | 30498 | 13882 | 36177 | 110687 |\n",
       "| 2007 | 16758 | 12563 | 32118 | 15900 | 34982 | 113450 |\n",
       "| 2008 | 15965 | 16214 | 33620 | 17451 | 35237 | 119994 |\n",
       "| 2009 | 14818 | 16114 | 23731 | 14731 | 37349 | 108265 |\n",
       "| 2010 | 13535 | 17015 | 19840 | 13406 | 35613 | 100499 |\n",
       "| 2011 | 13784 | 16774 | 19689 | 15603 | 33261 | 100206 |\n",
       "| 2012 | 13852 | 16145 | 18092 | 17705 | 34685 | 101762 |\n",
       "| 2013 | 13508 | 16444 | 18102 | 20317 | 40520 | 110282 |\n",
       "| 2014 | 14511 | 25323 | 21269 | 22026 | 43572 | 128180 |\n",
       "| 2015 | 14982 | 30062 | 23545 | 24926 | 45165 | 140125 |\n",
       "| 2016 | 17161 | 25866 | 26814 | 26111 | 45996 | 143124 |\n",
       "| 2017 | 15601 | 25210 | 25516 | 29183 | 43513 | 140102 |\n",
       "| 2018 | 13268 | 24664 | 26843 | 31866 | 41344 | 139016 |\n",
       "| 2019 | 14499 | 26744 | 32992 | 39742 | 48461 | 165742 |\n",
       "| 2020 |  7490 | 10565 | 16199 | 12968 | 37887 |  88768 |\n",
       "\n"
      ],
      "text/plain": [
       "   year Residence_Permanent_Residence Student_Permanent_Residence\n",
       "1  2005 18457                          8058                      \n",
       "2  2006 19367                          9534                      \n",
       "3  2007 16758                         12563                      \n",
       "4  2008 15965                         16214                      \n",
       "5  2009 14818                         16114                      \n",
       "6  2010 13535                         17015                      \n",
       "7  2011 13784                         16774                      \n",
       "8  2012 13852                         16145                      \n",
       "9  2013 13508                         16444                      \n",
       "10 2014 14511                         25323                      \n",
       "11 2015 14982                         30062                      \n",
       "12 2016 17161                         25866                      \n",
       "13 2017 15601                         25210                      \n",
       "14 2018 13268                         24664                      \n",
       "15 2019 14499                         26744                      \n",
       "16 2020  7490                         10565                      \n",
       "   Visitor_Permanent_Residence Work_Permanent_Residence\n",
       "1  28609                       11221                   \n",
       "2  30498                       13882                   \n",
       "3  32118                       15900                   \n",
       "4  33620                       17451                   \n",
       "5  23731                       14731                   \n",
       "6  19840                       13406                   \n",
       "7  19689                       15603                   \n",
       "8  18092                       17705                   \n",
       "9  18102                       20317                   \n",
       "10 21269                       22026                   \n",
       "11 23545                       24926                   \n",
       "12 26814                       26111                   \n",
       "13 25516                       29183                   \n",
       "14 26843                       31866                   \n",
       "15 32992                       39742                   \n",
       "16 16199                       12968                   \n",
       "   New_Zealand_and_Australian_citizens TOTAL \n",
       "1  36478                               103982\n",
       "2  36177                               110687\n",
       "3  34982                               113450\n",
       "4  35237                               119994\n",
       "5  37349                               108265\n",
       "6  35613                               100499\n",
       "7  33261                               100206\n",
       "8  34685                               101762\n",
       "9  40520                               110282\n",
       "10 43572                               128180\n",
       "11 45165                               140125\n",
       "12 45996                               143124\n",
       "13 43513                               140102\n",
       "14 41344                               139016\n",
       "15 48461                               165742\n",
       "16 37887                                88768"
      ]
     },
     "metadata": {},
     "output_type": "display_data"
    },
    {
     "ename": "ERROR",
     "evalue": "Error in eval(expr, envir, enclos): object 'change_rate' not found\n",
     "output_type": "error",
     "traceback": [
      "Error in eval(expr, envir, enclos): object 'change_rate' not found\nTraceback:\n"
     ]
    }
   ],
   "source": [
    "migrant\n",
    "change_rate\n",
    "population"
   ]
  },
  {
   "cell_type": "code",
   "execution_count": 8,
   "id": "aa49d0c6-18c7-4c17-b31d-b79593e48bfa",
   "metadata": {},
   "outputs": [
    {
     "ename": "ERROR",
     "evalue": "Error in as.data.frame(y): object 'change_rate' not found\n",
     "output_type": "error",
     "traceback": [
      "Error in as.data.frame(y): object 'change_rate' not found\nTraceback:\n",
      "1. merge(population, change_rate)",
      "2. merge.data.frame(population, change_rate)",
      "3. nrow(y <- as.data.frame(y))",
      "4. as.data.frame(y)"
     ]
    }
   ],
   "source": [
    "population <- population %>% mutate(year = c(2005,2006,2007,2008,2009,2010,2011,2012,2013,2014,2015,2016, 2017,2018,2019,2020))\n",
    "population_change_rate <- merge(population, change_rate)\n",
    "population_change_rate <- population_change_rate %>% rename(total_population = Total)"
   ]
  },
  {
   "cell_type": "code",
   "execution_count": 9,
   "id": "a4c17b2f-841d-4c40-927a-849adbd8ed1d",
   "metadata": {},
   "outputs": [
    {
     "ename": "ERROR",
     "evalue": "Error in is.data.frame(x): object 'population_change_rate' not found\n",
     "output_type": "error",
     "traceback": [
      "Error in is.data.frame(x): object 'population_change_rate' not found\nTraceback:\n",
      "1. write.csv(population_change_rate, file = \"population_change_rate.csv\")",
      "2. eval.parent(Call)",
      "3. eval(expr, p)",
      "4. eval(expr, p)",
      "5. write.table(population_change_rate, file = \"population_change_rate.csv\", \n .     col.names = NA, sep = \",\", dec = \".\", qmethod = \"double\")",
      "6. is.data.frame(x)"
     ]
    }
   ],
   "source": [
    "write.csv(population_change_rate, file = \"population_change_rate.csv\") "
   ]
  },
  {
   "cell_type": "code",
   "execution_count": 14,
   "id": "6cf1d084-0d55-41c3-9d7a-50fd06d3f066",
   "metadata": {},
   "outputs": [
    {
     "data": {
      "text/html": [
       "<table class=\"dataframe\">\n",
       "<caption>A data.frame: 15 × 8</caption>\n",
       "<thead>\n",
       "\t<tr><th scope=col>X1</th><th scope=col>X2005</th><th scope=col>X151000</th><th scope=col>X1348900</th><th scope=col>X461600</th><th scope=col>X43000</th><th scope=col>X531900</th><th scope=col>X3145400</th></tr>\n",
       "\t<tr><th scope=col>&lt;int&gt;</th><th scope=col>&lt;int&gt;</th><th scope=col>&lt;int&gt;</th><th scope=col>&lt;int&gt;</th><th scope=col>&lt;int&gt;</th><th scope=col>&lt;int&gt;</th><th scope=col>&lt;int&gt;</th><th scope=col>&lt;int&gt;</th></tr>\n",
       "</thead>\n",
       "<tbody>\n",
       "\t<tr><td> 2</td><td>2006</td><td>152700</td><td>1373000</td><td>466300</td><td>43600</td><td>540000</td><td>3185100</td></tr>\n",
       "\t<tr><td> 3</td><td>2007</td><td>154700</td><td>1390400</td><td>469300</td><td>43800</td><td>547400</td><td>3214700</td></tr>\n",
       "\t<tr><td> 4</td><td>2008</td><td>156300</td><td>1405500</td><td>471800</td><td>44200</td><td>553800</td><td>3241700</td></tr>\n",
       "\t<tr><td> 5</td><td>2009</td><td>158200</td><td>1421700</td><td>475600</td><td>44400</td><td>560600</td><td>3274500</td></tr>\n",
       "\t<tr><td> 6</td><td>2010</td><td>160600</td><td>1439600</td><td>479400</td><td>44600</td><td>567700</td><td>3311700</td></tr>\n",
       "\t<tr><td> 7</td><td>2011</td><td>162500</td><td>1459600</td><td>483400</td><td>44700</td><td>559300</td><td>3348100</td></tr>\n",
       "\t<tr><td> 8</td><td>2012</td><td>163500</td><td>1476500</td><td>485100</td><td>44600</td><td>556000</td><td>3373700</td></tr>\n",
       "\t<tr><td> 9</td><td>2013</td><td>164700</td><td>1493200</td><td>486700</td><td>44700</td><td>562900</td><td>3398700</td></tr>\n",
       "\t<tr><td>10</td><td>2014</td><td>168200</td><td>1520400</td><td>493800</td><td>45400</td><td>570600</td><td>3458300</td></tr>\n",
       "\t<tr><td>11</td><td>2015</td><td>172100</td><td>1552800</td><td>501800</td><td>46200</td><td>585600</td><td>3527700</td></tr>\n",
       "\t<tr><td>12</td><td>2016</td><td>176400</td><td>1589800</td><td>510700</td><td>47100</td><td>601900</td><td>3606300</td></tr>\n",
       "\t<tr><td>13</td><td>2017</td><td>181200</td><td>1625100</td><td>518300</td><td>47900</td><td>614300</td><td>3684400</td></tr>\n",
       "\t<tr><td>14</td><td>2018</td><td>185800</td><td>1654800</td><td>525900</td><td>48700</td><td>622800</td><td>3753700</td></tr>\n",
       "\t<tr><td>15</td><td>2019</td><td>189600</td><td>1680500</td><td>532600</td><td>49400</td><td>632300</td><td>3814800</td></tr>\n",
       "\t<tr><td>16</td><td>2020</td><td>194600</td><td>1717500</td><td>542000</td><td>50200</td><td>645900</td><td>3896200</td></tr>\n",
       "</tbody>\n",
       "</table>\n"
      ],
      "text/latex": [
       "A data.frame: 15 × 8\n",
       "\\begin{tabular}{llllllll}\n",
       " X1 & X2005 & X151000 & X1348900 & X461600 & X43000 & X531900 & X3145400\\\\\n",
       " <int> & <int> & <int> & <int> & <int> & <int> & <int> & <int>\\\\\n",
       "\\hline\n",
       "\t  2 & 2006 & 152700 & 1373000 & 466300 & 43600 & 540000 & 3185100\\\\\n",
       "\t  3 & 2007 & 154700 & 1390400 & 469300 & 43800 & 547400 & 3214700\\\\\n",
       "\t  4 & 2008 & 156300 & 1405500 & 471800 & 44200 & 553800 & 3241700\\\\\n",
       "\t  5 & 2009 & 158200 & 1421700 & 475600 & 44400 & 560600 & 3274500\\\\\n",
       "\t  6 & 2010 & 160600 & 1439600 & 479400 & 44600 & 567700 & 3311700\\\\\n",
       "\t  7 & 2011 & 162500 & 1459600 & 483400 & 44700 & 559300 & 3348100\\\\\n",
       "\t  8 & 2012 & 163500 & 1476500 & 485100 & 44600 & 556000 & 3373700\\\\\n",
       "\t  9 & 2013 & 164700 & 1493200 & 486700 & 44700 & 562900 & 3398700\\\\\n",
       "\t 10 & 2014 & 168200 & 1520400 & 493800 & 45400 & 570600 & 3458300\\\\\n",
       "\t 11 & 2015 & 172100 & 1552800 & 501800 & 46200 & 585600 & 3527700\\\\\n",
       "\t 12 & 2016 & 176400 & 1589800 & 510700 & 47100 & 601900 & 3606300\\\\\n",
       "\t 13 & 2017 & 181200 & 1625100 & 518300 & 47900 & 614300 & 3684400\\\\\n",
       "\t 14 & 2018 & 185800 & 1654800 & 525900 & 48700 & 622800 & 3753700\\\\\n",
       "\t 15 & 2019 & 189600 & 1680500 & 532600 & 49400 & 632300 & 3814800\\\\\n",
       "\t 16 & 2020 & 194600 & 1717500 & 542000 & 50200 & 645900 & 3896200\\\\\n",
       "\\end{tabular}\n"
      ],
      "text/markdown": [
       "\n",
       "A data.frame: 15 × 8\n",
       "\n",
       "| X1 &lt;int&gt; | X2005 &lt;int&gt; | X151000 &lt;int&gt; | X1348900 &lt;int&gt; | X461600 &lt;int&gt; | X43000 &lt;int&gt; | X531900 &lt;int&gt; | X3145400 &lt;int&gt; |\n",
       "|---|---|---|---|---|---|---|---|\n",
       "|  2 | 2006 | 152700 | 1373000 | 466300 | 43600 | 540000 | 3185100 |\n",
       "|  3 | 2007 | 154700 | 1390400 | 469300 | 43800 | 547400 | 3214700 |\n",
       "|  4 | 2008 | 156300 | 1405500 | 471800 | 44200 | 553800 | 3241700 |\n",
       "|  5 | 2009 | 158200 | 1421700 | 475600 | 44400 | 560600 | 3274500 |\n",
       "|  6 | 2010 | 160600 | 1439600 | 479400 | 44600 | 567700 | 3311700 |\n",
       "|  7 | 2011 | 162500 | 1459600 | 483400 | 44700 | 559300 | 3348100 |\n",
       "|  8 | 2012 | 163500 | 1476500 | 485100 | 44600 | 556000 | 3373700 |\n",
       "|  9 | 2013 | 164700 | 1493200 | 486700 | 44700 | 562900 | 3398700 |\n",
       "| 10 | 2014 | 168200 | 1520400 | 493800 | 45400 | 570600 | 3458300 |\n",
       "| 11 | 2015 | 172100 | 1552800 | 501800 | 46200 | 585600 | 3527700 |\n",
       "| 12 | 2016 | 176400 | 1589800 | 510700 | 47100 | 601900 | 3606300 |\n",
       "| 13 | 2017 | 181200 | 1625100 | 518300 | 47900 | 614300 | 3684400 |\n",
       "| 14 | 2018 | 185800 | 1654800 | 525900 | 48700 | 622800 | 3753700 |\n",
       "| 15 | 2019 | 189600 | 1680500 | 532600 | 49400 | 632300 | 3814800 |\n",
       "| 16 | 2020 | 194600 | 1717500 | 542000 | 50200 | 645900 | 3896200 |\n",
       "\n"
      ],
      "text/plain": [
       "   X1 X2005 X151000 X1348900 X461600 X43000 X531900 X3145400\n",
       "1   2 2006  152700  1373000  466300  43600  540000  3185100 \n",
       "2   3 2007  154700  1390400  469300  43800  547400  3214700 \n",
       "3   4 2008  156300  1405500  471800  44200  553800  3241700 \n",
       "4   5 2009  158200  1421700  475600  44400  560600  3274500 \n",
       "5   6 2010  160600  1439600  479400  44600  567700  3311700 \n",
       "6   7 2011  162500  1459600  483400  44700  559300  3348100 \n",
       "7   8 2012  163500  1476500  485100  44600  556000  3373700 \n",
       "8   9 2013  164700  1493200  486700  44700  562900  3398700 \n",
       "9  10 2014  168200  1520400  493800  45400  570600  3458300 \n",
       "10 11 2015  172100  1552800  501800  46200  585600  3527700 \n",
       "11 12 2016  176400  1589800  510700  47100  601900  3606300 \n",
       "12 13 2017  181200  1625100  518300  47900  614300  3684400 \n",
       "13 14 2018  185800  1654800  525900  48700  622800  3753700 \n",
       "14 15 2019  189600  1680500  532600  49400  632300  3814800 \n",
       "15 16 2020  194600  1717500  542000  50200  645900  3896200 "
      ]
     },
     "metadata": {},
     "output_type": "display_data"
    }
   ],
   "source": [
    "region_population <- read.csv(file=\"region_population.csv\", skip = 1)\n",
    "region_population"
   ]
  },
  {
   "cell_type": "code",
   "execution_count": 11,
   "id": "44797567-0e40-4790-a928-4a90adb9b633",
   "metadata": {},
   "outputs": [
    {
     "ename": "ERROR",
     "evalue": "Error in rename(., year = x): object 'region_population' not found\n",
     "output_type": "error",
     "traceback": [
      "Error in rename(., year = x): object 'region_population' not found\nTraceback:\n",
      "1. region_population %>% rename(year = x)",
      "2. rename(., year = x)"
     ]
    }
   ],
   "source": [
    "region_population <- region_population %>% rename(year = x)"
   ]
  },
  {
   "cell_type": "code",
   "execution_count": 12,
   "id": "fdd737b3-bbba-4c4f-90f3-7a837768fab8",
   "metadata": {},
   "outputs": [
    {
     "ename": "ERROR",
     "evalue": "Error in slice(., 1:16): object 'region_population' not found\n",
     "output_type": "error",
     "traceback": [
      "Error in slice(., 1:16): object 'region_population' not found\nTraceback:\n",
      "1. region_population %>% slice(1:16)",
      "2. slice(., 1:16)"
     ]
    }
   ],
   "source": [
    "region_population <- region_population %>% slice(1:16)\n",
    "region_population"
   ]
  },
  {
   "cell_type": "code",
   "execution_count": null,
   "id": "eed0e47a-b784-4e42-9905-490ab52dbb27",
   "metadata": {},
   "outputs": [],
   "source": []
  }
 ],
 "metadata": {
  "kernelspec": {
   "display_name": "R",
   "language": "R",
   "name": "ir"
  },
  "language_info": {
   "codemirror_mode": "r",
   "file_extension": ".r",
   "mimetype": "text/x-r-source",
   "name": "R",
   "pygments_lexer": "r",
   "version": "4.1.0"
  }
 },
 "nbformat": 4,
 "nbformat_minor": 5
}
