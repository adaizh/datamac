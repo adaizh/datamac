{
 "cells": [
  {
   "cell_type": "code",
   "execution_count": 1,
   "id": "d0a897c3-8ad6-4fd6-8485-0c39a4739811",
   "metadata": {},
   "outputs": [
    {
     "name": "stdout",
     "output_type": "stream",
     "text": [
      "\n",
      "The downloaded binary packages are in\n",
      "\t/var/folders/fd/ly5mksl541v526fd48sjdfcm0000gn/T//Rtmp2aqipc/downloaded_packages\n"
     ]
    },
    {
     "name": "stderr",
     "output_type": "stream",
     "text": [
      "Downloading GitHub repo chenthih/nzmentalquake@HEAD\n",
      "\n"
     ]
    },
    {
     "name": "stdout",
     "output_type": "stream",
     "text": [
      "rlang  (0.4.11 -> 0.4.12) [CRAN]\n",
      "pillar (1.6.3  -> 1.6.4 ) [CRAN]\n"
     ]
    },
    {
     "name": "stderr",
     "output_type": "stream",
     "text": [
      "Installing 2 packages: rlang, pillar\n",
      "\n"
     ]
    },
    {
     "name": "stdout",
     "output_type": "stream",
     "text": [
      "\n",
      "  There are binary versions available but the source versions are later:\n",
      "       binary source needs_compilation\n",
      "rlang  0.4.11 0.4.12              TRUE\n",
      "pillar  1.6.3  1.6.4             FALSE\n",
      "\n"
     ]
    },
    {
     "name": "stderr",
     "output_type": "stream",
     "text": [
      "installing the source packages ‘rlang’, ‘pillar’\n",
      "\n",
      "\n"
     ]
    },
    {
     "name": "stdout",
     "output_type": "stream",
     "text": [
      "\u001b[32m✔\u001b[39m  \u001b[90mchecking for file ‘/private/var/folders/fd/ly5mksl541v526fd48sjdfcm0000gn/T/Rtmp2aqipc/remotes11e546662ab98/chenthih-nzmentalquake-0b8491e/DESCRIPTION’\u001b[39m\u001b[36m\u001b[39m\n",
      "\u001b[90m─\u001b[39m\u001b[90m  \u001b[39m\u001b[90mpreparing ‘nzmentalquake’:\u001b[39m\u001b[36m\u001b[39m\n",
      "\u001b[32m✔\u001b[39m  \u001b[90mchecking DESCRIPTION meta-information\u001b[39m\u001b[36m\u001b[39m\n",
      "\u001b[90m─\u001b[39m\u001b[90m  \u001b[39m\u001b[90mchecking for LF line-endings in source and make files and shell scripts\u001b[39m\u001b[36m\u001b[39m\n",
      "\u001b[90m─\u001b[39m\u001b[90m  \u001b[39m\u001b[90mchecking for empty or unneeded directories\u001b[39m\u001b[36m\u001b[39m\n",
      "\u001b[90m─\u001b[39m\u001b[90m  \u001b[39m\u001b[90mbuilding ‘nzmentalquake_0.0.1.1000.tar.gz’\u001b[39m\u001b[36m\u001b[39m\n",
      "   \n",
      "\r"
     ]
    }
   ],
   "source": [
    "install.packages(\"remotes\")\n",
    "remotes::install_github(\"chenthih/nzmentalquake\")"
   ]
  },
  {
   "cell_type": "code",
   "execution_count": 9,
   "id": "c66d7828-a6f4-492f-a567-790344d0806b",
   "metadata": {},
   "outputs": [
    {
     "data": {
      "text/html": [
       "\n",
       "<table width=\"100%\" summary=\"page for population_dataset {nzmentalquake}\"><tr><td>population_dataset {nzmentalquake}</td><td style=\"text-align: right;\">R Documentation</td></tr></table>\n",
       "\n",
       "<h2>Data of Total Annual Population by Major Region in New Zealand</h2>\n",
       "\n",
       "<h3>Description</h3>\n",
       "\n",
       "<p>Simple population data\n",
       "</p>\n",
       "\n",
       "\n",
       "<h3>Usage</h3>\n",
       "\n",
       "<pre>\n",
       "population_dataset\n",
       "</pre>\n",
       "\n",
       "\n",
       "<h3>Format</h3>\n",
       "\n",
       "<p>An object of class <code>data.frame</code> with 48 rows and 5 columns.\n",
       "</p>\n",
       "\n",
       "\n",
       "<h3>Details</h3>\n",
       "\n",
       "<p>@format A tibble with 48 rows and 4 variables:\n",
       "</p>\n",
       "\n",
       "<dl>\n",
       "<dt>year</dt><dd><p>int year of the recorded total, ranging from 2005 to 2020</p>\n",
       "</dd>\n",
       "<dt>City</dt><dd><p>chr city of recorded population, either Auckland, Canterbury or Wellington</p>\n",
       "</dd>\n",
       "<dt>Total.Pop</dt><dd><p>int the total population of the city in the given year</p>\n",
       "</dd>\n",
       "<dt>Pop.change</dt><dd><p>int the difference in population from the previous year in the given city</p>\n",
       "</dd>\n",
       "</dl>\n",
       "\n",
       "\n",
       "\n",
       "<h3>Source</h3>\n",
       "\n",
       "<p><a href=\"http://infoshare.stats.govt.nz/Default.aspx#\">http://infoshare.stats.govt.nz/Default.aspx#</a>\n",
       "</p>\n",
       "\n",
       "<hr /><div style=\"text-align: center;\">[Package <em>nzmentalquake</em> version 0.0.1.1000 ]</div>"
      ],
      "text/latex": [
       "\\inputencoding{utf8}\n",
       "\\HeaderA{population\\_dataset}{Data of Total Annual Population by Major Region in New Zealand}{population.Rul.dataset}\n",
       "\\keyword{datasets}{population\\_dataset}\n",
       "%\n",
       "\\begin{Description}\\relax\n",
       "Simple population data\n",
       "\\end{Description}\n",
       "%\n",
       "\\begin{Usage}\n",
       "\\begin{verbatim}\n",
       "population_dataset\n",
       "\\end{verbatim}\n",
       "\\end{Usage}\n",
       "%\n",
       "\\begin{Format}\n",
       "An object of class \\code{data.frame} with 48 rows and 5 columns.\n",
       "\\end{Format}\n",
       "%\n",
       "\\begin{Details}\\relax\n",
       "@format A tibble with 48 rows and 4 variables:\n",
       "\\begin{description}\n",
       "\n",
       "\\item[year] int year of the recorded total, ranging from 2005 to 2020\n",
       "\\item[City] chr city of recorded population, either Auckland, Canterbury or Wellington\n",
       "\\item[Total.Pop] int the total population of the city in the given year\n",
       "\\item[Pop.change] int the difference in population from the previous year in the given city\n",
       "\n",
       "\\end{description}\n",
       "\n",
       "\\end{Details}\n",
       "%\n",
       "\\begin{Source}\\relax\n",
       "\\url{http://infoshare.stats.govt.nz/Default.aspx#}\n",
       "\\end{Source}"
      ],
      "text/plain": [
       "population_dataset        package:nzmentalquake        R Documentation\n",
       "\n",
       "_\bD_\ba_\bt_\ba _\bo_\bf _\bT_\bo_\bt_\ba_\bl _\bA_\bn_\bn_\bu_\ba_\bl _\bP_\bo_\bp_\bu_\bl_\ba_\bt_\bi_\bo_\bn _\bb_\by _\bM_\ba_\bj_\bo_\br _\bR_\be_\bg_\bi_\bo_\bn _\bi_\bn _\bN_\be_\bw _\bZ_\be_\ba_\bl_\ba_\bn_\bd\n",
       "\n",
       "_\bD_\be_\bs_\bc_\br_\bi_\bp_\bt_\bi_\bo_\bn:\n",
       "\n",
       "     Simple population data\n",
       "\n",
       "_\bU_\bs_\ba_\bg_\be:\n",
       "\n",
       "     population_dataset\n",
       "     \n",
       "_\bF_\bo_\br_\bm_\ba_\bt:\n",
       "\n",
       "     An object of class ‘data.frame’ with 48 rows and 5 columns.\n",
       "\n",
       "_\bD_\be_\bt_\ba_\bi_\bl_\bs:\n",
       "\n",
       "     @format A tibble with 48 rows and 4 variables:\n",
       "\n",
       "     year int year of the recorded total, ranging from 2005 to 2020\n",
       "\n",
       "     City chr city of recorded population, either Auckland, Canterbury\n",
       "          or Wellington\n",
       "\n",
       "     Total.Pop int the total population of the city in the given year\n",
       "\n",
       "     Pop.change int the difference in population from the previous year\n",
       "          in the given city\n",
       "\n",
       "_\bS_\bo_\bu_\br_\bc_\be:\n",
       "\n",
       "     <URL: http://infoshare.stats.govt.nz/Default.aspx#>\n"
      ]
     },
     "metadata": {},
     "output_type": "display_data"
    }
   ],
   "source": [
    "?nzmentalquake::population_dataset"
   ]
  },
  {
   "cell_type": "code",
   "execution_count": null,
   "id": "c426aa10-4160-46a7-8c23-4f2d11d90c28",
   "metadata": {},
   "outputs": [],
   "source": []
  }
 ],
 "metadata": {
  "kernelspec": {
   "display_name": "R",
   "language": "R",
   "name": "ir"
  },
  "language_info": {
   "codemirror_mode": "r",
   "file_extension": ".r",
   "mimetype": "text/x-r-source",
   "name": "R",
   "pygments_lexer": "r",
   "version": "4.1.0"
  }
 },
 "nbformat": 4,
 "nbformat_minor": 5
}
